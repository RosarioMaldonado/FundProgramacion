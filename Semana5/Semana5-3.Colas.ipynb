{
 "cells": [
  {
   "cell_type": "markdown",
   "id": "62a5f2f1",
   "metadata": {
    "slideshow": {
     "slide_type": "slide"
    }
   },
   "source": [
    "# 1. Introducción\n",
    "- Una cola (queue en inglés) es una lista ordenada o estructura de datos que permite almacenar y recuperar datos.\n",
    "- La cola presenta un modo de acceso a sus elementos de tipo FIFO (del inglés First In First Out, «Primero en entrar, primero en salir»).\n",
    "    -  __Encolar__: agrega un nuevo elemento al final de la cola.\n",
    "    -  __Desencolar__: elimina el primero de la cola y lo devuelve.\n",
    "\n",
    "<center><img src=\"Figures/S5-Encolando.png\" width=\"1000\" height=\"1100\"></center>"
   ]
  },
  {
   "cell_type": "markdown",
   "id": "e5d52a02",
   "metadata": {
    "slideshow": {
     "slide_type": "subslide"
    }
   },
   "source": [
    "# Utilidades de las Colas\n",
    "- Es especialmente útil en la programación en hilo cuando la información debe intercambiarse de forma segura entre varios subprocesos.\n",
    "- Atender solicitudes en un solo recurso compartido, como una impresora, programación de tareas de CPU, etc.\n",
    "- En el escenario de la vida real, los sistemas telefónicos del centro de llamadas utilizan Colas para mantener a las personas que las llaman en un orden, hasta que un representante de servicio está libre.\n",
    "- Manejo de interrupciones en sistemas en tiempo real. Las interrupciones se manejan en el mismo orden en que llegan, es decir, primero en llegar, primero en ser atendido.\n"
   ]
  },
  {
   "cell_type": "code",
   "execution_count": null,
   "id": "e11e54a7",
   "metadata": {
    "slideshow": {
     "slide_type": "fragment"
    }
   },
   "outputs": [],
   "source": [
    "from multiprocessing import Process\n",
    "\n",
    "def funcion1():\n",
    "    print(\"Ingresó por la función 1\")\n",
    "    x = 5 + principal()\n",
    "    return x\n",
    "    \n",
    "def funcion2():\n",
    "    print(\"Ingresó por la función 2\")\n",
    "    x = 3 + principal()\n",
    "    return x\n",
    "\n",
    "def principal():\n",
    "    print(\"Ingresó por el principal\")\n",
    "    x = 7\n",
    "    return x\n",
    "\n",
    "p = Process(target=funcion1())\n",
    "p.start()\n",
    "p2 = Process(target=funcion2())\n",
    "p2.start()\n",
    "\n",
    "p.join()\n",
    "p2.join()"
   ]
  },
  {
   "cell_type": "markdown",
   "id": "7908088f",
   "metadata": {},
   "source": [
    "# 1. Colas con listas"
   ]
  },
  {
   "cell_type": "code",
   "execution_count": null,
   "id": "ad7a7d27",
   "metadata": {},
   "outputs": [],
   "source": [
    "queue = []\n",
    "queue.append('a')\n",
    "queue.append('b')\n",
    "queue.append('c')\n",
    "print(queue)\n",
    "print(\"\\nElementos desencolados de la cola\")\n",
    "print(queue.pop(0))\n",
    "print(\"\\nDespués de eliminar los elementos\")\n",
    "print(queue)"
   ]
  },
  {
   "cell_type": "markdown",
   "id": "3cf78a3e",
   "metadata": {
    "slideshow": {
     "slide_type": "slide"
    }
   },
   "source": [
    "## Métodos de la clase Cola\n",
    "- __init__: Crea una cola vacía.\n",
    "- __encolar__: Agrega el elemento x como último de la cola.\n",
    "- __desencolar__: Elimina el primer elemento de la cola y devuelve su valor. Si la cola está vacía, levanta ValueError.\n",
    "- __es_vacia__: devuelve True o False según si la cola está vacía o no.\n",
    "- __muestraCola__: imprime lo que tiene la cola."
   ]
  },
  {
   "cell_type": "code",
   "execution_count": null,
   "id": "3835de11",
   "metadata": {
    "slideshow": {
     "slide_type": "fragment"
    }
   },
   "outputs": [],
   "source": [
    "class Cola:\n",
    "    def __init__(self):\n",
    "        self.items=[]\n",
    "    def encolar(self, x):\n",
    "        self.items.append(x)\n",
    "    def encolar(self, x):\n",
    "        self.items.append(x)\n",
    "    def desencolar(self):\n",
    "        try:\n",
    "            return self.items.pop(0)\n",
    "        except:\n",
    "            raise ValueError(\"La cola está vacía\")\n",
    "    def es_vacia(self):\n",
    "        return self.items == []\n",
    "    def muestraCola(self):\n",
    "        print(self.items)\n",
    "        \n",
    "q = Cola()\n",
    "print(\"Está vacía? \",q.es_vacia())\n",
    "\n",
    "q.encolar(1)\n",
    "q.encolar(2)\n",
    "q.encolar(3)\n",
    "q.muestraCola()\n",
    "print(\"Está vacía? \",q.es_vacia())\n",
    "q.desencolar()\n",
    "q.muestraCola()"
   ]
  },
  {
   "cell_type": "markdown",
   "id": "081c1266",
   "metadata": {
    "slideshow": {
     "slide_type": "slide"
    }
   },
   "source": [
    "# 2. Colas con la clase vector\n",
    "### Métodos de la clase Cola\n",
    "- __init__: Crea un objeto vector.\n",
    "- __encolar__: Agrega el elemento x como último de la cola.\n",
    "- __desencolar__: Elimina el primer elemento de la cola y devuelve su valor. Si la cola está vacía, levanta ValueError.\n",
    "- __esVacia__: devuelve True o False según si la cola está vacía o no.\n",
    "- __esLlena__: devuelve True o False si la cola está llena o no.\n",
    "- __siguiente__: deveulve el elemento próximo a desencolar."
   ]
  },
  {
   "cell_type": "code",
   "execution_count": null,
   "id": "2c1ba777",
   "metadata": {
    "slideshow": {
     "slide_type": "subslide"
    }
   },
   "outputs": [],
   "source": [
    "class colaVector(vector):\n",
    "    def __init__(self, n):\n",
    "        vector.__init__(self, n)\n",
    "        self.primero = 0\n",
    "        self.ultimo = 0\n",
    "    def esLlena (self):\n",
    "        return self.primero == self.ultimo\n",
    "    def esVacia (self):\n",
    "        return self.primero == self.ultimo\n",
    "    def encolar (self, d):\n",
    "        self.ultimo = (self.ultimo + 1) % self.n\n",
    "        if self.esLlena():\n",
    "            print(\"cola llena, no se puede encolar\\n\")\n",
    "            self.ultimo = (self.ultimo - 1 + self.n) % self.n\n",
    "            return\n",
    "        self.V[self.ultimo] = d\n",
    "    def desencolar (self):\n",
    "        if self.esVacia():\n",
    "            print(\"cola vacía, no se puede desencolar\\n\")\n",
    "            return None\n",
    "        self.primero = (self.primero + 1) % self.n\n",
    "        return self.V[self.primero]\n",
    "    def siguiente (self):\n",
    "        if self.esVacia():\n",
    "            print(\"cola vacía, no hay siguiente\\n\")\n",
    "            return None\n",
    "        aux = (self.primero + 1) % self.n\n",
    "        return self.V[aux]\n",
    "    \n",
    "qu = colaVector(10)\n",
    "print(\"Está vacía? \",qu.esVacia())\n",
    "print(\"Está llena? \",qu.esLlena())\n",
    "qu.encolar(\"a\")\n",
    "qu.encolar(\"b\")\n",
    "qu.encolar(316)\n",
    "print(\"Elemento próximo a desencolar\", qu.siguiente())\n",
    "d = qu.desencolar()\n",
    "print(\"\\nDato desencolado:\", d)"
   ]
  },
  {
   "cell_type": "markdown",
   "id": "c829fbd3",
   "metadata": {
    "slideshow": {
     "slide_type": "slide"
    }
   },
   "source": [
    "# 3. Colas con la clase LSL\n",
    "### Métodos de la clase Cola\n",
    "- __init__: Crea un objeto lista ligada.\n",
    "- __encolar__: Agrega el elemento x como último de la cola.\n",
    "- __desencolar__: Elimina el primer elemento de la cola y devuelve su valor. Si la cola está vacía, levanta ValueError.\n",
    "- __siguiente__: deveulve el elemento próximo a desencolar."
   ]
  },
  {
   "cell_type": "code",
   "execution_count": null,
   "id": "ca2c369d",
   "metadata": {
    "slideshow": {
     "slide_type": "fragment"
    }
   },
   "outputs": [],
   "source": [
    "class colaLSL(LSL):\n",
    " def __init__(self):\n",
    "     LSL.__init__(self)\n",
    " \n",
    " def encolar(self, d):\n",
    "     self.agregarDato(d)\n",
    " \n",
    " def desencolar(self):\n",
    "    if self.esVacia():\n",
    "        print(\"\\nCola vacía no hay datos para desencolar\")\n",
    "        return None\n",
    "    d = self.primero.retornarDato()\n",
    "    p = self.primerNodo()\n",
    "    self.borrar(p)\n",
    "    return d\n",
    " \n",
    " def siguiente (self):\n",
    "     if self.esVacia():\n",
    "         print(\"\\nCola vacía no hay siguiente\")\n",
    "         return None\n",
    "     d = self.primero.retornarDato()\n",
    "     return d\n",
    "\n",
    "a = colaLSL()\n",
    "b = a.esVacia()\n",
    "print(b)\n",
    "a.encolar(\"a\")\n",
    "a.encolar(\"e\")\n",
    "a.encolar(\"i\")\n",
    "a.encolar(\"o\")\n",
    "a.recorrerLista()\n",
    "b = a.esVacia()\n",
    "print(\"\\nEstá vacía? \", b)\n",
    "d = a.desencolar()\n",
    "print(\"\\ndato desencolado es: \", d)\n",
    "a.recorrerLista()\n",
    "d = a.siguiente()\n",
    "print(\"\\nel siguiente es:\", d)\n",
    "a.recorrerLista()"
   ]
  },
  {
   "cell_type": "markdown",
   "id": "fffab3c4",
   "metadata": {
    "slideshow": {
     "slide_type": "slide"
    }
   },
   "source": [
    "# Ejercicios"
   ]
  },
  {
   "cell_type": "markdown",
   "id": "c41d70ac",
   "metadata": {
    "slideshow": {
     "slide_type": "fragment"
    }
   },
   "source": [
    "•\tEjercicio [colas] -> Codifique el siguiente programa:\n",
    "- Construya un ciclo infinito, donde:\n",
    "    - Dentro del ciclo, solicite al usuario que ingrese una opción:\n",
    "        - 1 - para encolar, acaba debe solicitar el valor a encolar e ingresarlo en la cola\n",
    "        - 2 - para desencolar e imprimir el valor desencolado\n",
    "        - 3 - para imprimir el contenido de la cola\n",
    "        - 0 - para salir\n",
    "   \n"
   ]
  },
  {
   "cell_type": "code",
   "execution_count": null,
   "id": "f5c1a3ef",
   "metadata": {
    "slideshow": {
     "slide_type": "notes"
    }
   },
   "outputs": [],
   "source": [
    "import random\n",
    "\n",
    "class vector:\n",
    "\n",
    "    def __init__(self, n):\n",
    "         self.n = n\n",
    "         self.V = [0] * (n + 1)\n",
    "     \n",
    "    def construyeVector(self, m, r): \n",
    "         self.V[0] = m   \n",
    "         for i in range(1, m + 1):  \n",
    "                 self.V[i] = random.randint(1, r)\n",
    "        \n",
    "    def imprimeVector(self, mensaje = \"vector sin nombre: \\t\"): \n",
    "        print(\"\\n\", mensaje, end=\" \")  \n",
    "        for i in range(1, self.V[0] + 1):   \n",
    "                print(self.V[i], end=\", \")   \n",
    "        print()\n",
    "       \n",
    "    def agregarDato(self, d):   \n",
    "        if self.esLleno():    \n",
    "             return    \n",
    "        self.V[0] = self.V[0] + 1    \n",
    "        self.V[self.V[0]] = d\n",
    "    \n",
    "    def asignaDato(self, d, i):    \n",
    "        self.V[i] = d\n",
    "    \n",
    "    def retornaDato(self, i):    \n",
    "        return self.V[i] \n",
    "       \n",
    "    def intercambiar(self, a, b):    \n",
    "        aux = self.V[a]    \n",
    "        self.V[a] = self.V[b]\n",
    "        self.V[b] = aux\n",
    "       \n",
    "    def seleccion(self):    \n",
    "         for i in range(1, self.V[0]):    \n",
    "             k = i    \n",
    "             for j in range(i + 1, self.V[0] + 1):    \n",
    "                   if self.V[j] < self.V[k]:    \n",
    "                           k = j    \n",
    "             self.intercambiar(k, i) \n",
    "       \n",
    "    def mayor(self):    \n",
    "        mayor = 1    \n",
    "        for i in range(1, self.V[0] + 1):    \n",
    "                if self.V[i] > self.V[mayor]:    \n",
    "                     mayor = i    \n",
    "        return mayor    \n",
    "    \n",
    "    def menor(self):    \n",
    "         menor = 1    \n",
    "         for i in range(1, self.V[0] + 1):    \n",
    "               if self.V[i] < self.V[menor]:    \n",
    "                     menor = i    \n",
    "         return menor\n",
    "    \n",
    "    def buscarDato(self, d):    \n",
    "        i = 1    \n",
    "        while i <= self.V[0] and self.V[i] != d:    \n",
    "                 i = i + 1    \n",
    "        if i <= self.V[0]:    \n",
    "                return i    \n",
    "        return -1\n",
    "       \n",
    "    def borrarDatoEnPosicion(self, i):    \n",
    "         if i <= 0 or i > self.V[0]:    \n",
    "               print(\"\\nParámetro i inválido\")    \n",
    "               return    \n",
    "         for j in range(i, self.V[0]):    \n",
    "               self.V[j] = self.V[j + 1]    \n",
    "         self.V[0] = self.V[0] -1\n",
    "      \n",
    "    def borrarDato(self, d):   \n",
    "         i = self.buscarDato(d)   \n",
    "         if i != -1:   \n",
    "               self.borrarDatoEnPosicion(i)  \n",
    "    \n",
    "    def posicionesUsadas(self):   \n",
    "          return self.V[0]      \n",
    "    \n",
    "    def esVacio(self):   \n",
    "          return self.V[0] == 0\n",
    "          \n",
    "    def esLleno(self):    \n",
    "         return self.V[0] == self.n   \n",
    "       \n",
    "    def tamagno(self):    \n",
    "          return self.n\n",
    "        \n",
    "    def asignaNumeroElementos(self, m): \n",
    "         self.V[0] = m\n",
    "         \n",
    "    def buscaDondeInsertar(self, d):   \n",
    "         i = 1   \n",
    "         while i <= self.V[0] and self.V[i] < d:   \n",
    "                 i = i + 1   \n",
    "         return i  \n",
    "       \n",
    "    def insertar(self, d, i = 0):  \n",
    "         if self.esLleno():  \n",
    "                print(\"\\nVector lleno, no se puede insertar\")  \n",
    "                return  \n",
    "         if i == 0:     \n",
    "               i = self.buscaDondeInsertar(d)   \n",
    "         for j in range(self.V[0], i -1, -1):   \n",
    "               self.V[j + 1] = self.V[j]    \n",
    "         self.V[i] = d   \n",
    "         self.V[0] = self.V[0] + 1       \n",
    "    \n",
    "    def sumaDatos(self):    \n",
    "         s = 0  \n",
    "         for i in range(1, self.V[0] + 1):  \n",
    "                 s = s + self.V[i]   \n",
    "         return s"
   ]
  },
  {
   "cell_type": "code",
   "execution_count": null,
   "id": "fb0e47af",
   "metadata": {
    "slideshow": {
     "slide_type": "notes"
    }
   },
   "outputs": [],
   "source": [
    "class LSL:\n",
    "    def __init__(self): #Constructor\n",
    "        self.primero = None\n",
    "        self.ultimo = None\n",
    "    \n",
    "    def primerNodo (self):\n",
    "        return self.primero\n",
    "    \n",
    "    def ultimoNodo (self):\n",
    "        return self.ultimo\n",
    "    \n",
    "    def esVacia (self):\n",
    "        return self.primero == None\n",
    "    \n",
    "    def finDeRecorrido (self, p):\n",
    "        return p == None\n",
    "    \n",
    "    def recorrerLista (self):\n",
    "        p = self.primerNodo()\n",
    "        while not self.finDeRecorrido(p):\n",
    "            print(p.retornarDato(), end = \", \")\n",
    "            p = p.retornarLiga()\n",
    "            \n",
    "    def agregarDato (self, d):\n",
    "        x = nodoSimple(d)\n",
    "        p = self.primerNodo()\n",
    "        if p == None:\n",
    "            self.primero = x\n",
    "            self.ultimo = x\n",
    "        else:\n",
    "            self.ultimo.liga = x\n",
    "            self.ultimo = x\n",
    "            \n",
    "    def buscarDondeInsertar (self, d):\n",
    "        p = self.primerNodo()\n",
    "        y = None\n",
    "        while not self.finDeRecorrido(p) and p.retornarDato() < d:\n",
    "            y = p\n",
    "            p = p.retornarLiga()\n",
    "        return y\n",
    "    \n",
    "    def insertar (self, d, y=None): #cambio\n",
    "        x = nodoSimple(d) #cambio\n",
    "        self.conectar(x, y)\n",
    "        \n",
    "    def conectar (self, x, y):\n",
    "        if y == None:\n",
    "            if self.primero == None:\n",
    "                self.ultimo = x\n",
    "            else:\n",
    "                x.asignarLiga(self.primero)\n",
    "            self.primero = x\n",
    "            return\n",
    "        x.asignarLiga(y.retornarLiga())\n",
    "        y.asignarLiga(x)\n",
    "        if y == self.ultimo:\n",
    "            self.ultimo = x\n",
    "            \n",
    "    def longitud (self):\n",
    "       p = self.primerNodo()\n",
    "       n = 0\n",
    "       while not self.finDeRecorrido(p):\n",
    "           n = n + 1\n",
    "           p = p.retornarLiga()\n",
    "       return n\n",
    "    \n",
    "    def buscarDato (self, d, y):\n",
    "       x = self.primerNodo()\n",
    "       while not self.finDeRecorrido(x) and x.retornarDato() != d:\n",
    "           y.asignarDato(x)\n",
    "           x = x.retornarLiga()\n",
    "       return x\n",
    "    \n",
    "    def buscarDato2 (self, d):\n",
    "       y = nodoSimple.nodoSimple()\n",
    "       x = self.primerNodo()\n",
    "       while not self.finDeRecorrido(x) and x.retornarDato() != d:\n",
    "           y.asignarDato(x)\n",
    "           x = x.retornarLiga()\n",
    "       return x, y\n",
    "   \n",
    "    \n",
    "    def borrar (self, x, y = None):\n",
    "       if x == None:\n",
    "           print(\"Dato no está en la lista\")\n",
    "           return\n",
    "       if y == None:\n",
    "           if x != self.primero:\n",
    "               print(\"Falta el anterior del dato a borrar\")\n",
    "               return\n",
    "       else:\n",
    "          y = y.retornarDato()\n",
    "          \n",
    "       self.desconectar(x,y) #cambié identación\n",
    "          \n",
    "    def desconectar (self, x, y):\n",
    "        if y == None:\n",
    "            self.primero = x.retornarLiga()\n",
    "            if self.esVacia():\n",
    "                self.ultimo = None\n",
    "        else:\n",
    "            y.asignarLiga(x.retornarLiga())\n",
    "            if x == self.ultimo:\n",
    "                self.ultimo = y"
   ]
  },
  {
   "cell_type": "code",
   "execution_count": null,
   "id": "19e65845",
   "metadata": {
    "slideshow": {
     "slide_type": "notes"
    }
   },
   "outputs": [],
   "source": [
    "class nodoSimple:\n",
    " def __init__(self, d = None):\n",
    "     self.dato = d\n",
    "     self.liga = None\n",
    " def asignarDato(self, d):\n",
    "     self.dato = d\n",
    " def asignarLiga(self, x):\n",
    "     self.liga = x\n",
    " def retornarDato(self):\n",
    "     return self.dato\n",
    " def retornarLiga(self):\n",
    "     return self.liga"
   ]
  }
 ],
 "metadata": {
  "celltoolbar": "Slideshow",
  "kernelspec": {
   "display_name": "Python 3",
   "language": "python",
   "name": "python3"
  },
  "language_info": {
   "codemirror_mode": {
    "name": "ipython",
    "version": 3
   },
   "file_extension": ".py",
   "mimetype": "text/x-python",
   "name": "python",
   "nbconvert_exporter": "python",
   "pygments_lexer": "ipython3",
   "version": "3.9.0"
  },
  "rise": {
   "autolaunch": true,
   "backimage": "mybackimage.png",
   "scroll": true
  }
 },
 "nbformat": 4,
 "nbformat_minor": 5
}
