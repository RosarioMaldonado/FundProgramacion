{
 "cells": [
  {
   "cell_type": "markdown",
   "id": "62a5f2f1",
   "metadata": {
    "slideshow": {
     "slide_type": "slide"
    }
   },
   "source": [
    "# 1. Introducción\n",
    "- Una pila (stack en inglés) es una lista ordenada o estructura de datos que permite almacenar y recuperar datos.\n",
    "- La pila presenta un modo de acceso a sus elementos de tipo LIFO (del inglés Last In, First Out, «último en entrar, primero en salir»).\n",
    "    -  __Apilar__: consiste en insertar un registro al principio de una lista ligada.\n",
    "    -  __Desapilar__: consiste en eliminar el primer nodo de la lista y retornar el dato que se hallaba en ese nodo\n",
    "\n",
    "<center><img src=\"Figures/S5-Apilando.png\" width=\"1000\" height=\"1100\"></center>"
   ]
  },
  {
   "cell_type": "markdown",
   "id": "e5d52a02",
   "metadata": {
    "slideshow": {
     "slide_type": "subslide"
    }
   },
   "source": [
    "# Utilidades de las Pilas\n",
    "- Llamadas a subprogramas\n",
    "- Paso de programas recursivos a iterativos\n",
    "- Tratamiento de expresiones aritméticas\n"
   ]
  },
  {
   "cell_type": "markdown",
   "id": "3cb37c73",
   "metadata": {
    "slideshow": {
     "slide_type": "subslide"
    }
   },
   "source": [
    "- Un ejemplo clásico de aplicación de pilas en computadores  se presenta en el proceso de llamadas a subprogramas y  sus retornos.\n",
    "- Cada vez que se llama a un subprograma (subrutina o función) es necesario guardar el estado del programa que realiza la llamada: o Dirección del programa a la que debe volver cuando termine, o las variables del programa, junto con sus valores antes de la llamada.\n"
   ]
  },
  {
   "cell_type": "code",
   "execution_count": null,
   "id": "e11e54a7",
   "metadata": {
    "slideshow": {
     "slide_type": "fragment"
    }
   },
   "outputs": [],
   "source": [
    "def funcion1():\n",
    "    print(\"Ingreso por el método 1\")\n",
    "    x = 5 + funcion2()\n",
    "    return x\n",
    "    \n",
    "def funcion2():\n",
    "    print(\"Ingreso por el método 2\")\n",
    "    x = 3 + funcion3()\n",
    "    return x\n",
    "\n",
    "def funcion3():\n",
    "    print(\"Ingreso por el método 3\")\n",
    "    x = 7\n",
    "    return x\n",
    "    \n",
    "x = funcion1()\n",
    "print(x)"
   ]
  },
  {
   "cell_type": "markdown",
   "id": "ddb9f250",
   "metadata": {
    "slideshow": {
     "slide_type": "subslide"
    }
   },
   "source": [
    "# Recursión\n",
    "- La recursión es una técnica que conduce a soluciones elegantes, a problemas que son difíciles de programar usando bucles simples.\n",
    "- Para utilizar recursión en un programa, se deben codificar métodos recursivos, es decir, codificar métodos que se invoquen a sí mismos.\n",
    "- Muchas funciones matemáticas se definen mediante recursividad.\n",
    "\n",
    "El factorial de un número n puede definirse recursivamente de la siguiente manera:\n",
    "\n",
    "<center>\n",
    "$0! = 1;$\n",
    "<center>\n",
    "$5! = 5*4*3*2*1$\n",
    "<center>\n",
    "$n! = n × (n − 1)!; n > 0$\n"
   ]
  },
  {
   "cell_type": "code",
   "execution_count": null,
   "id": "f9f3bcd5",
   "metadata": {
    "slideshow": {
     "slide_type": "fragment"
    }
   },
   "outputs": [],
   "source": [
    "def factorial(n):\n",
    "    if (n == 0):\n",
    "        return 1\n",
    "    else:\n",
    "        return n*factorial(n-1)\n",
    "    \n",
    "factorial(5)"
   ]
  },
  {
   "cell_type": "markdown",
   "id": "d81dc94a",
   "metadata": {
    "slideshow": {
     "slide_type": "slide"
    }
   },
   "source": [
    "# 1. Pilas con Listas"
   ]
  },
  {
   "cell_type": "code",
   "execution_count": 10,
   "id": "4fe6bc3f",
   "metadata": {
    "slideshow": {
     "slide_type": "fragment"
    }
   },
   "outputs": [
    {
     "name": "stdout",
     "output_type": "stream",
     "text": [
      "['a', 'b', 'c']\n",
      "\n",
      "Elementos desencolados de la cola\n",
      "c\n",
      "\n",
      "Después de eliminar los elementos\n",
      "['a', 'b']\n"
     ]
    }
   ],
   "source": [
    "stack = []\n",
    "stack.append('a')\n",
    "stack.append('b')\n",
    "stack.append('c')\n",
    "print(stack)\n",
    "\n",
    "print(\"\\nElementos desencolados de la cola\")\n",
    "print(stack.pop())\n",
    "print(\"\\nDespués de eliminar los elementos\")\n",
    "print(stack)"
   ]
  },
  {
   "cell_type": "markdown",
   "id": "3cf78a3e",
   "metadata": {
    "slideshow": {
     "slide_type": "slide"
    }
   },
   "source": [
    "# 2. Clase Pila\n",
    "## Métodos de la clase Pila\n",
    "- __init__: inicializa una pila nueva, vacía.\n",
    "- __apilar__: agrega un nuevo elemento a la pila.\n",
    "- __desapilar__: elimina el tope de la pila y lo devuelve. El elemento que se devuelve es siempre el último que se agreg6.\n",
    "- __es_vacia__: devuelve True o False según si la pila está vacía o no.\n",
    "- __muestraPila__: imprime lo que tiene la pila"
   ]
  },
  {
   "cell_type": "code",
   "execution_count": 1,
   "id": "2c1ba777",
   "metadata": {
    "slideshow": {
     "slide_type": "fragment"
    }
   },
   "outputs": [],
   "source": [
    "class Pila:\n",
    "    def __init__(self):\n",
    "        self.arreglo=[]\n",
    "    def apilar(self, x):\n",
    "        self.arreglo.append(x)\n",
    "    def desapilar(self):\n",
    "        try:\n",
    "            return self.arreglo.pop()\n",
    "        except IndexError:\n",
    "            raise ValueError(\"La pila está vacía\")\n",
    "    def es_vacia(self):\n",
    "        return self.arreglo == []\n",
    "    def muestraPila(self):\n",
    "        for i in self.arreglo:   \n",
    "            print(i, end=\", \")   \n",
    "        print()"
   ]
  },
  {
   "cell_type": "code",
   "execution_count": 2,
   "id": "c7f8f64a",
   "metadata": {},
   "outputs": [
    {
     "name": "stdout",
     "output_type": "stream",
     "text": [
      "Es vacia? True\n",
      "Es vacia? False\n",
      "1, \n",
      "1, 6, +, 7, \n",
      "1, 6, +, \n"
     ]
    }
   ],
   "source": [
    "p = Pila()\n",
    "print(\"Es vacia?\",p.es_vacia())\n",
    "p.apilar(1)\n",
    "print(\"Es vacia?\",p.es_vacia())\n",
    "p.muestraPila()\n",
    "p.apilar(6)\n",
    "p.apilar(\"+\")\n",
    "p.apilar(7)\n",
    "p.muestraPila()\n",
    "p.desapilar()\n",
    "p.muestraPila()"
   ]
  },
  {
   "cell_type": "markdown",
   "id": "78fb86a6",
   "metadata": {
    "slideshow": {
     "slide_type": "slide"
    }
   },
   "source": [
    "# 3. Clase Pila con Vector\n",
    "## Métodos de la clase Pila\n",
    "- __init__: crea un objeto vector con el tamaño ingresado + 1.\n",
    "- __apilar__: agrega un nuevo elemento a la pila.\n",
    "- __desapilar__: elimina el tope de la pila y lo devuelve. El elemento que se devuelve es siempre el último que se agreg6.\n",
    "- __muestraPila__: imprime lo que tiene la pila"
   ]
  },
  {
   "cell_type": "code",
   "execution_count": 6,
   "id": "86cb1ad6",
   "metadata": {
    "slideshow": {
     "slide_type": "fragment"
    }
   },
   "outputs": [
    {
     "name": "stdout",
     "output_type": "stream",
     "text": [
      "\n",
      " vector sin nombre: \t a, b, 316, \n",
      "316\n",
      "\n",
      " vector sin nombre: \t a, b, \n"
     ]
    }
   ],
   "source": [
    "class pilaVector(vector):\n",
    " def __init__(self, n):\n",
    "     vector.__init__(self, n)\n",
    " \n",
    " def apilar(self, d):\n",
    "    self.agregarDato(d)\n",
    "    \n",
    " def muestraPila(self):\n",
    "     self.imprimeVector()\n",
    "     \n",
    " def desapilar(self):\n",
    "     if self.V[0] == 0:\n",
    "         print(\"Pila vacía\")\n",
    "         return None\n",
    "     d = self.V[self.V[0]]\n",
    "     self.V[0] = self.V[0] - 1\n",
    "     return d\n",
    "\n",
    "st = pilaVector(10)\n",
    "st.apilar(\"a\")\n",
    "st.apilar(\"b\")\n",
    "st.apilar(316)\n",
    "st.muestraPila()\n",
    "d = st.desapilar()\n",
    "print(d)\n",
    "st.muestraPila()"
   ]
  },
  {
   "cell_type": "markdown",
   "id": "7b4afc9d",
   "metadata": {
    "slideshow": {
     "slide_type": "slide"
    }
   },
   "source": [
    "# 4. Pila usando la clase LSL\n",
    "- __init__: inicializa un objeto LSL.\n",
    "- __apilar__: agrega un nuevo elemento a la pila.\n",
    "- __desapilar__: elimina el tope de la pila y lo devuelve. El elemento que se devuelve es siempre el último que se agreg6.\n",
    "- __muestraPila__: imprime lo que tiene la pila"
   ]
  },
  {
   "cell_type": "code",
   "execution_count": 9,
   "id": "1ab6910a",
   "metadata": {
    "slideshow": {
     "slide_type": "fragment"
    }
   },
   "outputs": [
    {
     "name": "stdout",
     "output_type": "stream",
     "text": [
      "o, i, e, a, \n",
      " Está vacía? False\n",
      "\n",
      "dato desapilado o\n",
      "i, e, a, "
     ]
    }
   ],
   "source": [
    "class pila(LSL):\n",
    "     def __init__(self):\n",
    "         LSL.__init__(self)\n",
    "     def apilar(self, d):\n",
    "         self.insertar(d)\n",
    "     def muestraPila(self):\n",
    "         self.recorrerLista()\n",
    "     def desapilar(self):\n",
    "         p = self.primerNodo()\n",
    "         d = p.retornarDato()\n",
    "         self.borrar(p)\n",
    "         return d\n",
    "    \n",
    "a = pila()\n",
    "a.apilar(\"a\")\n",
    "a.apilar(\"e\")\n",
    "a.apilar(\"i\")\n",
    "a.apilar(\"o\")\n",
    "a.recorrerLista()\n",
    "b = a.esVacia()\n",
    "print(\"\\n Está vacía?\", b)\n",
    "d = a.desapilar()\n",
    "print(\"\\ndato desapilado\", d)\n",
    "a.recorrerLista()"
   ]
  },
  {
   "cell_type": "markdown",
   "id": "fffab3c4",
   "metadata": {
    "slideshow": {
     "slide_type": "slide"
    }
   },
   "source": [
    "# Ejercicios"
   ]
  },
  {
   "cell_type": "markdown",
   "id": "c41d70ac",
   "metadata": {
    "slideshow": {
     "slide_type": "fragment"
    }
   },
   "source": [
    "•\tEjercicio [pilas] -> Codifique el siguiente programa:\n",
    "- Construya un ciclo infinito, donde:\n",
    "    - Dentro del ciclo, solicite al usuario que ingrese una opción:\n",
    "        - 1 - para apilar, acaba debe solicitar el valor a apilar e ingresarlo en la pila\n",
    "        - 2 - para desapilar e imprimir el valor desapilado\n",
    "        - 3 - para imprimir el contenido de la pila\n",
    "        - 0 - para salir\n",
    "   \n"
   ]
  },
  {
   "cell_type": "code",
   "execution_count": 5,
   "id": "ce0f351f",
   "metadata": {
    "slideshow": {
     "slide_type": "notes"
    }
   },
   "outputs": [],
   "source": [
    "class LSL:\n",
    "    def __init__(self): #Constructor\n",
    "        self.primero = None\n",
    "        self.ultimo = None\n",
    "    \n",
    "    def primerNodo (self):\n",
    "        return self.primero\n",
    "    \n",
    "    def ultimoNodo (self):\n",
    "        return self.ultimo\n",
    "    \n",
    "    def esVacia (self):\n",
    "        return self.primero == None\n",
    "    \n",
    "    def finDeRecorrido (self, p):\n",
    "        return p == None\n",
    "    \n",
    "    def recorrerLista (self):\n",
    "        p = self.primerNodo()\n",
    "        while not self.finDeRecorrido(p):\n",
    "            print(p.retornarDato(), end = \", \")\n",
    "            p = p.retornarLiga()\n",
    "            \n",
    "    def agregarDato (self, d):\n",
    "        x = nodoSimple(d)\n",
    "        p = self.primerNodo()\n",
    "        if p == None:\n",
    "            self.primero = x\n",
    "            self.ultimo = x\n",
    "        else:\n",
    "            self.ultimo.liga = x\n",
    "            self.ultimo = x\n",
    "            \n",
    "    def buscarDondeInsertar (self, d):\n",
    "        p = self.primerNodo()\n",
    "        y = None\n",
    "        while not self.finDeRecorrido(p) and p.retornarDato() < d:\n",
    "            y = p\n",
    "            p = p.retornarLiga()\n",
    "        return y\n",
    "    \n",
    "    def insertar (self, d, y=None): #cambio\n",
    "        x = nodoSimple(d) #cambio\n",
    "        self.conectar(x, y)\n",
    "        \n",
    "    def conectar (self, x, y):\n",
    "        if y == None:\n",
    "            if self.primero == None:\n",
    "                self.ultimo = x\n",
    "            else:\n",
    "                x.asignarLiga(self.primero)\n",
    "            self.primero = x\n",
    "            return\n",
    "        x.asignarLiga(y.retornarLiga())\n",
    "        y.asignarLiga(x)\n",
    "        if y == self.ultimo:\n",
    "            self.ultimo = x\n",
    "            \n",
    "    def longitud (self):\n",
    "       p = self.primerNodo()\n",
    "       n = 0\n",
    "       while not self.finDeRecorrido(p):\n",
    "           n = n + 1\n",
    "           p = p.retornarLiga()\n",
    "       return n\n",
    "    \n",
    "    def buscarDato (self, d, y):\n",
    "       x = self.primerNodo()\n",
    "       while not self.finDeRecorrido(x) and x.retornarDato() != d:\n",
    "           y.asignarDato(x)\n",
    "           x = x.retornarLiga()\n",
    "       return x\n",
    "    \n",
    "    def buscarDato2 (self, d):\n",
    "       y = nodoSimple()\n",
    "       x = self.primerNodo()\n",
    "       while not self.finDeRecorrido(x) and x.retornarDato() != d:\n",
    "           y.asignarDato(x)\n",
    "           x = x.retornarLiga()\n",
    "       return x, y\n",
    "   \n",
    "    \n",
    "    def borrar (self, x, y = None):\n",
    "       if x == None:\n",
    "           print(\"Dato no está en la lista\")\n",
    "           return\n",
    "       if y == None:\n",
    "           if x != self.primero:\n",
    "               print(\"Falta el anterior del dato a borrar\")\n",
    "               return\n",
    "       else:\n",
    "          y = y.retornarDato()\n",
    "          \n",
    "       self.desconectar(x,y) #cambié identación\n",
    "          \n",
    "    def desconectar (self, x, y):\n",
    "        if y == None:\n",
    "            self.primero = x.retornarLiga()\n",
    "            if self.esVacia():\n",
    "                self.ultimo = None\n",
    "        else:\n",
    "            y.asignarLiga(x.retornarLiga())\n",
    "            if x == self.ultimo:\n",
    "                self.ultimo = y\n",
    "class nodoSimple:\n",
    " def __init__(self, d = None):\n",
    "     self.dato = d\n",
    "     self.liga = None\n",
    " def asignarDato(self, d):\n",
    "     self.dato = d\n",
    " def asignarLiga(self, x):\n",
    "     self.liga = x\n",
    " def retornarDato(self):\n",
    "     return self.dato\n",
    " def retornarLiga(self):\n",
    "     return self.liga\n",
    "    \n",
    "class vector:\n",
    "\n",
    "    def __init__(self, n):\n",
    "         self.n = n\n",
    "         self.V = [0] * (n + 1)\n",
    "     \n",
    "    def construyeVector(self, m, r): \n",
    "         self.V[0] = m   \n",
    "         for i in range(1, m + 1):  \n",
    "                 self.V[i] = random.randint(1, r)\n",
    "        \n",
    "    def imprimeVector(self, mensaje = \"vector sin nombre: \\t\"): \n",
    "        print(\"\\n\", mensaje, end=\" \")  \n",
    "        for i in range(1, self.V[0] + 1):   \n",
    "                print(self.V[i], end=\", \")   \n",
    "        print()\n",
    "       \n",
    "    def agregarDato(self, d):   \n",
    "        if self.esLleno():    \n",
    "             return    \n",
    "        self.V[0] = self.V[0] + 1    \n",
    "        self.V[self.V[0]] = d\n",
    "    \n",
    "    def asignaDato(self, d, i):    \n",
    "        self.V[i] = d\n",
    "    \n",
    "    def retornaDato(self, i):    \n",
    "        return self.V[i] \n",
    "       \n",
    "    def intercambiar(self, a, b):    \n",
    "        aux = self.V[a]    \n",
    "        self.V[a] = self.V[b]\n",
    "        self.V[b] = aux\n",
    "       \n",
    "    def seleccion(self):    \n",
    "         for i in range(1, self.V[0]):    \n",
    "             k = i    \n",
    "             for j in range(i + 1, self.V[0] + 1):    \n",
    "                   if self.V[j] < self.V[k]:    \n",
    "                           k = j    \n",
    "             self.intercambiar(k, i) \n",
    "       \n",
    "    def mayor(self):    \n",
    "        mayor = 1    \n",
    "        for i in range(1, self.V[0] + 1):    \n",
    "                if self.V[i] > self.V[mayor]:    \n",
    "                     mayor = i    \n",
    "        return mayor    \n",
    "    \n",
    "    def menor(self):    \n",
    "         menor = 1    \n",
    "         for i in range(1, self.V[0] + 1):    \n",
    "               if self.V[i] < self.V[menor]:    \n",
    "                     menor = i    \n",
    "         return menor\n",
    "    \n",
    "    def buscarDato(self, d):    \n",
    "        i = 1    \n",
    "        while i <= self.V[0] and self.V[i] != d:    \n",
    "                 i = i + 1    \n",
    "        if i <= self.V[0]:    \n",
    "                return i    \n",
    "        return -1\n",
    "       \n",
    "    def borrarDatoEnPosicion(self, i):    \n",
    "         if i <= 0 or i > self.V[0]:    \n",
    "               print(\"\\nParámetro i inválido\")    \n",
    "               return    \n",
    "         for j in range(i, self.V[0]):    \n",
    "               self.V[j] = self.V[j + 1]    \n",
    "         self.V[0] = self.V[0] -1\n",
    "      \n",
    "    def borrarDato(self, d):   \n",
    "         i = self.buscarDato(d)   \n",
    "         if i != -1:   \n",
    "               self.borrarDatoEnPosicion(i)  \n",
    "    \n",
    "    def posicionesUsadas(self):   \n",
    "          return self.V[0]      \n",
    "    \n",
    "    def esVacio(self):   \n",
    "          return self.V[0] == 0\n",
    "          \n",
    "    def esLleno(self):    \n",
    "         return self.V[0] == self.n   \n",
    "       \n",
    "    def tamagno(self):    \n",
    "          return self.n\n",
    "        \n",
    "    def asignaNumeroElementos(self, m): \n",
    "         self.V[0] = m\n",
    "         \n",
    "    def buscaDondeInsertar(self, d):   \n",
    "         i = 1   \n",
    "         while i <= self.V[0] and self.V[i] < d:   \n",
    "                 i = i + 1   \n",
    "         return i  \n",
    "       \n",
    "    def insertar(self, d, i = 0):  \n",
    "         if self.esLleno():  \n",
    "                print(\"\\nVector lleno, no se puede insertar\")  \n",
    "                return  \n",
    "         if i == 0:     \n",
    "               i = self.buscaDondeInsertar(d)   \n",
    "         for j in range(self.V[0], i -1, -1):   \n",
    "               self.V[j + 1] = self.V[j]    \n",
    "         self.V[i] = d   \n",
    "         self.V[0] = self.V[0] + 1       \n",
    "    \n",
    "    def sumaDatos(self):    \n",
    "         s = 0  \n",
    "         for i in range(1, self.V[0] + 1):  \n",
    "                 s = s + self.V[i]   \n",
    "         return s"
   ]
  }
 ],
 "metadata": {
  "celltoolbar": "Slideshow",
  "kernelspec": {
   "display_name": "Python 3",
   "language": "python",
   "name": "python3"
  },
  "language_info": {
   "codemirror_mode": {
    "name": "ipython",
    "version": 3
   },
   "file_extension": ".py",
   "mimetype": "text/x-python",
   "name": "python",
   "nbconvert_exporter": "python",
   "pygments_lexer": "ipython3",
   "version": "3.9.0"
  },
  "rise": {
   "autolaunch": true,
   "backimage": "mybackimage.png",
   "scroll": true
  }
 },
 "nbformat": 4,
 "nbformat_minor": 5
}
