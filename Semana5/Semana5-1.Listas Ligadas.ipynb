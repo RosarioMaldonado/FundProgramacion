{
 "cells": [
  {
   "cell_type": "markdown",
   "id": "62a5f2f1",
   "metadata": {
    "slideshow": {
     "slide_type": "slide"
    }
   },
   "source": [
    "# 1. Introducción\n",
    "- Una lista ligada es una colección de elementos que están enlazados entre sí, en donde cada elementos contiene un valor hacia los otros elementos.\n",
    "- Se dice que es eficiente porque permiten un menor desperdicio de memoria y además los algoritmos para se manejo suelen ser menos costosos computacionalmente.\n",
    "- Forma alterna de  representación en la cual las operaciones de inserción y borrado sean eficientes.\n",
    "\n",
    "<center><img src=\"Figures/S5-ListaLigadaSimple.png\" width=\"1000\" height=\"1100\"></center>"
   ]
  },
  {
   "cell_type": "markdown",
   "id": "981d1397",
   "metadata": {
    "slideshow": {
     "slide_type": "slide"
    }
   },
   "source": [
    "Forma general de como se debe agregar un nuevo elemento a la estructura:\n",
    " \n",
    "\n",
    "<center><img src=\"Figures/S5-LLNuevoValor.png\" width=\"500\" height=\"800\"></center>"
   ]
  },
  {
   "cell_type": "markdown",
   "id": "e5d52a02",
   "metadata": {
    "slideshow": {
     "slide_type": "slide"
    }
   },
   "source": [
    "# Nodo\n",
    "- El bloque constructivo básico para la implementación de la lista enlazada es el nodo. \n",
    "- Cada objeto nodo debe contener al menos dos piezas de información. En primer lugar, el nodo debe contener el ítem de lista en sí mismo. \n",
    "- Cada nodo debe contener una referencia al siguiente nodo. \n",
    "- Para construir un nodo, usted debe proporcionar el valor inicial del dato del nodo.\n",
    "- El valor de referencia de Python `None` indicará el hecho de que no hay nodo siguiente.\n",
    "\n",
    "\n",
    "<center><img src=\"Figures/S5-Nodo.png\" width=\"500\" height=\"800\"></center>"
   ]
  },
  {
   "cell_type": "code",
   "execution_count": null,
   "id": "cb0afbcf",
   "metadata": {
    "slideshow": {
     "slide_type": "fragment"
    }
   },
   "outputs": [],
   "source": [
    "class nodoSimple:\n",
    "    def __init__(self, d = None):\n",
    "        self.dato = d\n",
    "        self.liga = None\n",
    "    def asignarDato(self, d):\n",
    "        self.dato = d\n",
    "    def asignarLiga(self, x):\n",
    "        self.liga = x\n",
    "    def retornarDato(self):\n",
    "        return self.dato\n",
    "    def retornarLiga(self):\n",
    "        return self.liga"
   ]
  },
  {
   "cell_type": "code",
   "execution_count": null,
   "id": "bfdb2982",
   "metadata": {
    "slideshow": {
     "slide_type": "fragment"
    }
   },
   "outputs": [],
   "source": [
    "nodo1 = nodoSimple(\"Hola\")\n",
    "nodo2 = nodoSimple(\"grupos\")\n",
    "nodo3 = nodoSimple(\"82-83-84\")"
   ]
  },
  {
   "cell_type": "markdown",
   "id": "83d94d2e",
   "metadata": {
    "slideshow": {
     "slide_type": "slide"
    }
   },
   "source": [
    "# Lista\n",
    "\n",
    "Ventajas:\n",
    "\n",
    "- Una lista ligada estará representada por objetos de la clase LSL, los cuales tendrán una variable de instancia que apunte al primer objeto NodoSimple de la lista y otro que apunte al último, cuando la lista está vacía dichas variables apuntarán a None\n",
    "- La lista no ordenada se construirá a partir de una colección de nodos.\n",
    "- Cada uno vinculado al siguiente mediante referencias explícitas. \n",
    "- La clase LSL debe mantener una referencia al primer nodo y el último. \n",
    "\n",
    "Desventajas:\n",
    "- Utilizan más memoria que las matrices debido al almacenamiento utilizado por sus punteros.\n",
    "- Los nodos en una lista vinculada deben leerse en orden desde el principio, ya que las listas vinculadas son intrínsecamente de acceso secuencial."
   ]
  },
  {
   "cell_type": "code",
   "execution_count": null,
   "id": "0d7c4bb2",
   "metadata": {
    "slideshow": {
     "slide_type": "fragment"
    }
   },
   "outputs": [],
   "source": [
    "#from nodoSimple import nodoSimple\n",
    "class LSL:\n",
    "    def __init__(self): #Constructor\n",
    "        self.primero = None\n",
    "        self.ultimo = None\n",
    "    \n",
    "    def primerNodo (self):\n",
    "        return self.primero\n",
    "    \n",
    "    def ultimoNodo (self):\n",
    "        return self.ultimo\n",
    "    \n",
    "    def esVacia (self):\n",
    "        return self.primero == None\n",
    "    \n",
    "    def finDeRecorrido (self, p):\n",
    "        return p == None\n",
    "    \n",
    "    def recorrerLista (self):\n",
    "        p = self.primerNodo()\n",
    "        while not self.finDeRecorrido(p):\n",
    "            print(p.retornarDato(), end = \", \")\n",
    "            p = p.retornarLiga()\n",
    "            \n",
    "    def agregarDato (self, d):\n",
    "        x = nodoSimple(d) #cambio\n",
    "        p = self.primerNodo()\n",
    "        if p == None:\n",
    "            self.primero = x\n",
    "            self.ultimo = x\n",
    "        else:\n",
    "            self.ultimo.liga = x\n",
    "            self.ultimo = x\n",
    "            \n",
    "    def buscarDondeInsertar (self, d):\n",
    "        p = self.primerNodo()\n",
    "        y = None\n",
    "        while not self.finDeRecorrido(p) and p.retornarDato() < d:\n",
    "            y = p\n",
    "            p = p.retornarLiga()\n",
    "        return y\n",
    "    \n",
    "    def insertar (self, d, y=None): #cambio\n",
    "        x = nodoSimple(d) #cambio\n",
    "        self.conectar(x, y)\n",
    "        \n",
    "    def conectar (self, x, y):\n",
    "        if y == None:\n",
    "            if self.primero == None:\n",
    "                self.ultimo = x\n",
    "            else:\n",
    "                x.asignarLiga(self.primero)\n",
    "            self.primero = x\n",
    "            return\n",
    "        x.asignarLiga(y.retornarLiga())\n",
    "        y.asignarLiga(x)\n",
    "        if y == self.ultimo:\n",
    "            self.ultimo = x\n",
    "            \n",
    "    def longitud (self):\n",
    "        p = self.primerNodo()\n",
    "        n = 0\n",
    "        while not self.finDeRecorrido(p):\n",
    "            n = n + 1\n",
    "            p = p.retornarLiga()\n",
    "        return n\n",
    "    \n",
    "    def buscarDato (self, d, y):\n",
    "        x = self.primerNodo()\n",
    "        while not self.finDeRecorrido(x) and x.retornarDato() != d:\n",
    "            y.asignarDato(x)\n",
    "            x = x.retornarLiga()\n",
    "        return x\n",
    "    \n",
    "    def buscarDato2 (self, d):\n",
    "        y = nodoSimple()\n",
    "        x = self.primerNodo()\n",
    "        while not self.finDeRecorrido(x) and x.retornarDato() != d:\n",
    "            y.asignarDato(x)\n",
    "            x = x.retornarLiga()\n",
    "        return x, y\n",
    "   \n",
    "    def borrar (self, x, y = None):\n",
    "        if x == None:\n",
    "            print(\"Dato no está en la lista\")\n",
    "            return\n",
    "        if y == None:\n",
    "            if x != self.primero:\n",
    "                print(\"Falta el anterior del dato a borrar\")\n",
    "                return\n",
    "        else:\n",
    "            y = y.retornarDato()    \n",
    "        self.desconectar(x,y)\n",
    "          \n",
    "    def desconectar (self, x, y):\n",
    "        if y == None:\n",
    "            self.primero = x.retornarLiga()\n",
    "            if self.esVacia():\n",
    "                self.ultimo = None\n",
    "        else:\n",
    "            y.asignarLiga(x.retornarLiga())\n",
    "            if x == self.ultimo:\n",
    "                self.ultimo = y"
   ]
  },
  {
   "cell_type": "markdown",
   "id": "206add9f",
   "metadata": {
    "slideshow": {
     "slide_type": "subslide"
    }
   },
   "source": [
    "- El método `estaVacia()`, simplemente comprueba si el primero de la lista es una referencia a None. El resultado de la expresión booleana self.primero == None sólo será verdadero si no hay nodos en la lista enlazada."
   ]
  },
  {
   "cell_type": "code",
   "execution_count": null,
   "id": "0b789727",
   "metadata": {
    "slideshow": {
     "slide_type": "fragment"
    }
   },
   "outputs": [],
   "source": [
    "class LSL:\n",
    "    def __init__(self): #Constructor\n",
    "        self.primero = None\n",
    "        self.ultimo = None\n",
    "    def esVacia (self):\n",
    "        return self.primero == None"
   ]
  },
  {
   "cell_type": "code",
   "execution_count": null,
   "id": "08371665",
   "metadata": {
    "slideshow": {
     "slide_type": "fragment"
    }
   },
   "outputs": [],
   "source": [
    "miLista = LSL()\n",
    "print(\"miLista está vacía?\",miLista.esVacia()) # Aún no hay elementos"
   ]
  },
  {
   "cell_type": "markdown",
   "id": "e42011a8",
   "metadata": {
    "slideshow": {
     "slide_type": "subslide"
    }
   },
   "source": [
    "### Agregando nodos\n",
    "1. El método `agregarDato()`. Crea un nuevo nodo y hace que el dato del nodo sea el elemeto recibido. Luego une el nuevo nodo a la estructura existente (en la última posición).  Cambia la referencia de la liga del nodo de ser necesario y la referencia del último nodo.\n",
    "2. El método `recorrerLista()`. Imprime el dato de cada nodo y el valor del atributo liga del último nodo.\n",
    "3. El método `finDeRecorrido()`. Válida si el valor del atributo liga para el nodo es None. Devolviendo True o False.\n",
    "4. El método `longitud()`. Devuelve la cantidad de nodos que posee la lista ligada."
   ]
  },
  {
   "cell_type": "code",
   "execution_count": null,
   "id": "dd7b640f",
   "metadata": {
    "slideshow": {
     "slide_type": "fragment"
    }
   },
   "outputs": [],
   "source": [
    "class LSL:\n",
    "    def __init__(self): #Constructor\n",
    "        self.primero = None\n",
    "        self.ultimo = None\n",
    "    def agregarDato (self, d):\n",
    "        x = nodoSimple(d)\n",
    "        p = self.primerNodo()\n",
    "        if p == None:\n",
    "            self.primero = x\n",
    "            self.ultimo = x\n",
    "        else:\n",
    "            self.ultimo.liga = x\n",
    "            self.ultimo = x\n",
    "    def primerNodo(self):\n",
    "        return self.primero\n",
    "    def finDeRecorrido (self, p):\n",
    "        return p == None\n",
    "    def recorrerLista (self):\n",
    "        p = self.primerNodo()\n",
    "        while not self.finDeRecorrido(p):\n",
    "            print(p.retornarDato(), end = \", \")\n",
    "            p = p.retornarLiga()"
   ]
  },
  {
   "cell_type": "code",
   "execution_count": null,
   "id": "0f3bf1ac",
   "metadata": {
    "slideshow": {
     "slide_type": "subslide"
    }
   },
   "outputs": [],
   "source": [
    "miLista = LSL() #Creando un objeto de lista ligada\n",
    "miLista.agregarDato(\"Hola\")\n",
    "miLista.agregarDato(\"grupos\")\n",
    "miLista.agregarDato(\"82-83-84\")\n",
    "\n",
    "miLista.recorrerLista()\n",
    "print(\"Longitud: \",miLista.longitud())"
   ]
  },
  {
   "cell_type": "markdown",
   "id": "3f1588c4",
   "metadata": {
    "slideshow": {
     "slide_type": "subslide"
    }
   },
   "source": [
    "•\tEjercicio [crearLSL] -> Codifique el siguiente programa:\n",
    "- Cree un objeto de la clase lista ligada\n",
    "- Construya un ciclo que solicité repetidamente datos al usuario, y termine la ejecución cuando el valor ingresado sea cero.\n",
    "- Agregue el dato ingresado a su lista ligada.\n",
    "- Al finalizar el ciclo, imprima el contenido de la lista ligada y la longitud de esta."
   ]
  },
  {
   "cell_type": "code",
   "execution_count": null,
   "id": "1698aa48",
   "metadata": {
    "slideshow": {
     "slide_type": "fragment"
    }
   },
   "outputs": [],
   "source": []
  },
  {
   "cell_type": "markdown",
   "id": "6a3a31bc",
   "metadata": {
    "slideshow": {
     "slide_type": "subslide"
    }
   },
   "source": [
    "### Insertar un nodo en la posición correspondiente\n",
    "1. El método `buscarDondeInsertar()`. Retorna una referencia al nodo inmediatamente anterior (donde la longitud sea menor que el dato ingresado) a donde debemos insertar el nuevo, entonces insertar crea el nuevo nodo, actualiza la liga nuevo nodo y la del anterior.\n",
    "2. El método `insertar()`. Recibe el dato del nuevo nodo y la referencia del nodo que debe conectar con el nuevo. Este método crea un nuevo nodo con el dato recibido e invoca el método conectar enviandole el nuevo nodo y la referencia del nodo a conectar.\n",
    "3. El método `conectar()`, si el resultado de `buscarDondeInsertar()` es None, inserta el nuevo nodo en la primera posición, de no ser así, cambia las referencias de los nodos respectivos."
   ]
  },
  {
   "cell_type": "code",
   "execution_count": null,
   "id": "c36fda4d",
   "metadata": {
    "slideshow": {
     "slide_type": "fragment"
    }
   },
   "outputs": [],
   "source": [
    "class LSL:\n",
    "    def __init__(self): #Constructor\n",
    "        self.primero = None\n",
    "        self.ultimo = None\n",
    "    def buscarDondeInsertar(self, d):\n",
    "        p = self.primerNodo()\n",
    "        y = None\n",
    "        while not self.finDeRecorrido(p) and p.retornarDato() < d:\n",
    "            y = p\n",
    "            p = p.retornarLiga()\n",
    "        return y\n",
    "    def insertar (self, d, y):\n",
    "        x = nodoSimple(d)\n",
    "        self.conectar(x, y)\n",
    "    def primerNodo(self):\n",
    "        return self.primero\n",
    "    def finDeRecorrido (self, p):\n",
    "        return p == None\n",
    "    def conectar (self, x, y):\n",
    "        if y == None:\n",
    "            if self.primero == None:\n",
    "                self.ultimo = x\n",
    "            else:\n",
    "                x.asignarLiga(self.primero)\n",
    "            self.primero = x\n",
    "            return\n",
    "        x.asignarLiga(y.retornarLiga())\n",
    "        y.asignarLiga(x)\n",
    "        if y == self.ultimo:\n",
    "            self.ultimo = x"
   ]
  },
  {
   "cell_type": "code",
   "execution_count": null,
   "id": "89cad409",
   "metadata": {
    "slideshow": {
     "slide_type": "subslide"
    }
   },
   "outputs": [],
   "source": [
    "d = \"cómo están?\"\n",
    "x = miLista.buscarDondeInsertar(d)\n",
    "print(x.dato)\n",
    "miLista.insertar(d,x)\n",
    "e = \"Hi\"\n",
    "miLista.insertar(e) #Ingresa en la primera posición\n",
    "miLista.insertar(\"Hi\")\n",
    "miLista.insertar(\"Hi\")\n",
    "miLista.insertar(\"Hi\")\n",
    "print(miLista.recorrerLista())"
   ]
  },
  {
   "cell_type": "markdown",
   "id": "f56f20a1",
   "metadata": {
    "slideshow": {
     "slide_type": "subslide"
    }
   },
   "source": [
    "•\tEjercicio [insertarLSL] -> Codifique el siguiente programa:\n",
    "- Construya un ciclo que solicité 10 datos al usuario.\n",
    "- Inserte el dato en lista ligada de manera ordenada.\n",
    "- Al finalizar el ciclo, imprima el contenido de la lista ligada y la longitud de esta."
   ]
  },
  {
   "cell_type": "code",
   "execution_count": null,
   "id": "dddbb786",
   "metadata": {
    "slideshow": {
     "slide_type": "fragment"
    }
   },
   "outputs": [],
   "source": []
  },
  {
   "cell_type": "markdown",
   "id": "9722554d",
   "metadata": {
    "slideshow": {
     "slide_type": "subslide"
    }
   },
   "source": [
    "### Eliminar un nodo\n",
    "1. El método `buscarDato()`. Recibe el dato a buscar y un nodo vacío. Si encuentra el nodo que coincide, devuelve la referencia al nodo.\n",
    "2. El método `borrar()`. Recibe el resultado del método `buscarDato()` y el nodo creado anteriormente. Si el resultado no fue None, se procede a desconectar el nodo.\n",
    "3. El método `desconectar()`. Modifica las referencias en el atributo liga, para desconectar el nodo a eliminar.\n"
   ]
  },
  {
   "cell_type": "code",
   "execution_count": null,
   "id": "a058cff1",
   "metadata": {
    "slideshow": {
     "slide_type": "fragment"
    }
   },
   "outputs": [],
   "source": [
    "class LSL:\n",
    "    def __init__(self): #Constructor\n",
    "        self.primero = None\n",
    "        self.ultimo = None\n",
    "    def buscarDato (self, d, y):\n",
    "        x = self.primerNodo()\n",
    "        while not self.finDeRecorrido(x) and x.retornarDato() != d:\n",
    "            y.asignarDato(x)\n",
    "            x = x.retornarLiga()\n",
    "        return x\n",
    "    def borrar (self, x, y = None):\n",
    "        if x == None:\n",
    "            print(\"Dato no está en la lista\")\n",
    "            return\n",
    "        if y == None:\n",
    "            if x != self.primero:\n",
    "                print(\"Falta el anterior del dato a borrar\")\n",
    "                return\n",
    "        else:\n",
    "            y = y.retornarDato()\n",
    "            self.desconectar(x,y)\n",
    "       \n",
    "    def desconectar (self, x, y):\n",
    "         if y == None:\n",
    "                self.primero = x.retornarLiga()\n",
    "                if self.esVacia():\n",
    "                    self.ultimo = None\n",
    "        else:\n",
    "            y.asignarLiga(x.retornarLiga())\n",
    "            if x == self.ultimo:\n",
    "                self.ultimo = y\n",
    "    def finDeRecorrido (self, p):\n",
    "        return p == None"
   ]
  },
  {
   "cell_type": "markdown",
   "id": "1abbdb20",
   "metadata": {
    "slideshow": {
     "slide_type": "subslide"
    }
   },
   "source": [
    "- Para borrar un nodo de la lista, tenemos que encontrarlo en la lista; el método buscarDato(\"Hi\", y) retorna una referencia al nodo que tiene a la “Hi” como dato y  el objeto __y__ será el nodo anterior. \n",
    "\n",
    "- Por lo tanto __x__ será una referencia al nodo donde está “Hi” y __y__ será una referencia al nodo anterior (o None si es el primero), luego se llama al método borrar(x, y) que finalmente lo que hace es cambiar la liga de __y__ que es el nodo anterior por la liga de __x__ que es el nodo actual."
   ]
  },
  {
   "cell_type": "code",
   "execution_count": null,
   "id": "1d634c4d",
   "metadata": {
    "slideshow": {
     "slide_type": "fragment"
    }
   },
   "outputs": [],
   "source": [
    "miLista.recorrerLista()\n",
    "\n",
    "d = \"Hi\"\n",
    "y = nodoSimple()\n",
    "x = miLista.buscarDato(d,y)\n",
    "print(\"Dato encontrado\",x.dato)\n",
    "miLista.borrar(x, y)\n",
    "miLista.recorrerLista()"
   ]
  },
  {
   "cell_type": "code",
   "execution_count": null,
   "id": "050aa675",
   "metadata": {
    "slideshow": {
     "slide_type": "fragment"
    }
   },
   "outputs": [],
   "source": [
    "miLista.recorrerLista()\n",
    "x = miLista.primerNodo()\n",
    "miLista.borrar(x)\n",
    "print(\"Después de borrar el primer nodo\")\n",
    "miLista.recorrerLista()\n",
    "print(\"Longitud: \",miLista.longitud())\n"
   ]
  }
 ],
 "metadata": {
  "celltoolbar": "Slideshow",
  "kernelspec": {
   "display_name": "Python 3",
   "language": "python",
   "name": "python3"
  },
  "language_info": {
   "codemirror_mode": {
    "name": "ipython",
    "version": 3
   },
   "file_extension": ".py",
   "mimetype": "text/x-python",
   "name": "python",
   "nbconvert_exporter": "python",
   "pygments_lexer": "ipython3",
   "version": "3.9.0"
  },
  "rise": {
   "autolaunch": true,
   "backimage": "mybackimage.png",
   "scroll": true
  }
 },
 "nbformat": 4,
 "nbformat_minor": 5
}
