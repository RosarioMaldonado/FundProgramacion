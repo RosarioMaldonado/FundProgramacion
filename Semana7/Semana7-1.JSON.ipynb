{
 "cells": [
  {
   "cell_type": "markdown",
   "id": "62a5f2f1",
   "metadata": {
    "slideshow": {
     "slide_type": "slide"
    }
   },
   "source": [
    "# JSON (JavaScript Object Notation) \n",
    "- Formato para la represantación de dato, similar a xml o html.\n",
    "- Usado comunmente para APIs (Application Programming Interface) y Archivos de configuración. Juegos, editores de texto...\n",
    "- Ligero y fácil de leer/escribir\n",
    "- Es fácil para los humanos leer y escribir. \n",
    "- Es fácil para las máquinas analizar y generar. \n",
    "- JSON es un formato de texto que es completamente independiente del lenguaje, pero utiliza convenciones que son familiares para los programadores. \n",
    "- Estas propiedades hacen de JSON un lenguaje de intercambio de datos ideal.\n",
    "- Jerarquía de datos"
   ]
  },
  {
   "cell_type": "code",
   "execution_count": null,
   "id": "cb68f71e",
   "metadata": {
    "slideshow": {
     "slide_type": "fragment"
    }
   },
   "outputs": [],
   "source": [
    "#arhivo.json\n",
    "{\n",
    "  \"nombre\":\"Jonh Doe\",\n",
    "  \"profesion\":\"Programador\",\n",
    "  \"edad\":25,\n",
    "  \"lenguajes\":[\"PHP\",\"Javascript\",\"Python\"],\n",
    "  \"disponibilidadParaViajar\":\"true\",\n",
    "  \"rangoProfesional\": {\n",
    "      \"aniosDeExperiencia\": 7,\n",
    "      \"nivel\": \"Senior\"\n",
    "  }\n",
    "}"
   ]
  },
  {
   "cell_type": "markdown",
   "id": "a795719d",
   "metadata": {
    "slideshow": {
     "slide_type": "slide"
    }
   },
   "source": [
    "# Usos:\n",
    "- Se utiliza al escribir aplicaciones basadas en JavaScript que incluyen extensiones de navegador y sitios web.\n",
    "- El formato JSON se utiliza para serializar y transmitir datos estructurados a través de una conexión de red.\n",
    "- Se utiliza principalmente para transmitir datos entre un servidor y aplicaciones web.\n",
    "- Los servicios web y las API utilizan el formato JSON para proporcionar datos públicos.\n",
    "- Se puede utilizar con lenguajes de programación modernos.\n",
    "<center><img src=\"Figures/S7-APIs.png\" width=\"600\" height=\"800\"></center>"
   ]
  },
  {
   "cell_type": "markdown",
   "id": "39b0c8cc",
   "metadata": {
    "slideshow": {
     "slide_type": "slide"
    }
   },
   "source": [
    "Al transmitir datos o almacenarlos en un archivo, se requiere que los datos sean cadenas de bytes, pero los objetos complejos rara vez tienen este formato. La serialización puede convertir estos objetos complejos en cadenas de bytes para tal uso. Después de que se transmitan las cadenas de bytes, el receptor tendrá que recuperar el objeto original de la cadena de bytes. Esto se conoce como deserialización."
   ]
  },
  {
   "cell_type": "code",
   "execution_count": null,
   "id": "3513320c",
   "metadata": {
    "slideshow": {
     "slide_type": "fragment"
    }
   },
   "outputs": [],
   "source": [
    "#arhivo.json\n",
    "{\n",
    "  \"nombre\":\"Jonh Doe\",\n",
    "  \"profesion\":\"Programador\",\n",
    "  \"edad\":25,\n",
    "  \"lenguajes\":[\"PHP\",\"Javascript\",\"Python\"],\n",
    "  \"disponibilidadParaViajar\":\"true\",\n",
    "  \"rangoProfesional\": {\n",
    "      \"aniosDeExperiencia\": 7,\n",
    "      \"nivel\": \"Senior\"\n",
    "  }\n",
    "}"
   ]
  },
  {
   "cell_type": "markdown",
   "id": "04d3c9ef",
   "metadata": {
    "slideshow": {
     "slide_type": "slide"
    }
   },
   "source": [
    "# JSON: Dependencias de una aplicación\n",
    "\n",
    "- La `dependencies` propiedad de un módulo `package.json` es donde se definen las dependencias, los otros módulos que usa este módulo.\n",
    "\n",
    "- La `devDependencies` propiedad se usa generalmente para definir las dependencias que el módulo necesita para ejecutarse en desarrollo .\n",
    "\n",
    "<center><img src=\"Figures/S7-Config.png\" width=\"600\" height=\"800\"></center>"
   ]
  },
  {
   "cell_type": "code",
   "execution_count": null,
   "id": "3a79b01d",
   "metadata": {
    "slideshow": {
     "slide_type": "fragment"
    }
   },
   "outputs": [],
   "source": [
    "#package.json\n",
    "{\n",
    "  \"name\": \"spa\",\n",
    "  \"version\": \"0.0.0\",\n",
    "  \"scripts\": {\n",
    "    \"ng\": \"ng\",\n",
    "    \"start\": \"ng serve\",\n",
    "    \"build\": \"ng build\",\n",
    "    \"test\": \"ng test\",\n",
    "    \"lint\": \"ng lint\",\n",
    "    \"e2e\": \"ng e2e\"\n",
    "  },\n",
    "  \"private\": true,\n",
    "  \"dependencies\": {\n",
    "    \"@angular/animations\": \"^6.0.0\",\n",
    "    \"@angular/common\": \"^6.0.0\",\n",
    "    \"@angular/compiler\": \"^6.0.0\",\n",
    "    \"@angular/core\": \"^6.0.0\",\n",
    "    \"@angular/forms\": \"^6.0.0\",\n",
    "    \"@angular/http\": \"^6.0.0\",\n",
    "    \"@angular/platform-browser\": \"^6.0.0\",\n",
    "    \"@angular/platform-browser-dynamic\": \"^6.0.0\",\n",
    "    \"@angular/router\": \"^6.0.0\",\n",
    "    \"bootstrap\": \"^4.1.1\",\n",
    "    \"core-js\": \"^2.5.4\",\n",
    "    \"jquery\": \"^3.3.1\",\n",
    "    \"popper.js\": \"^1.14.3\",\n",
    "    \"rxjs\": \"^6.0.0\",\n",
    "    \"zone.js\": \"^0.8.26\"\n",
    "  },\n",
    "  \"devDependencies\": {\n",
    "    \"@angular/compiler-cli\": \"^6.0.0\",\n",
    "    \"@angular-devkit/build-angular\": \"~0.6.1\",\n",
    "    \"typescript\": \"~2.7.2\",\n",
    "    \"@angular/cli\": \"~6.0.1\",\n",
    "    \"@angular/language-service\": \"^6.0.0\",\n",
    "    \"@types/jasmine\": \"~2.8.6\",\n",
    "    \"@types/jasminewd2\": \"~2.0.3\",\n",
    "    \"@types/node\": \"~8.9.4\",\n",
    "    \"codelyzer\": \"~4.2.1\",\n",
    "    \"jasmine-core\": \"~2.99.1\",\n",
    "    \"jasmine-spec-reporter\": \"~4.2.1\",\n",
    "    \"karma\": \"~1.7.1\",\n",
    "    \"karma-chrome-launcher\": \"~2.2.0\",\n",
    "    \"karma-coverage-istanbul-reporter\": \"~1.4.2\",\n",
    "    \"karma-jasmine\": \"~1.1.1\",\n",
    "    \"karma-jasmine-html-reporter\": \"^0.2.2\",\n",
    "    \"protractor\": \"~5.3.0\",\n",
    "    \"ts-node\": \"~5.0.1\",\n",
    "    \"tslint\": \"~5.9.1\"\n",
    "  }\n",
    "}"
   ]
  },
  {
   "cell_type": "markdown",
   "id": "710741ac",
   "metadata": {
    "slideshow": {
     "slide_type": "slide"
    }
   },
   "source": [
    "# Sintaxis para crear un objeto JSON\n",
    "\n",
    "- JSON se basa en dos estructuras:\n",
    "- El objeto JSON debe estar encerrado con llaves { }\n",
    "- Un objeto puede contener multiplés key:value\n",
    "- La llave debe ser un string\n",
    "- Los valores en el archivos Json pueden ser:\n",
    "    - Strings: \"Hola mundo\"\n",
    "    - Números: 10 1.5 -20\n",
    "    - Booleans: true false\n",
    "    - null: null\n",
    "    - Arreglos: [1,2,3] [\"Hola\",\"Mundo\"]\n",
    "    - Objetos: {\"key\":\"value\"} {\"edad\":25}\n",
    "- la lleva y el valor se separaran con (:)\n",
    "- Cada key/value es separada por (,)"
   ]
  },
  {
   "cell_type": "code",
   "execution_count": null,
   "id": "e7d312d1",
   "metadata": {
    "slideshow": {
     "slide_type": "fragment"
    }
   },
   "outputs": [],
   "source": [
    "#prueba.json\n",
    "{\n",
    "    \"key\":\"value\",\n",
    "    \"key\":\"value\",\n",
    "}"
   ]
  },
  {
   "cell_type": "code",
   "execution_count": null,
   "id": "9fd01f25",
   "metadata": {
    "slideshow": {
     "slide_type": "fragment"
    }
   },
   "outputs": [],
   "source": [
    "#arhivo.json\n",
    "{\n",
    "  \"nombre\":\"Jonh Doe\",\n",
    "  \"profesion\":\"Programador\",\n",
    "  \"edad\":25,\n",
    "  \"lenguajes\":[\"PHP\",\"Javascript\",\"Python\"],\n",
    "  \"disponibilidadParaViajar\":true,\n",
    "  \"rangoProfesional\": {\n",
    "      \"aniosDeExperiencia\": 7,\n",
    "      \"nivel\": \"Senior\"\n",
    "  }\n",
    "}"
   ]
  },
  {
   "cell_type": "markdown",
   "id": "bf363696",
   "metadata": {
    "slideshow": {
     "slide_type": "slide"
    }
   },
   "source": [
    "# Serializar\n",
    "Para serializar un objeto (diccionario, lista, tupla) en Python podemos importar la librería json y utilizar el método dump:"
   ]
  },
  {
   "cell_type": "code",
   "execution_count": null,
   "id": "bc247182",
   "metadata": {
    "slideshow": {
     "slide_type": "fragment"
    }
   },
   "outputs": [],
   "source": [
    "import json\n",
    "\n",
    "x = {\n",
    "  \"nombre\": \"Carlos\",\n",
    "  \"edad\": 30,\n",
    "  \"casado\": True,\n",
    "  \"divorciado\": False,\n",
    "  \"hijos\": (\"Ann\",\"Billy\"),\n",
    "  \"mascotas\": None,\n",
    "  \"carros\": [\n",
    "    {\"modelo\": \"BMW 230\", \"mpg\": 27.5},\n",
    "    {\"modelo\": \"Ford Edge\", \"mpg\": 24.1}\n",
    "  ]\n",
    "}\n",
    "\n",
    "print(json.dumps(x))"
   ]
  },
  {
   "cell_type": "markdown",
   "id": "30ae542c",
   "metadata": {
    "slideshow": {
     "slide_type": "subslide"
    }
   },
   "source": [
    "Cuando convierte de Python a JSON, los objetos de Python se convierten en el equivalente de JSON (JavaScript):\n",
    "\n",
    "|Python||JSON|\n",
    "| --- || --- |\n",
    "|  dict  || Object |\n",
    "| list||Array|\n",
    "| tuple||Array|\n",
    "| str||String|\n",
    "| int||Number|\n",
    "| float||Number|\n",
    "| True||true|\n",
    "| False||false|\n",
    "| None||null|\n"
   ]
  },
  {
   "cell_type": "code",
   "execution_count": 2,
   "id": "70d05471",
   "metadata": {
    "slideshow": {
     "slide_type": "fragment"
    }
   },
   "outputs": [
    {
     "name": "stdout",
     "output_type": "stream",
     "text": [
      "{\"name\": \"John\", \"age\": 30}\n",
      "[\"apple\", \"bananas\"]\n",
      "[\"apple\", \"bananas\"]\n",
      "\"hello\"\n",
      "42\n",
      "31.76\n",
      "true\n",
      "false\n",
      "null\n"
     ]
    }
   ],
   "source": [
    "import json\n",
    "\n",
    "print(json.dumps({\"name\": \"John\", \"age\": 30}))\n",
    "print(json.dumps([\"apple\", \"bananas\"]))\n",
    "print(json.dumps((\"apple\", \"bananas\")))\n",
    "print(json.dumps(\"hello\"))\n",
    "print(json.dumps(42))\n",
    "print(json.dumps(31.76))\n",
    "print(json.dumps(True))\n",
    "print(json.dumps(False))\n",
    "print(json.dumps(None))"
   ]
  },
  {
   "cell_type": "markdown",
   "id": "0f01590f",
   "metadata": {
    "slideshow": {
     "slide_type": "subslide"
    }
   },
   "source": [
    "# Deserializar\n",
    "Para deserializar una cadena, podemos utilizar la siguiente instrucción:"
   ]
  },
  {
   "cell_type": "code",
   "execution_count": 6,
   "id": "8a235bed",
   "metadata": {
    "slideshow": {
     "slide_type": "fragment"
    }
   },
   "outputs": [
    {
     "name": "stdout",
     "output_type": "stream",
     "text": [
      "{'nombre': 'John', 'edad': 30, 'ciudad': 'New York'}\n",
      "30\n"
     ]
    }
   ],
   "source": [
    "x =  '{ \"nombre\":\"John\", \"edad\":30, \"ciudad\":\"New York\"}'\n",
    "import json\n",
    "objeto = json.loads(x)\n",
    "\n",
    "print(objeto)\n",
    "print(objeto[\"edad\"])"
   ]
  },
  {
   "cell_type": "markdown",
   "id": "7716ab5f",
   "metadata": {
    "slideshow": {
     "slide_type": "subslide"
    }
   },
   "source": [
    "Para leer un archivo con un objeto serializado en formato JSON:"
   ]
  },
  {
   "cell_type": "code",
   "execution_count": null,
   "id": "9ddcd6c5",
   "metadata": {
    "slideshow": {
     "slide_type": "fragment"
    }
   },
   "outputs": [],
   "source": [
    "f = open(\"toptracks.json\",\"r\")\n",
    "data = json.loads(f.read())\n",
    "\n",
    "print(data)"
   ]
  }
 ],
 "metadata": {
  "celltoolbar": "Slideshow",
  "kernelspec": {
   "display_name": "Python 3",
   "language": "python",
   "name": "python3"
  },
  "language_info": {
   "codemirror_mode": {
    "name": "ipython",
    "version": 3
   },
   "file_extension": ".py",
   "mimetype": "text/x-python",
   "name": "python",
   "nbconvert_exporter": "python",
   "pygments_lexer": "ipython3",
   "version": "3.9.0"
  },
  "rise": {
   "autolaunch": true,
   "backimage": "mybackimage.png",
   "scroll": true
  }
 },
 "nbformat": 4,
 "nbformat_minor": 5
}
