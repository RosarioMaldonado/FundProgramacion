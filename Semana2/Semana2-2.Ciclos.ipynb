{
 "cells": [
  {
   "cell_type": "markdown",
   "id": "62a5f2f1",
   "metadata": {
    "slideshow": {
     "slide_type": "slide"
    }
   },
   "source": [
    "# 1. Introducción\n",
    "Suponga que le piden mostrar 100 veces el mensaje “Bienvenido a Python”.\n",
    "¿Cómo lo solucionamos con lo que hemos visto hasta el momento?"
   ]
  },
  {
   "cell_type": "code",
   "execution_count": null,
   "id": "3764428d",
   "metadata": {
    "slideshow": {
     "slide_type": "fragment"
    }
   },
   "outputs": [],
   "source": [
    "print(\"Bienvenido a Python\")\n",
    "print(\"Bienvenido a Python\")\n",
    "print(\"Bienvenido a Python\")\n",
    "print(\"Bienvenido a Python\")\n",
    "print(\"Bienvenido a Python\")\n",
    "print(\"Bienvenido a Python\")\n",
    "#................\n",
    "\n",
    "# ¿Qué les parece?"
   ]
  },
  {
   "cell_type": "markdown",
   "id": "aed7496b",
   "metadata": {
    "slideshow": {
     "slide_type": "subslide"
    }
   },
   "source": [
    "# Ciclos\n",
    "\n",
    "- Afortunadamente, Python provee unas estructuras llamadas “ciclos” (loop).\n",
    "- Los ciclos permiten controlar cuantas veces se realiza una operación, o una secuencia de operaciones.\n",
    "- Usando un ciclo, se le puede decir a la computadora que muestre un texto cien veces sin tener que codificar “la declaración de impresión” cien veces. Veamos un ejemplo:"
   ]
  },
  {
   "cell_type": "code",
   "execution_count": null,
   "id": "fd5ddb04",
   "metadata": {
    "slideshow": {
     "slide_type": "fragment"
    }
   },
   "outputs": [],
   "source": [
    "for i in range(0,5):\n",
    "    print(\"Bienvenido a Python\")\n",
    "print(\"Fin programa\")\n"
   ]
  },
  {
   "cell_type": "markdown",
   "id": "d1a020ee",
   "metadata": {
    "slideshow": {
     "slide_type": "subslide"
    }
   },
   "source": [
    "### Estructura ciclo\n",
    "Todo ciclo consta de 3 partes fundamentales:\n",
    "\n",
    "- Inicialización variable de control\n",
    "    - Se inicializa una variable que servirá para controlar la ejecución del ciclo.\n",
    "- Prueba variable de control\n",
    "    - Se realiza una prueba sobre la variable de control para verificar si se puede o no seguir ejecutando el ciclo.\n",
    "- Cambio variable de control\n",
    "    - Se realiza un cambio sobre la variable de control."
   ]
  },
  {
   "cell_type": "markdown",
   "id": "f9dfdf7b",
   "metadata": {
    "slideshow": {
     "slide_type": "fragment"
    }
   },
   "source": [
    "<img src=\"Figures/S2-EstructuraCiclo.png\" width=\"800\" height=\"1000\">"
   ]
  },
  {
   "cell_type": "markdown",
   "id": "d2b0a263",
   "metadata": {
    "slideshow": {
     "slide_type": "subslide"
    }
   },
   "source": [
    "Python proporciona dos tipos de estructuras de bucles las cuales se detallarán a continuación: “while” y “for”."
   ]
  },
  {
   "cell_type": "markdown",
   "id": "5480d87f",
   "metadata": {
    "slideshow": {
     "slide_type": "slide"
    }
   },
   "source": [
    "# 2. While\n",
    "Un ciclo while ejecuta instrucciones repetidamente, mientras una condición definida en el ciclo sea verdadera.\n",
    "Generalmente, la sintaxis para el ciclo while es la siguiente:"
   ]
  },
  {
   "cell_type": "code",
   "execution_count": null,
   "id": "a1b7a65d",
   "metadata": {
    "slideshow": {
     "slide_type": "fragment"
    }
   },
   "outputs": [],
   "source": [
    "i = 1 #Inicialización variable control\n",
    "while i<6: #Prueba variable control\n",
    "    print(i)\n",
    "    i=i+1 #Cambio variable control, lo mimos que i += 1\n",
    "print(\"Sigo ejecutando instrucciones\")"
   ]
  },
  {
   "cell_type": "markdown",
   "id": "84f24358",
   "metadata": {
    "slideshow": {
     "slide_type": "subslide"
    }
   },
   "source": [
    "Ojo -> su ciclo puede quedarse ejecutando infinitamente si:\n",
    "- Su condición no puede validarse como False en algún momento.\n",
    "- No modifica la variable de control"
   ]
  },
  {
   "cell_type": "code",
   "execution_count": null,
   "id": "9734e5d4",
   "metadata": {
    "slideshow": {
     "slide_type": "fragment"
    }
   },
   "outputs": [],
   "source": [
    "i = 1 \n",
    "while i >= 0: #Infinito\n",
    "    print(i)\n",
    "    i=i+1 \n",
    "    \n",
    "i = 1 \n",
    "while i < 8: \n",
    "    print(i) # Infinito \n",
    "    "
   ]
  },
  {
   "cell_type": "markdown",
   "id": "a06d250e",
   "metadata": {
    "slideshow": {
     "slide_type": "subslide"
    }
   },
   "source": [
    "•\tEjercicio [CicloNumeros] \n",
    "- Programe un ciclo que imprima los números del 6 al 14 (inclusivo)"
   ]
  },
  {
   "cell_type": "code",
   "execution_count": null,
   "id": "087a2532",
   "metadata": {
    "slideshow": {
     "slide_type": "fragment"
    }
   },
   "outputs": [],
   "source": [
    "i = 6 \n",
    "while i <= 14: #Infinito\n",
    "    print(i)\n",
    "    i=i+1\n",
    "else:\n",
    "    print(\"Salio del ciclo\")"
   ]
  },
  {
   "cell_type": "markdown",
   "id": "cb2fef9d",
   "metadata": {
    "slideshow": {
     "slide_type": "fragment"
    }
   },
   "source": [
    "•\tEjercicio [CicloPares] \n",
    "- Programe un ciclo que imprima los números pares del 2 al 20 (inclusivo)"
   ]
  },
  {
   "cell_type": "code",
   "execution_count": null,
   "id": "42c525f7",
   "metadata": {
    "scrolled": true,
    "slideshow": {
     "slide_type": "fragment"
    }
   },
   "outputs": [],
   "source": [
    "i=2\n",
    "while i<=20:\n",
    "  if(i%2==0):\n",
    "    print(i)\n",
    "  i+=1 \n"
   ]
  },
  {
   "cell_type": "markdown",
   "id": "4be23e96",
   "metadata": {
    "slideshow": {
     "slide_type": "slide"
    }
   },
   "source": [
    "## While con centinela\n",
    "- En los programas anteriores, conocemos exactamente cuantas veces se ejecutará cada ciclo while. A esto se le conoce como ciclo controlado por contador.\n",
    "\n",
    "- Otra técnica común para controlar un ciclo es definir un valor especial que recogeremos del usuario. \n",
    "\n",
    "- Este valor de entrada especial, conocido como valor centinela, significará el final de la ejecución de un ciclo. \n",
    "\n",
    "- Un ciclo que utiliza un valor centinela para controlar su ejecución se denomina ciclo controlado por centinela."
   ]
  },
  {
   "cell_type": "code",
   "execution_count": null,
   "id": "311a7654",
   "metadata": {
    "scrolled": true,
    "slideshow": {
     "slide_type": "fragment"
    }
   },
   "outputs": [],
   "source": [
    "num = int(input(\"Ingrese un num positivo, o 0 para salir\")) #Inicialización variable control\n",
    "while num !=0: #Prueba variable control\n",
    "    print(num)\n",
    "    num = int(input(\"Ingrese un num positivo, o 0 para salir\")) #Cambio variable control, lo mimos que i += 1 "
   ]
  },
  {
   "cell_type": "code",
   "execution_count": null,
   "id": "02b9af76",
   "metadata": {
    "slideshow": {
     "slide_type": "subslide"
    }
   },
   "outputs": [],
   "source": [
    "while True:\n",
    "    num = int(input(\"Ingrese un num positivo, o 0 para salir\"))\n",
    "    if(num==0):\n",
    "        break\n",
    "        print(\"holaaaaaaaa\")\n",
    "    else:\n",
    "        print(num)\n",
    "print(\"Sigo por acá\")\n",
    "# “break”, es una palabra reservada de Python que sirve para salir de la ejecución del ciclo que la contiene\n"
   ]
  },
  {
   "cell_type": "markdown",
   "id": "0d9377a7",
   "metadata": {
    "slideshow": {
     "slide_type": "subslide"
    }
   },
   "source": [
    "•\tEjercicio [Acumulado]\n",
    "- Cree un ciclo while infinito\n",
    "- Pídale al usuario dentro del ciclo un número (int) (num1)\n",
    "- Si el usuario ingresa 0, detenga el ciclo (utilice un break).\n",
    "- Si el usuario ingresa cualquier otro número súmelo en un acumulador, y vaya mostrando el acumulado hasta el momento."
   ]
  },
  {
   "cell_type": "code",
   "execution_count": null,
   "id": "2abf01a7",
   "metadata": {
    "slideshow": {
     "slide_type": "fragment"
    }
   },
   "outputs": [],
   "source": [
    "acumulado = 0\n",
    "while True:\n",
    "    num = int(input(\"num\"))\n",
    "    if(num == 0):\n",
    "        break\n",
    "    else:\n",
    "        acumulado = acumulado + num # acumulado += num\n",
    "        print(\"El acumulado es: \", acumulado)\n",
    "print(\"El acumulado total es:\", acumulado)"
   ]
  },
  {
   "cell_type": "markdown",
   "id": "7f6cb1e1",
   "metadata": {
    "slideshow": {
     "slide_type": "slide"
    }
   },
   "source": [
    "# 3. Ciclo for\n",
    "- Un bucle for se utiliza para iterar sobre una secuencia (que es una lista, una tupla, un diccionario, un conjunto o una cadena).\n",
    "\n",
    "- Con el ciclo for podemos ejecutar un conjunto de declaraciones, una vez para cada elemento de una lista, tupla, conjunto, etc.\n",
    "\n",
    "- Su función es más como un iterador a diferencia de otros lenguajes de programación, por lo que:\n",
    "\n",
    "    - Se debe declarar la variable de control, pero esta no se inicializa, ya que siempre tomará el primer valor de la secuencia.\n",
    "    - El cambio a la variable  de control lo hace el for, inicialmente tomará el primer valor de la secuencia y ejecuta las intrucciones, luego el segundo valor, y así sucesivamente\n",
    "    - La prueba en este caso la hace el for al verificar que los elemento de la secuencia recibida no se han terminado."
   ]
  },
  {
   "cell_type": "code",
   "execution_count": null,
   "id": "6b7fa830",
   "metadata": {
    "slideshow": {
     "slide_type": "fragment"
    }
   },
   "outputs": [],
   "source": [
    "texto = \"Hola luisa\"\n",
    "for x in texto: # X es la variable de control que itera por los valores de la variable texto\n",
    "    print(x)\n",
    "\n",
    " "
   ]
  },
  {
   "cell_type": "markdown",
   "id": "5583a9f3",
   "metadata": {
    "slideshow": {
     "slide_type": "slide"
    }
   },
   "source": [
    "## For con la función range\n",
    "- Tener que definir manualmente arreglos con los valores a iterar se vuelve muy tedioso.\n",
    "\n",
    "- Por lo tanto, Python provee una función que nos facilita la definición de esos valores. Esa función se llama range.\n",
    "\n",
    "- La función range(n) devuelve una secuencia de números.\n",
    "    - Por defecto, comenzará desde el número 0.\n",
    "    - Por defecto, incrementará de a 1.\n",
    "    - Y terminará antes de llegar al número n enviado (es decir, hasta n-1)."
   ]
  },
  {
   "cell_type": "code",
   "execution_count": null,
   "id": "23824993",
   "metadata": {
    "slideshow": {
     "slide_type": "fragment"
    }
   },
   "outputs": [],
   "source": [
    "for i in range(5):\n",
    "    print(i)"
   ]
  },
  {
   "cell_type": "markdown",
   "id": "b66678de",
   "metadata": {
    "slideshow": {
     "slide_type": "subslide"
    }
   },
   "source": [
    "### Variaciones de la función range\n",
    "- La función range también funciona si se le envían 2 o 3 parámetros. Veamos la documentación de la función range.\n",
    "\n",
    "- range(inicio, parada, incremento).\n",
    "    - inicio (opcional): indica el número desde el cual inicia la secuencia.\n",
    "    - parada (requerido): indica el número en el cual termina la secuencia.\n",
    "    - incremento (opcional): indica como incrementa la secuencia.\n",
    "\n",
    "- Si definimos por ejemplo range(1,7,2). Se crearía una secuencia con los números (1, 3, 5)."
   ]
  },
  {
   "cell_type": "code",
   "execution_count": null,
   "id": "ae77b464",
   "metadata": {
    "slideshow": {
     "slide_type": "fragment"
    }
   },
   "outputs": [],
   "source": [
    "for i in range(10,0,-1):  #(0,11,3) (10,20,30) (10,0,-1)\n",
    "    print(i) "
   ]
  },
  {
   "cell_type": "markdown",
   "id": "148e62c9",
   "metadata": {
    "slideshow": {
     "slide_type": "subslide"
    }
   },
   "source": [
    "•\tEjercicio [MultiplosDe5] -> Codifique el siguiente programa:\n",
    "- Pídale al usuario un número por pantalla.\n",
    "\n",
    "- Cree un ciclo que imprima todos los múltiplos de 5, desde 5, hasta el número que ingreso el usuario.\n",
    "\n",
    "- Si el usuario ingreso el número 16. El algoritmo debería imprimir los números 5, 10 y 15."
   ]
  },
  {
   "cell_type": "code",
   "execution_count": null,
   "id": "759cc970",
   "metadata": {
    "slideshow": {
     "slide_type": "fragment"
    }
   },
   "outputs": [],
   "source": [
    "num = int(input(\"Ingrese num: \"))\n",
    "for i in range(5,num+1,5):\n",
    "    print(i)\n",
    "    \n",
    "num = int(input(\"Ingrese un numero: \"))\n",
    "for i in range(0,num+1,5):  #(inicio,numero ingresa usuario, iteracion o aumento)\n",
    "    print(i)\n"
   ]
  },
  {
   "cell_type": "markdown",
   "id": "a3a96ad3",
   "metadata": {
    "slideshow": {
     "slide_type": "subslide"
    }
   },
   "source": [
    "### Range con len\n",
    "También podemos crear una mezcla de range con len, para recorrer los valores de un arreglo, y que la variable de control almacene la información de la “posición” actual del arreglo que esta siendo recorrido. Veamos:"
   ]
  },
  {
   "cell_type": "code",
   "execution_count": null,
   "id": "6d27dd05",
   "metadata": {
    "slideshow": {
     "slide_type": "fragment"
    }
   },
   "outputs": [],
   "source": [
    "texto = \"Hola mundo\"\n",
    "for i in range(len(texto)):\n",
    "    print(\"Posición:\",i,\"Carácter\",texto[i])"
   ]
  },
  {
   "cell_type": "markdown",
   "id": "01c9094c",
   "metadata": {
    "slideshow": {
     "slide_type": "fragment"
    }
   },
   "source": [
    "•\tEjercicio [CaracteresInversos] -> Codifique el siguiente programa:\n",
    "- Pídale al usuario un texto por pantalla.\n",
    "- Cree un ciclo for con range que lea el texto de forma inversa, es decir de derecha a izquierda.\n",
    "- Imprima la posición del carácter y el carácter.\n"
   ]
  },
  {
   "cell_type": "code",
   "execution_count": null,
   "id": "541a06ee",
   "metadata": {
    "slideshow": {
     "slide_type": "fragment"
    }
   },
   "outputs": [],
   "source": [
    "texto = \"Hola mundo\"\n",
    "for i in range(len(texto)-1,-1,-1):\n",
    "    print(\"Posición:\",i,\"Carácter\",texto[i])\n",
    "\n",
    "texto = \"Hola mundo adasd\"\n",
    "for i in range(len(texto)):\n",
    "    print(\"Posición:\",(len(texto)-1)-i,\"Carácter\",texto[(len(texto)-1)-i])"
   ]
  },
  {
   "cell_type": "markdown",
   "id": "fd7ca822",
   "metadata": {
    "slideshow": {
     "slide_type": "subslide"
    }
   },
   "source": [
    "### Break\n",
    "La palabra break puede utilizarse dentro de bucles, para terminar inmediatamente el bucle.\n"
   ]
  },
  {
   "cell_type": "code",
   "execution_count": null,
   "id": "657e9abb",
   "metadata": {
    "slideshow": {
     "slide_type": "fragment"
    }
   },
   "outputs": [],
   "source": [
    "for x in \"string\":\n",
    "    if x == \"i\":\n",
    "        break\n",
    "    print(x)\n",
    "print(\"Fin programa\")"
   ]
  },
  {
   "cell_type": "markdown",
   "id": "8bf5be4a",
   "metadata": {
    "slideshow": {
     "slide_type": "subslide"
    }
   },
   "source": [
    "•\tEjercicio [EntradasConcierto] -> Codifique el siguiente programa que permitirá comprar boletas para un concierto:\n",
    "- Se tiene que el precio de la boleta es de 3 pesos.\n",
    "- Vamos a tener una variable acumulada con el total de entradas compradas por el usuario.\n",
    "- Solicite al usuario que ingrese el dinero que posee para comprar boletas.\n",
    "- Cree un ciclo en donde el usuario no podrá comprar más de 100 boletas y en donde para cada iteración debe:\n",
    "    - Imprimir un mensaje que diga: \"Vamos a verificar si puedes comprar\" \n",
    "    - Valide si el dinero del usuario es suficiente para comprar UNA boleta.\n",
    "       - Si es así, aumente en una unidad la cantidad de las boletas compradas y reste el precio pagado a la cantidad de dinero del usuario.\n",
    "       - De lo contrario, salga del ciclo.\n",
    "- Imprima al final del programa, el total de boletas compradas y el dinero sobrante."
   ]
  },
  {
   "cell_type": "code",
   "execution_count": null,
   "id": "7b811218",
   "metadata": {
    "slideshow": {
     "slide_type": "fragment"
    }
   },
   "outputs": [],
   "source": [
    "precio = 3\n",
    "dinero = 10000\n",
    "entradas = 0\n",
    "\n",
    "while(entradas < 100):\n",
    "    print(\"Vamos a verificar si puedes comprar\")\n",
    "    if(dinero >= 3):\n",
    "        entradas+=1\n",
    "        dinero = dinero - precio\n",
    "    else:\n",
    "        break\n",
    "print(\"Dinero sobrante\", dinero)\n",
    "print(\"Entradas compradas\", entradas)"
   ]
  },
  {
   "cell_type": "code",
   "execution_count": null,
   "id": "542ac55a",
   "metadata": {
    "slideshow": {
     "slide_type": "subslide"
    }
   },
   "outputs": [],
   "source": [
    "precio=3\n",
    "totalEntradas=0\n",
    "dineroUsuario=int(input(\"Ingrese el dinero que posee para comprar las boletas: \"))\n",
    "print(\"Vamos a verificar si puedes comprar\")\n",
    "\n",
    "while (dineroUsuario>=precio) and (totalEntradas<100):\n",
    "    totalEntradas =totalEntradas+1\n",
    "    dineroUsuario=dineroUsuario-3\n",
    "print(\"Boletas compradas: \", totalEntradas)\n",
    "print(\"Dinero Sobrante: \", dineroUsuario)\n"
   ]
  },
  {
   "cell_type": "markdown",
   "id": "2d5cb4a9",
   "metadata": {
    "slideshow": {
     "slide_type": "subslide"
    }
   },
   "source": [
    "### Continue\n",
    "- También se puede usar la palabra continue en un bucle. \n",
    "- Cuando se ejecuta la palabra continue, esta hace que se finalice la iteración actual y el control del programa va al final del cuerpo del bucle.\n",
    "- En otras palabras, continue “salta” una iteración, mientras que la palabra “break” “sale” del bucle."
   ]
  },
  {
   "cell_type": "code",
   "execution_count": null,
   "id": "f83da557",
   "metadata": {
    "slideshow": {
     "slide_type": "fragment"
    }
   },
   "outputs": [],
   "source": [
    "for x in \"string\":\n",
    "    if x == \"i\":\n",
    "        continue\n",
    "    print(x)\n",
    "print(\"Fin programa\")"
   ]
  },
  {
   "cell_type": "markdown",
   "id": "4a21e9db",
   "metadata": {
    "slideshow": {
     "slide_type": "subslide"
    }
   },
   "source": [
    "•\tEjercicio [SumaContinue] -> Codifique el siguiente programa:\n",
    "\n",
    "- Se tiene un rango de números desde el 0 hasta el 6.\n",
    "- El programa debe iterar sobre cada número y sumarlo con el anterior, pero debe omitir el número 4 y el 5 del rango.\n",
    "- Imprima el resultado al final del programa."
   ]
  },
  {
   "cell_type": "code",
   "execution_count": null,
   "id": "5639d4b5",
   "metadata": {
    "slideshow": {
     "slide_type": "fragment"
    }
   },
   "outputs": [],
   "source": [
    "suma = 0\n",
    "for x in range(7):\n",
    "    if(x==4 or x==5):\n",
    "        continue\n",
    "    suma = suma + x\n",
    "print(suma)"
   ]
  },
  {
   "cell_type": "code",
   "execution_count": null,
   "id": "09ef117c",
   "metadata": {
    "slideshow": {
     "slide_type": "fragment"
    }
   },
   "outputs": [],
   "source": [
    "suma = 0\n",
    "x = 0\n",
    "while x < 6:\n",
    "    x=x+1; # Ojo con la ubicación del cambio de la variable de control\n",
    "    if(x==4 or x==5):\n",
    "        continue\n",
    "    suma = suma + x\n",
    "print(suma)"
   ]
  },
  {
   "cell_type": "markdown",
   "id": "59d48bf3",
   "metadata": {
    "slideshow": {
     "slide_type": "slide"
    }
   },
   "source": [
    "# 4. Ciclos Anidados\n",
    "- Tal como las estructuras de selección, las estructuras de iteración también se pueden anidar.\n",
    "- Incluso, una estructura de iteración se puede anidar dentro de una estructura de selección, y al revés. \n",
    "- Cuando se anida una estructura de iteración dentro de otra estructura de iteración, se deben considerar ciertos aspectos.\n",
    "- Veamos el siguiente ejemplo.\n"
   ]
  },
  {
   "cell_type": "markdown",
   "id": "f8d68728",
   "metadata": {
    "slideshow": {
     "slide_type": "subslide"
    }
   },
   "source": [
    "\n",
    "Nota: \n",
    "- Cada iteración debe tener su propia variable de control. Si utiliza la misma variable de control para iteraciones anidadas, lo mas probable es que termine con bucles infinitos. \n",
    "- Los ciclos anidados suelen usarse recorrer matrices donde un ciclo recorre cada fila y otro cada columna o viceversa.\n",
    "- el ciclo externo no avanza hasta que el ciclo interno termine y una vez el ciclo externo avanza un paso vuelve a esperar al interno y así sucesivamente hasta que el externo termina."
   ]
  },
  {
   "cell_type": "markdown",
   "id": "5600894c",
   "metadata": {
    "slideshow": {
     "slide_type": "fragment"
    }
   },
   "source": [
    "<img src=\"Figures/S2-CicloAnidado.png\" width=\"500\" height=\"800\">"
   ]
  },
  {
   "cell_type": "code",
   "execution_count": null,
   "id": "324bed76",
   "metadata": {
    "slideshow": {
     "slide_type": "subslide"
    }
   },
   "outputs": [],
   "source": [
    "i = 1                           #Inicialización variable control CICLO1\n",
    "while i<=3:                     #Prueba variable control CICLO1\n",
    "    j = 1                       #Inicialización variable control CICLO2\n",
    "    while j <=2:                #Prueba variable control CICLO2\n",
    "        print(\"i=\",i,\"j=\",j)\n",
    "        j = j+1                 #Cambio variable control CICLO2\n",
    "    i=i+1                       #Cambio variable control CICLO1\n",
    "print(\"Fin programa\")"
   ]
  },
  {
   "cell_type": "markdown",
   "id": "0ba82bd0",
   "metadata": {
    "slideshow": {
     "slide_type": "subslide"
    }
   },
   "source": [
    "•\tEjercicio [CicloAnidadoFor]\n",
    "- Codifique un ciclo anidado con for que imprima la misma información del anterior ciclo"
   ]
  },
  {
   "cell_type": "code",
   "execution_count": null,
   "id": "9b70d1dd",
   "metadata": {
    "slideshow": {
     "slide_type": "fragment"
    }
   },
   "outputs": [],
   "source": [
    "for i in range(1,4):\n",
    "    for j in range(1,3):\n",
    "        print(\"i=\",i,\"j=\",j)\n",
    "        "
   ]
  },
  {
   "cell_type": "markdown",
   "id": "ab2739fa",
   "metadata": {
    "slideshow": {
     "slide_type": "subslide"
    }
   },
   "source": [
    "•\tEjercicio [MultiplicationTable] -> Codifique un programa que genere el siguiente resultado:\n",
    "\n",
    "<img src=\"Figures/S2-MultiplicationTable.png\" width=\"500\" height=\"800\">"
   ]
  },
  {
   "cell_type": "code",
   "execution_count": null,
   "id": "f49bfc0e",
   "metadata": {
    "slideshow": {
     "slide_type": "fragment"
    }
   },
   "outputs": [],
   "source": [
    "print(\"\",1,2,3,4,5,6,7,8,9,sep = \"\\t\")\n",
    "print(\"---------------------------------------------------------------------------\")\n",
    "for i in range(1,10):\n",
    "  print(i,\"|\",end = \"\\t\")\n",
    "  for j in range(1,10):\n",
    "    print(i * j, end = \"\\t\")\n",
    "  print(sep = \"\\t\")\n",
    "\n"
   ]
  },
  {
   "cell_type": "markdown",
   "id": "fffab3c4",
   "metadata": {
    "slideshow": {
     "slide_type": "slide"
    }
   },
   "source": [
    "# Ejercicios"
   ]
  },
  {
   "cell_type": "markdown",
   "id": "c41d70ac",
   "metadata": {
    "slideshow": {
     "slide_type": "fragment"
    }
   },
   "source": [
    "•\tEjercicio [Divisible3] -> Codifique el siguiente programa:\n",
    "- Un programa que imprima los números divisibles por 3. Iniciando desde el 3 hasta el 100."
   ]
  },
  {
   "cell_type": "markdown",
   "id": "9bb4d406",
   "metadata": {
    "slideshow": {
     "slide_type": "subslide"
    }
   },
   "source": [
    "•\tEjercicio [Puntajes] -> Codifique el siguiente programa:\n",
    "- Pídale al usuario por pantalla un puntaje (int)\n",
    "- Vaya guardando la suma de los puntajes, la cantidad de puntajes ingresados\n",
    "- Vaya guardando el puntaje más alto\n",
    "- Si el puntaje es -1 finalice el bucle\n",
    "- Finalmente, imprima el promedio de puntajes, y el puntaje mas alto."
   ]
  },
  {
   "cell_type": "code",
   "execution_count": 14,
   "id": "9707b1ad",
   "metadata": {
    "slideshow": {
     "slide_type": "fragment"
    }
   },
   "outputs": [
    {
     "name": "stdout",
     "output_type": "stream",
     "text": [
      "Ingrese un puntaje: 5\n",
      "Ingrese un puntaje: 9\n",
      "Ingrese un puntaje: 10\n",
      "Ingrese un puntaje: 45\n",
      "Ingrese un puntaje: 9\n",
      "Ingrese un puntaje: 3\n",
      "Ingrese un puntaje: -1\n",
      "El promedio de puntajes es  13.5  Y el puntaje más alto es  45\n"
     ]
    }
   ],
   "source": [
    "#pedir un puntaje entero\n",
    "suma=0\n",
    "acum=0\n",
    "max=0\n",
    "while (acum>=0):\n",
    "  puntaje=int(input(\"Ingrese un puntaje: \"))\n",
    "  if (puntaje==-1):\n",
    "    break\n",
    "  else:\n",
    "    suma=suma+puntaje\n",
    "    acum+=1\n",
    "    if (puntaje>max):\n",
    "      max=puntaje\n",
    "print(\"El promedio de puntajes es \", suma/acum,\" Y el puntaje más alto es \",max)\n",
    "\n"
   ]
  }
 ],
 "metadata": {
  "celltoolbar": "Slideshow",
  "kernelspec": {
   "display_name": "Python 3",
   "language": "python",
   "name": "python3"
  },
  "language_info": {
   "codemirror_mode": {
    "name": "ipython",
    "version": 3
   },
   "file_extension": ".py",
   "mimetype": "text/x-python",
   "name": "python",
   "nbconvert_exporter": "python",
   "pygments_lexer": "ipython3",
   "version": "3.9.0"
  },
  "rise": {
   "autolaunch": true,
   "backimage": "mybackimage.png",
   "scroll": true
  }
 },
 "nbformat": 4,
 "nbformat_minor": 5
}
