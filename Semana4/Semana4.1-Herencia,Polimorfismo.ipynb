{
 "cells": [
  {
   "cell_type": "markdown",
   "id": "62a5f2f1",
   "metadata": {
    "slideshow": {
     "slide_type": "slide"
    }
   },
   "source": [
    "# 1. Introducción\n",
    "- La programación orientada a objetos le permite definir nuevas clases a partir de clases existentes. A esto se le llama herencia.\n",
    "\n",
    "- La herencia es una característica importante y poderosa para reutilizar software.\n",
    "\n",
    "- Suponga que necesita definir clases para modelar tipos de empleados. Estas clases tienen muchas características comunes. \n",
    "\n",
    "¿Cuál es una buena manera de diseñar estas clases para evitar la redundancia y hacer que el sistema sea fácil de comprender y mantener*?"
   ]
  },
  {
   "cell_type": "markdown",
   "id": "981d1397",
   "metadata": {
    "slideshow": {
     "slide_type": "slide"
    }
   },
   "source": [
    "### Herencia en Diagramas de Clases\n",
    "Para representar una herencia en un diagrama de clases se utiliza una flecha con punta blanca, que va desde la clase hija hacia la clase padre.\n",
    "\n",
    "- Herencia simple: La herencia simple se apoya en el uso de clases base para compartir sus atributos y comportamientos con otros clases derivadas.\n",
    "\n",
    "- Herencia múltiple: A diferencia de lenguajes como Java y C#, el lenguaje Python permite la herencia múltiple, es decir, se puede heredar de múltiples clases. \n",
    "\n",
    "<center><img src=\"Figures/S4-Extends.png\" width=\"500\" height=\"800\"></center>"
   ]
  },
  {
   "cell_type": "markdown",
   "id": "9fee308d",
   "metadata": {
    "slideshow": {
     "slide_type": "subslide"
    }
   },
   "source": [
    "#### Diferencias entre la superclase y la subclase\n",
    "\n",
    "- Superclase: también llamada clase padre o clase base. \n",
    "    - Una superclase no necesita a las subclases para existir, y cualquier modificación en cualquiera de las subclases no afecta el comportamiento, ni los elementos de la superclase.\n",
    "\n",
    "- Subclase: también llamada clase hija.\n",
    "    - Una subclase hereda todos los atributos y métodos de la clase padre.\n",
    "    - Sin embargo, dependiendo de la manera en que se definan estos métodos o atributos, y del lenguaje de programación, la subclase puede tener o no acceso a ciertos elementos heredados.\n",
    "    - La subclase, también podrá agregar o redefinir elementos heredados.\n",
    "    - Una subclase requiere que exista la superclase.\n",
    "    \n",
    " <center><img src=\"Figures/S4-Extends.png\" width=\"700\" height=\"1000\"></center>"
   ]
  },
  {
   "cell_type": "markdown",
   "id": "c92d60c8",
   "metadata": {
    "slideshow": {
     "slide_type": "subslide"
    }
   },
   "source": [
    "PREGUNTAS\n",
    "1. ¿Cuáles son los atributos de Estudiante?\n",
    "2. ¿Cuáles son los métodos de Estudiante?\n",
    "3. ¿Cuáles son los atributos de ProfesorAyudante?\n",
    "4. ¿Cuáles son los métodos de ProfesorAyudante?\n",
    "5. ¿Cuáles son los atributos de Persona?\n",
    "6. ¿Cuál método redefine Estudiante?\n",
    "\n",
    "<center><img src=\"Figures/S4-Extends.png\" width=\"700\" height=\"1000\"></center>"
   ]
  },
  {
   "cell_type": "markdown",
   "id": "9b61687e",
   "metadata": {
    "slideshow": {
     "slide_type": "slide"
    }
   },
   "source": [
    "# Herencia simple\n",
    "<center><img src=\"Figures/S4-PersonaEmpleado.png\" width=\"300\" height=\"400\"></center>"
   ]
  },
  {
   "cell_type": "code",
   "execution_count": null,
   "id": "02dee6ab",
   "metadata": {
    "slideshow": {
     "slide_type": "fragment"
    }
   },
   "outputs": [],
   "source": [
    "#SUPERCLASE\n",
    "class Persona:   \n",
    "    def __init__(self, nombre, edad):\n",
    "        self.nombre = nombre;\n",
    "        self.edad = edad\n",
    "        \n",
    "    def getNombre(self):\n",
    "        return self.nombre;\n",
    "    \n",
    "    def setNombre(self,nombre):\n",
    "        self.nombre = nombre\n",
    "    \n",
    "    def info(self):\n",
    "        return f\"Persona con nombre :{self.nombre}, edad {self.edad}\"\n",
    "\n",
    "persona1 = Persona(\"Lina\",43)\n",
    "print(persona1.nombre)\n",
    "print(persona1.info())"
   ]
  },
  {
   "cell_type": "markdown",
   "id": "e8a09723",
   "metadata": {
    "slideshow": {
     "slide_type": "subslide"
    }
   },
   "source": [
    "# Herencia simple\n",
    "<center><img src=\"Figures/S4-PersonaEmpleado.png\" width=\"300\" height=\"400\"></center>"
   ]
  },
  {
   "cell_type": "code",
   "execution_count": null,
   "id": "7525681d",
   "metadata": {
    "slideshow": {
     "slide_type": "fragment"
    }
   },
   "outputs": [],
   "source": [
    "#SUBCLASE\n",
    "class Empleado(Persona): \n",
    "      pass"
   ]
  },
  {
   "cell_type": "markdown",
   "id": "1e83e579",
   "metadata": {
    "slideshow": {
     "slide_type": "subslide"
    }
   },
   "source": [
    "•\tEjercicio [subClases] -> Codifique el siguiente programa:\n",
    "- Cree solo el nombre de las subclases (Estudiante y Profesor) e indique que heredan de persona.\n",
    "\n",
    "<center><img src=\"Figures/S4-EjercicioSubclases.png\" width=\"300\" height=\"400\"></center>"
   ]
  },
  {
   "cell_type": "code",
   "execution_count": null,
   "id": "79cdbb09",
   "metadata": {
    "slideshow": {
     "slide_type": "fragment"
    }
   },
   "outputs": [],
   "source": []
  },
  {
   "cell_type": "markdown",
   "id": "178ece4d",
   "metadata": {
    "slideshow": {
     "slide_type": "slide"
    }
   },
   "source": [
    "# Invocando los constructores de otras clases\n",
    "Un constructor de una subclase puede invocar al constructor de su superclase.\n"
   ]
  },
  {
   "cell_type": "code",
   "execution_count": null,
   "id": "74ac4e3d",
   "metadata": {
    "slideshow": {
     "slide_type": "fragment"
    }
   },
   "outputs": [],
   "source": [
    "class Empleado(Persona):\n",
    "    \n",
    "    def __init__(self, nombre, edad, empresa, supervisor):\n",
    "        #Persona.__init__(self,nombre,edad) #Invocando al constructor de la superclase opcion1\n",
    "        super().__init__(nombre,edad) # Forma común, OPCION2\n",
    "        self.__empresa = empresa\n",
    "        self.supervisor = supervisor\n",
    "        \n",
    "    def getEmpresa(self):\n",
    "        return self.__empresa;"
   ]
  },
  {
   "cell_type": "code",
   "execution_count": null,
   "id": "e4a2357b",
   "metadata": {
    "slideshow": {
     "slide_type": "fragment"
    }
   },
   "outputs": [],
   "source": [
    "persona2 = Persona(\"Andres\", 36)\n",
    "# persona2.supervisor # Error - persona no tiene ese atributo\n",
    "\n",
    "empleado1 = Empleado(\"Camilo\", 34,\"MinTIC\", \"Lina\")\n",
    "print(empleado1.nombre)\n",
    "print(empleado1.supervisor)\n",
    "print(empleado1.getEmpresa())\n",
    "#print(empleado1.__empresa()) #Error empresa es privado"
   ]
  },
  {
   "cell_type": "markdown",
   "id": "5d9bb0e9",
   "metadata": {
    "slideshow": {
     "slide_type": "subslide"
    }
   },
   "source": [
    "¿Qué imprime al final?"
   ]
  },
  {
   "cell_type": "code",
   "execution_count": null,
   "id": "2cff53e4",
   "metadata": {
    "slideshow": {
     "slide_type": "fragment"
    }
   },
   "outputs": [],
   "source": [
    "class Persona:\n",
    "    def __init__(self):\n",
    "        self.nombre = \"hola\"\n",
    "        print(\"Ejecuta constructor de persona\")\n",
    "\n",
    "class Empleado(Persona):\n",
    "    def __init__(self):     \n",
    "        Persona.__init__(self)\n",
    "        print(\"Ejecuta constructor de empleado\")\n",
    "\n",
    "class Facultad(Empleado):\n",
    "    def __init__(self):\n",
    "        Empleado.__init__(self)\n",
    "        print(\"Ejecuta constructor de facultad\")\n",
    "        \n",
    "facultad1 = Facultad()\n",
    "print(facultad1.nombre)"
   ]
  },
  {
   "cell_type": "markdown",
   "id": "757eb2f1",
   "metadata": {
    "slideshow": {
     "slide_type": "subslide"
    }
   },
   "source": [
    "Si ninguno se invoca explícitamente, el compilador automáticamente busca el constructor del ancestro más cercano. "
   ]
  },
  {
   "cell_type": "code",
   "execution_count": null,
   "id": "dd5eb643",
   "metadata": {
    "slideshow": {
     "slide_type": "fragment"
    }
   },
   "outputs": [],
   "source": [
    "class Persona:\n",
    "    def __init__(self):\n",
    "        self.nombre = \"hola\"\n",
    "        print(\"Ejecuta constructor de persona\")\n",
    "\n",
    "class Empleado(Persona):\n",
    "     pass\n",
    "\n",
    "class Facultad(Empleado):\n",
    "     pass\n",
    "        \n",
    "facultad1 = Facultad()\n",
    "print(facultad1.nombre)"
   ]
  },
  {
   "cell_type": "markdown",
   "id": "e43a600d",
   "metadata": {
    "slideshow": {
     "slide_type": "subslide"
    }
   },
   "source": [
    "•\tEjercicio [constructoresSubClases] -> Codifique el siguiente programa:\n",
    "- Desarrolle los constructores de las clases (Estudiante y Profesor) para que envién los atributos respectivos a la superclase Persona.\n",
    "- Cree una instancia de estudiante y persona, y pruebe que funcione correctamente.\n",
    "\n",
    "<center><img src=\"Figures/S4-EjercicioSubclases.png\" width=\"300\" height=\"400\"></center>"
   ]
  },
  {
   "cell_type": "code",
   "execution_count": null,
   "id": "97f99a91",
   "metadata": {
    "slideshow": {
     "slide_type": "fragment"
    }
   },
   "outputs": [],
   "source": []
  },
  {
   "cell_type": "code",
   "execution_count": null,
   "id": "301b6d91",
   "metadata": {
    "slideshow": {
     "slide_type": "fragment"
    }
   },
   "outputs": [],
   "source": [
    "class Persona:\n",
    "    def __init__(self, nombre, edad):\n",
    "        self.nombre = nombre;\n",
    "        self.edad = edad\n",
    "        \n",
    "    def getNombre(self):\n",
    "        return self.nombre;\n",
    "    \n",
    "    def setNombre(self,nombre):\n",
    "        self.nombre = nombre\n",
    "    \n",
    "    def info(self):\n",
    "        result = f\"Persona con nombre :{self.nombre}, edad {self.edad}\"\n",
    "        return result"
   ]
  },
  {
   "cell_type": "markdown",
   "id": "f5b67492",
   "metadata": {
    "slideshow": {
     "slide_type": "slide"
    }
   },
   "source": [
    "# Invocando los métodos de la superclase (Super())\n",
    "\n",
    "Heredar de una superclase nos permite acceder a métodos y/o atributos de una superclase desde una subclase.\n",
    "\n",
    "- Atributo de clase: $nombreSuperClase.attribute$\n",
    "- Atributo de instancia: $self.attribute$\n",
    "- Método: $Super().nombreMétodo(parametros)$ ó $nombreSuperClase.method(self,parametros);$\n",
    "\n",
    "\n",
    "\n"
   ]
  },
  {
   "cell_type": "markdown",
   "id": "db15d83f",
   "metadata": {
    "slideshow": {
     "slide_type": "subslide"
    }
   },
   "source": [
    "<center><img src=\"Figures/S4-PersonaEmpleado.png\" width=\"300\" height=\"400\"></center>"
   ]
  },
  {
   "cell_type": "code",
   "execution_count": null,
   "id": "75a24b19",
   "metadata": {
    "slideshow": {
     "slide_type": "fragment"
    }
   },
   "outputs": [],
   "source": [
    "class Empleado(Persona):\n",
    "    \n",
    "    def __init__(self, nombre, edad, empresa, supervisor):\n",
    "        super().__init__(nombre,edad)\n",
    "        self.__empresa = empresa\n",
    "        self.supervisor = supervisor\n",
    "        \n",
    "    def getEmpresa(self):\n",
    "        return self.__empresa;\n",
    "    \n",
    "    def setEmpresa(self,empresa):\n",
    "        self.__empresa = empresa;        \n",
    "    \n",
    "    def info(self):\n",
    "        #Invocando atributos y métodos de la superclase\n",
    "        result1 = f\"Empleado con nombre :{self.getNombre()}, edad:{self.edad}, empresa:{self.__empresa}, supervisor: {self.supervisor}\"\n",
    "        result2 = f\"Empleado con nombre :{super().getNombre()},edad:{self.edad}, empresa:{self.__empresa}, supervisor: {self.supervisor}\" \n",
    "        result3 = f\"{super().info()}, empresa:{self.__empresa}, supervisor: {self.supervisor}\"\n",
    "        return result3\n",
    "    \n",
    "    #Qué pasa si borro el método info en Empleado?"
   ]
  },
  {
   "cell_type": "code",
   "execution_count": null,
   "id": "9e5c0e88",
   "metadata": {
    "slideshow": {
     "slide_type": "fragment"
    }
   },
   "outputs": [],
   "source": [
    "persona2 = Persona(\"Andres\", 36)\n",
    "print(persona2.info())\n",
    "#persona2.getEmpresa() # Error - persona no tiene ese método\n",
    "\n",
    "empleado1 = Empleado(\"Camilo\", 34,\"MinTIC\", \"Lina\")\n",
    "print(empleado1.getNombre())\n",
    "print(empleado1.info())"
   ]
  },
  {
   "cell_type": "markdown",
   "id": "fdeaf405",
   "metadata": {
    "slideshow": {
     "slide_type": "slide"
    }
   },
   "source": [
    "•\tEjercicio [métodosSubClases] -> Codifique el siguiente programa:\n",
    "- Desarrolle los métodos de las clases (Estudiante y Profesor).\n",
    "- Cree una instancia de estudiante y persona, y pruebe que funcionen correctamente los métodos.\n",
    "\n",
    "<center><img src=\"Figures/S4-EjercicioSubclases.png\" width=\"300\" height=\"400\"></center>"
   ]
  },
  {
   "cell_type": "code",
   "execution_count": null,
   "id": "9193cce7",
   "metadata": {
    "slideshow": {
     "slide_type": "subslide"
    }
   },
   "outputs": [],
   "source": []
  },
  {
   "cell_type": "markdown",
   "id": "54453305",
   "metadata": {
    "slideshow": {
     "slide_type": "subslide"
    }
   },
   "source": [
    "Al invocar la super clase, esta siempre trata de buscar la definición del método en el ancestro mas cercano (“el padre”); si no la encuentra, sigue con “el abuelo”, y así sucesivamente.\n"
   ]
  },
  {
   "cell_type": "code",
   "execution_count": null,
   "id": "e7221228",
   "metadata": {
    "slideshow": {
     "slide_type": "fragment"
    }
   },
   "outputs": [],
   "source": [
    "class Vehiculo:\n",
    "    def info(self):\n",
    "        print(\"Mensaje desde Vehiculo\")\n",
    "\n",
    "class Terrestre(Vehiculo):\n",
    "    def otro(self):\n",
    "        print(\"M\")\n",
    "    \n",
    "class Aereo(Vehiculo):\n",
    "    def info(self):\n",
    "        Vehiculo.info(self)\n",
    "        print(\"Mensaje desde aereo\")\n",
    "\n",
    "class Moto(Terrestre):\n",
    "    def info(self):\n",
    "        Terrestre.info(self)\n",
    "        print(\"Mensaje desde moto\")\n",
    "    \n",
    "aereo1 = Aereo()\n",
    "aereo1.info()\n",
    "moto1 = Moto()\n",
    "moto1.info()"
   ]
  },
  {
   "cell_type": "markdown",
   "id": "07dac39b",
   "metadata": {
    "slideshow": {
     "slide_type": "slide"
    }
   },
   "source": [
    "# Herencia múltiple\n",
    "\n",
    "- La herencia múltiple es la capacidad de una subclase de heredar de múltiples súper clases.\n",
    "\n",
    "- Esto conlleva un problema, y es que si varias súper clases tienen los mismos atributos o métodos, la subclase sólo podrá heredar de una de ellas.\n",
    "\n",
    "- En estos casos Python dará prioridad a las clases más a la izquierda en el momento de la declaración de la subclase.\n",
    "\n",
    "<center><img src=\"Figures/S4-HerenciaMultiple.png\" width=\"500\" height=\"800\"></center>"
   ]
  },
  {
   "cell_type": "markdown",
   "id": "b8dfc30f",
   "metadata": {
    "slideshow": {
     "slide_type": "subslide"
    }
   },
   "source": [
    "## Herencia Múltiple\n",
    "<center><img src=\"Figures/S4-HerenciaMultiple.png\" width=\"500\" height=\"800\"></center>"
   ]
  },
  {
   "cell_type": "code",
   "execution_count": 29,
   "id": "e378e9f6",
   "metadata": {
    "slideshow": {
     "slide_type": "fragment"
    }
   },
   "outputs": [],
   "source": [
    "class FiguraGeometrica:\n",
    "    def __init__(self, alto, ancho):\n",
    "        self.alto = alto\n",
    "        self.ancho = ancho\n",
    "    \n",
    "    def info(self):\n",
    "        print(\"Soy FG\")\n",
    "\n",
    "class Color:\n",
    "    def __init__(self, color):\n",
    "        self.color = color\n",
    "    \n",
    "    def info(self):\n",
    "        print(\"Soy Color\")\n",
    "        "
   ]
  },
  {
   "cell_type": "code",
   "execution_count": 34,
   "id": "a57b8d16",
   "metadata": {},
   "outputs": [
    {
     "name": "stdout",
     "output_type": "stream",
     "text": [
      "6\n",
      "Rojo\n",
      "24\n",
      "Soy FG\n"
     ]
    }
   ],
   "source": [
    "class Cuadrado(FiguraGeometrica,Color):\n",
    "    def __init__(self, alto, ancho, color):\n",
    "        FiguraGeometrica.__init__(self,alto, ancho)\n",
    "        Color.__init__(self,color)\n",
    "        \n",
    "    def area(self):\n",
    "        return self.alto * self.ancho\n",
    "    \n",
    "c1 = Cuadrado(4,6,\"Rojo\")\n",
    "print(c1.ancho)\n",
    "print(c1.color)\n",
    "print(c1.area())\n",
    "c1.info()"
   ]
  },
  {
   "cell_type": "markdown",
   "id": "cf2c5391",
   "metadata": {
    "slideshow": {
     "slide_type": "subslide"
    }
   },
   "source": [
    "•\tEjercicio [multipleProfesorAyudante] -> Codifique el siguiente programa:\n",
    "- Cree la clase faltante (ProfesorAyudante)\n",
    "\n",
    "<center><img src=\"Figures/S4-Extends.png\" width=\"500\" height=\"800\"></center>"
   ]
  },
  {
   "cell_type": "code",
   "execution_count": null,
   "id": "f95fa506",
   "metadata": {
    "slideshow": {
     "slide_type": "fragment"
    }
   },
   "outputs": [],
   "source": []
  },
  {
   "cell_type": "code",
   "execution_count": null,
   "id": "34d42dca",
   "metadata": {
    "slideshow": {
     "slide_type": "fragment"
    }
   },
   "outputs": [],
   "source": [
    "class Persona:\n",
    "    def __init__(self, nombre, edad):\n",
    "        self.nombre = nombre;\n",
    "        self.edad = edad\n",
    "        \n",
    "    def getNombre(self):\n",
    "        return self.nombre;\n",
    "    \n",
    "    def setNombre(self,nombre):\n",
    "        self.nombre = nombre\n",
    "    \n",
    "    def info(self):\n",
    "        result = f\"Persona con nombre :{self.nombre}, edad {self.edad}\"\n",
    "        return result\n",
    "\n",
    "class Estudiante(Persona):\n",
    "    def __init__(self,nota):\n",
    "        self.nota = nota;\n",
    "    def info(self):\n",
    "        result = f\"{super().info()}, nota {self.nota}\"\n",
    "        return result\n",
    "        \n",
    "class Profesor(Persona):\n",
    "    def __init__(self,salario):\n",
    "        self.salario = salario;\n",
    "    def info(self):\n",
    "        result = f\"{super().info()}, salario {self.salario}\"\n",
    "        return result    "
   ]
  },
  {
   "cell_type": "markdown",
   "id": "79c4d1ef",
   "metadata": {
    "slideshow": {
     "slide_type": "subslide"
    }
   },
   "source": [
    "## Polimorfismo\n",
    "Dependiendo del objeto que pasemos en la referencia (self) es le método que se va a ejecutar."
   ]
  },
  {
   "cell_type": "code",
   "execution_count": null,
   "id": "17c85d57",
   "metadata": {
    "slideshow": {
     "slide_type": "fragment"
    }
   },
   "outputs": [],
   "source": [
    "class Animal:\n",
    "    def __init__(self,nombre):\n",
    "        self.nombre = nombre\n",
    "    \n",
    "    def sonido(self):\n",
    "        return \"Error - Las subclases son las que tienen sonido\"\n",
    "        \n",
    "    def imprimirSonido(self):\n",
    "        self.sonido()\n",
    "        \n",
    "class Gato(Animal):\n",
    "    def __init__(self,nombre):\n",
    "        super().__init__(nombre)\n",
    "        \n",
    "    def sonido(self):\n",
    "        return \"Miau Miau\"\n",
    "        \n",
    "class Perro(Animal):\n",
    "    def __init__(self,nombre):\n",
    "        super().__init__(nombre)\n",
    "        \n",
    "    def sonido(self):\n",
    "        return \"Guau Guau\"\n",
    "        \n",
    "g1 = Gato(\"Jackie\")\n",
    "g2 = Gato(\"Ozzy\")\n",
    "p1 = Perro(\"Galaxia\")\n",
    "p2 = Perro(\"Trosqui\")\n",
    "\n",
    "animales = [g1,g2,p1,p2]\n",
    "\n",
    "\n",
    "def sonidos(arreglo):\n",
    "    for i in arreglo:\n",
    "        print(f\"{i.nombre} tiene sonido {i.sonido()}\")\n",
    "        \n",
    "sonidos(animales)"
   ]
  },
  {
   "cell_type": "markdown",
   "id": "d6e9db03",
   "metadata": {
    "slideshow": {
     "slide_type": "fragment"
    }
   },
   "source": [
    "La variable animales toma la forma de Perro o Gato. Depende de la que se este ejecutando en el momento."
   ]
  },
  {
   "cell_type": "markdown",
   "id": "fffab3c4",
   "metadata": {
    "slideshow": {
     "slide_type": "slide"
    }
   },
   "source": [
    "# Ejercicios"
   ]
  },
  {
   "cell_type": "markdown",
   "id": "c41d70ac",
   "metadata": {
    "slideshow": {
     "slide_type": "fragment"
    }
   },
   "source": [
    "•\tEjercicio [Vehiculo] -> Codifique el siguiente programa:\n",
    "- Cree la clase Vehiculo con los atributos nombre y precio (privados).\n",
    "- Cree el método getPrecio(), que retorne el precio del vehiculo.\n",
    "\n",
    "- Cree la clase Maritimo (que herede de Vehiculo) con el atributo de clase IVA = 20 (considérelo un porcentaje).\n",
    "- Cree el método getPrecio(), que retorne el precio de la instancia, más el IVA.\n",
    "\n",
    "- Cree la clase Buque (que herede de Maritimo) \n",
    "- Cree el método getPrecio(), que retorne la suma del getPrecio() del padre, más 40.\n",
    "\n",
    "- Cree un archivo donde cree 4 vehículos (2 marítimos y 2 buques / invéntese valores de nombre y precios). En el proceso cree los constructores necesarios. \n",
    "\n",
    "- Imprima los precios finales de cada instancia.\n"
   ]
  }
 ],
 "metadata": {
  "celltoolbar": "Slideshow",
  "kernelspec": {
   "display_name": "Python 3",
   "language": "python",
   "name": "python3"
  },
  "language_info": {
   "codemirror_mode": {
    "name": "ipython",
    "version": 3
   },
   "file_extension": ".py",
   "mimetype": "text/x-python",
   "name": "python",
   "nbconvert_exporter": "python",
   "pygments_lexer": "ipython3",
   "version": "3.9.0"
  },
  "rise": {
   "autolaunch": true,
   "backimage": "mybackimage.png",
   "scroll": true
  }
 },
 "nbformat": 4,
 "nbformat_minor": 5
}
