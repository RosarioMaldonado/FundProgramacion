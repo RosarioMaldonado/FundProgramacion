{
 "cells": [
  {
   "cell_type": "markdown",
   "id": "62a5f2f1",
   "metadata": {
    "slideshow": {
     "slide_type": "slide"
    }
   },
   "source": [
    "# 1. Introducción\n",
    "En Python, cualquier tabla se puede representar como un arreglo de arreglos (un arreglo, donde cada elemento es a su vez un arreglo)\n",
    "\n",
    "<center><img src=\"Figures/S4-DistanceTable.png\" width=\"800\" height=\"1100\"></center>"
   ]
  },
  {
   "cell_type": "code",
   "execution_count": null,
   "id": "6577332b",
   "metadata": {
    "slideshow": {
     "slide_type": "fragment"
    }
   },
   "outputs": [],
   "source": [
    "distances = [\n",
    "[0,    983,  787, 714, 1375, 967, 1087],\n",
    "[983,  0,    214, 1102, 1763, 1723, 1842],\n",
    "[787,  214,  0, 888, 1549, 1548, 1627],\n",
    "[714,  1102, 888, 0, 661, 781, 810],\n",
    "[1375, 1763, 1549, 661, 0, 1426, 1187],\n",
    "[967,  1723, 1548, 781, 1426, 0, 239],\n",
    "[1087, 1842, 1627, 810, 1187, 239, 0],\n",
    "]\n",
    "\n",
    "print(distances)\n",
    "print(distances[0])\n",
    "print(distances[1])\n",
    "print(distances[1][0])"
   ]
  },
  {
   "cell_type": "markdown",
   "id": "51cf7cf5",
   "metadata": {
    "slideshow": {
     "slide_type": "slide"
    }
   },
   "source": [
    "## Declaración de arreglos de dos dimensiones\n",
    "Veamos el siguiente ejemplo."
   ]
  },
  {
   "cell_type": "code",
   "execution_count": null,
   "id": "0fb559f2",
   "metadata": {
    "slideshow": {
     "slide_type": "fragment"
    }
   },
   "outputs": [],
   "source": [
    "edadesEmpresa = [[34,25,16,32],\n",
    "                 [34,13,76,23]] # Arreglo simétrico\n",
    "edadesEmpresa2 = [[34,25,16,32], \n",
    "                  [34,13,76]   ] # Arreglo asimétrico"
   ]
  },
  {
   "cell_type": "markdown",
   "id": "81b18ec2",
   "metadata": {
    "slideshow": {
     "slide_type": "subslide"
    }
   },
   "source": [
    "### 1. Primera forma:\n",
    "Puede crear una lista de n elementos (por ejemplo, de n ceros) y luego hacer que cada uno de los elementos sea un enlace a otra lista unidimensional de m elementos:"
   ]
  },
  {
   "cell_type": "code",
   "execution_count": null,
   "id": "2755a2fa",
   "metadata": {
    "slideshow": {
     "slide_type": "fragment"
    }
   },
   "outputs": [],
   "source": [
    "f = 2\n",
    "c = 3\n",
    "a = [0] * f\n",
    "for i in range(f):\n",
    "    a[i] = [0] * c\n",
    "print(a)"
   ]
  },
  {
   "cell_type": "markdown",
   "id": "2f5a0ae1",
   "metadata": {
    "slideshow": {
     "slide_type": "subslide"
    }
   },
   "source": [
    "### 2. Segunda forma:\n",
    "Otra forma (pero similar): crear una lista vacía y luego append un nuevo elemento n veces (este elemento debe ser una lista de longitud m ):"
   ]
  },
  {
   "cell_type": "code",
   "execution_count": null,
   "id": "ff2a5500",
   "metadata": {
    "slideshow": {
     "slide_type": "fragment"
    }
   },
   "outputs": [],
   "source": [
    "f = 2\n",
    "c = 3\n",
    "a = []\n",
    "for i  in range(f):\n",
    "    x = [0] * c\n",
    "    a.append(x)\n",
    "print(a)"
   ]
  },
  {
   "cell_type": "markdown",
   "id": "30ecf651",
   "metadata": {
    "slideshow": {
     "slide_type": "subslide"
    }
   },
   "source": [
    "### 3. Tercera forma:\n",
    "Pero la forma más fácil es usar generator, creando una lista de n elementos, cada uno de los cuales es una lista de m ceros:"
   ]
  },
  {
   "cell_type": "code",
   "execution_count": null,
   "id": "bc76dac5",
   "metadata": {
    "slideshow": {
     "slide_type": "fragment"
    }
   },
   "outputs": [],
   "source": [
    "f = 6\n",
    "c = 3\n",
    "a = [[0]*c for i in range(f)]\n",
    "print(a)"
   ]
  },
  {
   "cell_type": "markdown",
   "id": "c791f7d8",
   "metadata": {
    "slideshow": {
     "slide_type": "fragment"
    }
   },
   "source": [
    "<center><img src=\"Figures/S4-FilasColumnas.png\" width=\"500\" height=\"800\"></center>"
   ]
  },
  {
   "cell_type": "markdown",
   "id": "e15035bd",
   "metadata": {
    "slideshow": {
     "slide_type": "slide"
    }
   },
   "source": [
    "# Utilizando los arreglos de dos dimensiones"
   ]
  },
  {
   "cell_type": "markdown",
   "id": "d5042b6e",
   "metadata": {
    "slideshow": {
     "slide_type": "fragment"
    }
   },
   "source": [
    "## Métodos que se pueden usar con arreglos (o listas)\n",
    "\n",
    "|Método||Descripción|\n",
    "| --- || --- |\n",
    "|append()||Agrega un elemento al final de la lista|\n",
    "|clear()||Elimina todos los elementos de la lista|\n",
    "|copy()||Devuelve una copia de la lista|\n",
    "|count()||Devuelve el número de elementos con el valor especificado|\n",
    "|extend()||Agrega los elementos de una lista (o cualquier iterable), al final de la lista actual|\n",
    "|index()||Devuelve el índice del primer elemento con el valor especificado|\n",
    "|insert()||Agrega un elemento en la posición especificada|\n",
    "|pop()||Elimina el elemento en la posición especificada|\n",
    "|remove()||Elimina el primer elemento con el valor especificado|\n",
    "|reverse()||Invierte el orden de la lista|\n",
    "|sort()||Ordena la lista|"
   ]
  },
  {
   "cell_type": "markdown",
   "id": "9e05e1db",
   "metadata": {
    "slideshow": {
     "slide_type": "slide"
    }
   },
   "source": [
    "### 1. Acceso a elementos de un arreglo\n",
    "Para acceder a un elemento individual de un arreglo, basta con colocar el nombre de la variable, seguido por dos corchetes [][], y dentro de los corchetes colocar los indices del elemetos al que se quiere acceder.\n",
    "\n",
    "<center><img src=\"Figures/S4-Asignacion.png\" width=\"500\" height=\"800\"></center>\n",
    "\n",
    "Veamos el siguiente ejemplo:"
   ]
  },
  {
   "cell_type": "code",
   "execution_count": 6,
   "id": "59fcae7f",
   "metadata": {
    "slideshow": {
     "slide_type": "fragment"
    }
   },
   "outputs": [
    {
     "name": "stdout",
     "output_type": "stream",
     "text": [
      "[[34, 25, 16, 32], [34, 13, 76, 23]]\n",
      "[34, 25, 16, 32]\n",
      "25\n",
      "2\n",
      "4\n",
      "4\n",
      "2\n",
      "4\n",
      "3\n"
     ]
    }
   ],
   "source": [
    "edadesEmpresa = [[34,25,16,32],[34,13,76,23]]\n",
    "print(edadesEmpresa)\n",
    "print(edadesEmpresa[0])\n",
    "print(edadesEmpresa[0][1])\n",
    "print(len(edadesEmpresa))\n",
    "print(len(edadesEmpresa[0]))\n",
    "print(len(edadesEmpresa[1]))\n",
    "\n",
    "edadesEmpresa2 = [[34,25,16,32],[34,13,76]]\n",
    "print(len(edadesEmpresa2))\n",
    "print(len(edadesEmpresa2[0]))\n",
    "print(len(edadesEmpresa2[1]))"
   ]
  },
  {
   "cell_type": "code",
   "execution_count": 7,
   "id": "5c50379d",
   "metadata": {
    "slideshow": {
     "slide_type": "subslide"
    }
   },
   "outputs": [
    {
     "name": "stdout",
     "output_type": "stream",
     "text": [
      "Valor en la posición i=0, j=0 ->34\n",
      "Valor en la posición i=0, j=1 ->25\n",
      "Valor en la posición i=0, j=2 ->16\n",
      "Valor en la posición i=0, j=3 ->32\n",
      "Valor en la posición i=1, j=0 ->34\n",
      "Valor en la posición i=1, j=1 ->13\n",
      "Valor en la posición i=1, j=2 ->76\n"
     ]
    }
   ],
   "source": [
    "edadesEmpresa2 = [[34,25,16,32],[34,13,76]]\n",
    "\n",
    "#Recorriendo matriz por filas\n",
    "for i in range(len(edadesEmpresa2)):\n",
    "    for j in range(len(edadesEmpresa2[i])):\n",
    "        print(f\"Valor en la posición i={i}, j={j} ->{edadesEmpresa2[i][j]}\")"
   ]
  },
  {
   "cell_type": "code",
   "execution_count": 10,
   "id": "09d3ab24",
   "metadata": {
    "slideshow": {
     "slide_type": "fragment"
    }
   },
   "outputs": [
    {
     "name": "stdout",
     "output_type": "stream",
     "text": [
      "Valor en la posición j=0, i=0 ->34\n",
      "Valor en la posición j=1, i=0 ->34\n",
      "Valor en la posición j=0, i=1 ->25\n",
      "Valor en la posición j=1, i=1 ->13\n",
      "Valor en la posición j=0, i=2 ->16\n",
      "Valor en la posición j=1, i=2 ->76\n",
      "Valor en la posición j=0, i=3 ->32\n",
      "Valor en la posición j=1, i=3 -> Esta vacía\n"
     ]
    }
   ],
   "source": [
    "edadesEmpresa2 = [[34,25,16,32],[34,13,76]]\n",
    "\n",
    "#Recorriendo matriz por columnas\n",
    "for i in range(len(edadesEmpresa2[0])):\n",
    "    for j in range(len(edadesEmpresa2)):\n",
    "        try:\n",
    "            print(f\"Valor en la posición j={j}, i={i} ->{edadesEmpresa2[j][i]}\")\n",
    "        except IndexError: \n",
    "            print(f\"Valor en la posición j={j}, i={i} -> Esta vacía\")"
   ]
  },
  {
   "cell_type": "markdown",
   "id": "5b59c2c7",
   "metadata": {
    "slideshow": {
     "slide_type": "slide"
    }
   },
   "source": [
    "## 2. Modificar elementos de un arreglo de dos dimensiones\n",
    "Para modificar datos de un arreglo basta con especificar la posición que se quiere modificar, y luego colocar un “=“, y finalmente el nuevo valor que se desea asignar."
   ]
  },
  {
   "cell_type": "code",
   "execution_count": 11,
   "id": "8acc8a5f",
   "metadata": {
    "slideshow": {
     "slide_type": "subslide"
    }
   },
   "outputs": [
    {
     "name": "stdout",
     "output_type": "stream",
     "text": [
      "[[0, 0, 0], [0, 0, 0], [0, 0, 0], [0, 0, 0], [0, 0, 0], [0, 0, 0]]\n"
     ]
    }
   ],
   "source": [
    "f = 6\n",
    "c = 3\n",
    "a = [[0]*c for i in range(f)]\n",
    "print(a)\n",
    "\n",
    "a[2][1] = 7\n",
    "print(a)\n",
    "\n",
    "#¿Dónde coloca el valor?"
   ]
  },
  {
   "cell_type": "markdown",
   "id": "568155c2",
   "metadata": {
    "slideshow": {
     "slide_type": "fragment"
    }
   },
   "source": [
    "<center><img src=\"Figures/S4-FilasColumnasValor.png\" width=\"500\" height=\"800\"></center>"
   ]
  },
  {
   "cell_type": "markdown",
   "id": "f86df655",
   "metadata": {
    "slideshow": {
     "slide_type": "subslide"
    }
   },
   "source": [
    "### Llenando una matriz con input"
   ]
  },
  {
   "cell_type": "code",
   "execution_count": 12,
   "id": "64ac6a1e",
   "metadata": {
    "slideshow": {
     "slide_type": "fragment"
    }
   },
   "outputs": [
    {
     "name": "stdout",
     "output_type": "stream",
     "text": [
      "Cuántas empresas?3\n",
      "Cuántos empleados?4\n",
      "[[0, 0, 0, 0], [0, 0, 0, 0], [0, 0, 0, 0]]\n",
      "Ingrese el valor para la empresa 0, empleado045\n",
      "Ingrese el valor para la empresa 0, empleado189\n",
      "Ingrese el valor para la empresa 0, empleado252\n",
      "Ingrese el valor para la empresa 0, empleado329\n",
      "Ingrese el valor para la empresa 1, empleado032\n",
      "Ingrese el valor para la empresa 1, empleado136\n",
      "Ingrese el valor para la empresa 1, empleado257\n",
      "Ingrese el valor para la empresa 1, empleado342\n",
      "Ingrese el valor para la empresa 2, empleado045\n",
      "Ingrese el valor para la empresa 2, empleado115\n",
      "Ingrese el valor para la empresa 2, empleado248\n",
      "Ingrese el valor para la empresa 2, empleado342\n",
      "[[45, 89, 52, 29], [32, 36, 57, 42], [45, 15, 48, 42]]\n"
     ]
    }
   ],
   "source": [
    "f = int(input(\"Cuántas empresas?\"))\n",
    "c = int(input(\"Cuántos empleados?\"))\n",
    "matriz = [[0] * c for i in range(f)]\n",
    "print(matriz)\n",
    "\n",
    "for i in range(f):\n",
    "    for j in range(c):\n",
    "        valor = int(input(f\"Ingrese el valor para la empresa {i}, empleado{j}\"))\n",
    "        matriz[i][j] = valor\n",
    "        \n",
    "print(matriz)\n"
   ]
  },
  {
   "cell_type": "markdown",
   "id": "029161b9",
   "metadata": {
    "slideshow": {
     "slide_type": "subslide"
    }
   },
   "source": [
    "•\tEjercicio [PromedioEmpleado] -> Codifique el siguiente programa:\n",
    "\n",
    "- Modifique el anterior programa para que muestre el promedio de edades de los trabajadores de cada empresa.\n"
   ]
  },
  {
   "cell_type": "code",
   "execution_count": 13,
   "id": "c990c64b",
   "metadata": {
    "slideshow": {
     "slide_type": "fragment"
    }
   },
   "outputs": [
    {
     "name": "stdout",
     "output_type": "stream",
     "text": [
      "Cuántas empresas?3\n",
      "Cuántos empleados por empresa?2\n",
      "[[0, 0], [0, 0], [0, 0]]\n",
      "Ingrese el valor para la empresa 0, empleado056\n",
      "Ingrese el valor para la empresa 0, empleado196\n",
      "El promedio de la empresa 0 es 76.0\n",
      "Ingrese el valor para la empresa 1, empleado085\n",
      "Ingrese el valor para la empresa 1, empleado195\n",
      "El promedio de la empresa 1 es 90.0\n",
      "Ingrese el valor para la empresa 2, empleado05\n",
      "Ingrese el valor para la empresa 2, empleado15\n",
      "El promedio de la empresa 2 es 5.0\n",
      "[[56, 96], [85, 95], [5, 5]]\n"
     ]
    }
   ],
   "source": [
    "f = int(input(\"Cuántas empresas?\"))\n",
    "c = int(input(\"Cuántos empleados por empresa?\"))\n",
    "matriz = [[0] * c for i in range(f)]\n",
    "print(matriz)\n",
    "\n",
    "for i in range(f):\n",
    "    suma = 0\n",
    "    for j in range(c):\n",
    "        valor = int(input(f\"Ingrese el valor para la empresa {i}, empleado{j}\"))\n",
    "        matriz[i][j] = valor\n",
    "        suma = suma + matriz[i][j]\n",
    "    promedio = suma / c\n",
    "    print(f\"El promedio de la empresa {i} es {promedio}\")\n",
    "    \n",
    "print(matriz)\n"
   ]
  },
  {
   "cell_type": "markdown",
   "id": "08cbf99d",
   "metadata": {
    "slideshow": {
     "slide_type": "subslide"
    }
   },
   "source": [
    "•\tEjercicio [PromedioEmpleado2] -> Codifique el siguiente programa:\n",
    "\n",
    "- Debe crear una función llamada calcularPromedio(int[] edades); el cual recibe un arreglo de edades. Y retorna el promedio de las edades (double).\n",
    "\n",
    "- Cree un for que recorre las empresas e invoque ese método desde el for cree construyo, y verifique que el programa funciona igual que el ejercicio 1."
   ]
  },
  {
   "cell_type": "code",
   "execution_count": 15,
   "id": "71a4e62e",
   "metadata": {
    "slideshow": {
     "slide_type": "fragment"
    }
   },
   "outputs": [
    {
     "name": "stdout",
     "output_type": "stream",
     "text": [
      "Cuántas empresas?3\n",
      "Cuántos empleados?2\n",
      "[[0, 0], [0, 0], [0, 0]]\n",
      "Ingrese el valor para la empresa 0, empleado05\n",
      "Ingrese el valor para la empresa 0, empleado154\n",
      "Ingrese el valor para la empresa 1, empleado052\n",
      "Ingrese el valor para la empresa 1, empleado152\n",
      "Ingrese el valor para la empresa 2, empleado054\n",
      "Ingrese el valor para la empresa 2, empleado121\n",
      "Empresa 0\n",
      "Edad promedio 29.5\n",
      "Empresa 1\n",
      "Edad promedio 52.0\n",
      "Empresa 2\n",
      "Edad promedio 37.5\n",
      "[[5, 54], [52, 52], [54, 21]]\n"
     ]
    }
   ],
   "source": [
    "def calcularPromedio(empresas):\n",
    "    suma = 0\n",
    "    for i in empresas:\n",
    "        suma = suma + i\n",
    "    return suma/len(empresas)\n",
    "\n",
    "f = int(input(\"Cuántas empresas?\"))\n",
    "c = int(input(\"Cuántos empleados?\"))\n",
    "matriz = [[0] * c for i in range(f)]\n",
    "print(matriz)\n",
    "\n",
    "for i in range(f):\n",
    "    for j in range(c):\n",
    "        valor = int(input(f\"Ingrese el valor para la empresa {i}, empleado{j}\"))\n",
    "        matriz[i][j] = valor\n",
    "        \n",
    "# For que recorra filas y mande cada fila a la función calcular promedio, se imprime el resultado\n",
    "for i in range(f):\n",
    "    print(\"Empresa\", i)\n",
    "    x = calcularPromedio(matriz[i])\n",
    "    print(\"Edad promedio\", x)\n",
    "        \n",
    "print(matriz)"
   ]
  },
  {
   "cell_type": "markdown",
   "id": "fbf57fc0",
   "metadata": {
    "slideshow": {
     "slide_type": "subslide"
    }
   },
   "source": [
    "# Operaciones con matrices\n",
    "Usar la clase matriz o usar la libreria numpy.\n",
    "\n",
    "- Para utilizar numpy debe intalar la librería:\n",
    "    - Abrir la consola (Command prompt) como administrador \n",
    "    - Escribir el comando: `pip install numpy`\n",
    "    - Enter y esperar a que se instale."
   ]
  },
  {
   "cell_type": "code",
   "execution_count": 16,
   "id": "04fefde4",
   "metadata": {
    "slideshow": {
     "slide_type": "fragment"
    }
   },
   "outputs": [
    {
     "name": "stdout",
     "output_type": "stream",
     "text": [
      "[[34 25 16 32]\n",
      " [34 13 76 76]]\n",
      "Número de filas 2\n",
      "Número de columnas 4\n"
     ]
    }
   ],
   "source": [
    "import numpy as np\n",
    "\n",
    "edadesEmpresa2 = np.array([[34,25,16,32],[34,13,76,76]])\n",
    "print(edadesEmpresa2)\n",
    "print(\"Número de filas\", len(edadesEmpresa2))\n",
    "print(\"Número de columnas\", len(edadesEmpresa2[0]))"
   ]
  },
  {
   "cell_type": "code",
   "execution_count": 19,
   "id": "13f9aadc",
   "metadata": {
    "slideshow": {
     "slide_type": "subslide"
    }
   },
   "outputs": [
    {
     "name": "stdout",
     "output_type": "stream",
     "text": [
      "132\n",
      "[74 23 14 21]\n",
      "[15 27 67  8 15]\n"
     ]
    }
   ],
   "source": [
    "import numpy as np\n",
    "#Sumar todo\n",
    "a = np.array([[3,12,55,1,3],[1,9,6,1,6],[4,1,2,2,5],[7,5,4,4,1]])\n",
    "print(np.sum(a))\n",
    "\n",
    "# Sumar filas\n",
    "a = np.array([[3,12,55,1,3],[1,9,6,1,6],[4,1,2,2,5],[7,5,4,4,1]])\n",
    "print(np.sum(a, axis = 1))\n",
    "\n",
    "#Sumar columnas\n",
    "a = np.array([[3,12,55,1,3],[1,9,6,1,6],[4,1,2,2,5],[7,5,4,4,1]])\n",
    "print(np.sum(a, axis = 0)) "
   ]
  },
  {
   "cell_type": "code",
   "execution_count": 20,
   "id": "d3633948",
   "metadata": {
    "slideshow": {
     "slide_type": "fragment"
    }
   },
   "outputs": [
    {
     "name": "stdout",
     "output_type": "stream",
     "text": [
      "[[3 1 6 2 8]\n",
      " [9 7 7 2 1]\n",
      " [4 1 2 2 5]\n",
      " [7 5 4 4 1]]\n",
      "[[3 9 4 7]\n",
      " [1 7 1 5]\n",
      " [6 7 2 4]\n",
      " [2 2 2 4]\n",
      " [8 1 5 1]]\n"
     ]
    }
   ],
   "source": [
    "# Transpuesta\n",
    "a = np.array([[3,1,6,2,8],[9,7,7,2,1],[4,1,2,2,5],[7,5,4,4,1]])\n",
    "print(a)\n",
    "\n",
    "print(a.transpose())"
   ]
  },
  {
   "cell_type": "code",
   "execution_count": 21,
   "id": "202e1da5",
   "metadata": {
    "slideshow": {
     "slide_type": "subslide"
    }
   },
   "outputs": [
    {
     "name": "stdout",
     "output_type": "stream",
     "text": [
      "[[  6  24 110   2   6]\n",
      " [  2  18  12   2  12]\n",
      " [  8   2   4   4  10]\n",
      " [ 14  10   8   8   2]]\n"
     ]
    }
   ],
   "source": [
    "\n",
    "#Suma de dos matrices\n",
    "a = np.array([[3,12,55,1,3],[1,9,6,1,6],[4,1,2,2,5],[7,5,4,4,1]])\n",
    "b = np.array([[3,12,55,1,3],[1,9,6,1,6],[4,1,2,2,5],[7,5,4,4,1]])\n",
    "\n",
    "print(np.add(a,b))"
   ]
  },
  {
   "cell_type": "code",
   "execution_count": 22,
   "id": "f7af3b1c",
   "metadata": {
    "slideshow": {
     "slide_type": "subslide"
    }
   },
   "outputs": [
    {
     "name": "stdout",
     "output_type": "stream",
     "text": [
      "[3 9 2 4]\n",
      "216\n"
     ]
    }
   ],
   "source": [
    "#Producto diagonal\n",
    "a = np.array([[3,12,55,1,3],[1,9,6,1,6],[4,1,2,2,5],[7,5,4,4,1]])\n",
    "print(a.diagonal())\n",
    "print(a.diagonal().prod())"
   ]
  },
  {
   "cell_type": "code",
   "execution_count": 23,
   "id": "5465c915",
   "metadata": {
    "slideshow": {
     "slide_type": "subslide"
    }
   },
   "outputs": [
    {
     "name": "stdout",
     "output_type": "stream",
     "text": [
      "[[248 204 351 129]\n",
      " [ 43 104 125  26]\n",
      " [ 35  69 238  17]\n",
      " [ 70 153 439  36]]\n"
     ]
    }
   ],
   "source": [
    "#Multiplicación de dos matrices\n",
    "a = np.array([[3,12,55,1],[1,9,6,1],[4,1,2,2],[7,5,4,4]])\n",
    "b = np.array([[3,12,55,1],[1,9,6,1],[4,1,2,2],[7,5,4,4]])\n",
    "\n",
    "print(np.dot(a,b))"
   ]
  },
  {
   "cell_type": "code",
   "execution_count": 25,
   "id": "88845c84",
   "metadata": {
    "slideshow": {
     "slide_type": "fragment"
    }
   },
   "outputs": [
    {
     "name": "stdout",
     "output_type": "stream",
     "text": [
      "[[ 3 12 55  1]\n",
      " [ 0  9  6  1]\n",
      " [ 0  0  2  2]\n",
      " [ 0  0  0  4]]\n",
      "95\n",
      "[[ 0 12 55  1]\n",
      " [ 0  0  6  1]\n",
      " [ 0  0  0  2]\n",
      " [ 0  0  0  0]]\n",
      "95\n",
      "[[3 0 0 0]\n",
      " [1 9 0 0]\n",
      " [4 1 2 0]\n",
      " [7 5 4 4]]\n",
      "40\n",
      "[[0 0 0 0]\n",
      " [1 0 0 0]\n",
      " [4 1 0 0]\n",
      " [7 5 4 0]]\n",
      "22\n"
     ]
    }
   ],
   "source": [
    "a = np.array([[3,12,55,1],[1,9,6,1],[4,1,2,2],[7,5,4,4]])\n",
    "\n",
    "#Matriz triangular superior\n",
    "print(np.triu(a))\n",
    "print(np.triu(a).sum())\n",
    "\n",
    "#Matriz triangular extrictamente superior\n",
    "print(np.triu(a,1))\n",
    "print(np.triu(a).sum())\n",
    "\n",
    "\n",
    "#Matriz triangular inferior\n",
    "print(np.tril(a))\n",
    "print(np.tril(a).sum())\n",
    "\n",
    "#Matriz triangular extrictamente inferior\n",
    "print(np.tril(a,-1))\n",
    "print(np.tril(a,-1).sum())\n"
   ]
  },
  {
   "cell_type": "markdown",
   "id": "fffab3c4",
   "metadata": {
    "slideshow": {
     "slide_type": "slide"
    }
   },
   "source": [
    "# Ejercicios"
   ]
  },
  {
   "cell_type": "markdown",
   "id": "c41d70ac",
   "metadata": {
    "slideshow": {
     "slide_type": "fragment"
    }
   },
   "source": [
    "•\tEjercicio [ArregloEmpleados] -> Codifique el siguiente programa:\n",
    "- Cree un método de clase en la clase PrincipalEmpleado. \n",
    "\n",
    "- Ese método recibirá un arreglo de empleados, y retornará un valor double (el cual contiene el valor del mayor salario).\n",
    "\n",
    "- Modifique el método main para imprimir ese mayor salario."
   ]
  },
  {
   "cell_type": "code",
   "execution_count": null,
   "id": "2a658831",
   "metadata": {
    "slideshow": {
     "slide_type": "fragment"
    }
   },
   "outputs": [],
   "source": [
    "class Empleado:\n",
    "    def __init__(self, n, s):\n",
    "        self.nombre = n\n",
    "        self.salario = s"
   ]
  }
 ],
 "metadata": {
  "celltoolbar": "Slideshow",
  "kernelspec": {
   "display_name": "Python 3",
   "language": "python",
   "name": "python3"
  },
  "language_info": {
   "codemirror_mode": {
    "name": "ipython",
    "version": 3
   },
   "file_extension": ".py",
   "mimetype": "text/x-python",
   "name": "python",
   "nbconvert_exporter": "python",
   "pygments_lexer": "ipython3",
   "version": "3.9.0"
  },
  "rise": {
   "autolaunch": true,
   "backimage": "mybackimage.png",
   "scroll": true
  }
 },
 "nbformat": 4,
 "nbformat_minor": 5
}
