{
 "cells": [
  {
   "cell_type": "markdown",
   "id": "62a5f2f1",
   "metadata": {
    "slideshow": {
     "slide_type": "slide"
    }
   },
   "source": [
    "# 1. Introducción\n",
    "En ocasiones, es necesario realizar tareas similares en diferentes partes de un programa, pero con valores diferentes; por ejemplo calcular el factorial de un número o mostrar una palabra al revés o decidir si un número es primo.\n",
    "\n",
    "Complejidad de los programas reales.\n",
    "- Divide y vencerás.\n",
    "- Evitar repeticiones \n",
    "- DRY (Don´t Repeat Yourself) \n",
    "\n",
    "<img src=\"Figures/S3-DRY.png\" width=\"800\" height=\"1000\">\n",
    "\n"
   ]
  },
  {
   "cell_type": "markdown",
   "id": "a0653bb6",
   "metadata": {
    "slideshow": {
     "slide_type": "subslide"
    }
   },
   "source": [
    "En el siguiente código el cliente no quiere que salga por pantalla el mensaje “el precio del producto…”, si no, “Precio producto 1 es: ”."
   ]
  },
  {
   "cell_type": "code",
   "execution_count": null,
   "id": "6577332b",
   "metadata": {
    "slideshow": {
     "slide_type": "fragment"
    }
   },
   "outputs": [],
   "source": [
    "p1 = 100\n",
    "p2 = 200\n",
    "p3 = 350\n",
    "p4 = 250\n",
    "\n",
    "print(\"El precio del producto 1 es\", p1)\n",
    "print(\"El precio del producto 2 es\", p2)\n",
    "print(\"El precio del producto 3 es\", p3)\n",
    "print(\"El precio del producto 4 es\", p4)"
   ]
  },
  {
   "cell_type": "markdown",
   "id": "29e4013f",
   "metadata": {
    "slideshow": {
     "slide_type": "fragment"
    }
   },
   "source": [
    "Pero suponga que ya no son 4 productos si no 400 productos. ¿Qué tocaría hacer?"
   ]
  },
  {
   "cell_type": "markdown",
   "id": "51cf7cf5",
   "metadata": {
    "slideshow": {
     "slide_type": "slide"
    }
   },
   "source": [
    "## Funciones o subprogramas\n",
    "En ese caso podemos escribir subprogramas que son fragmentos aislados de código que disminuyen la complejidad de un programa y evitan reescribir código innecesariamente.\n",
    "\n",
    "- Las funciones son esencialmente, bloques reutilizables de código.\n",
    "- Utilizar funciones permite modularizar los programas.\n",
    "- Ahora, un programa complejo, se puede dividir en una serie de partes o bloques más simples.\n",
    "- El uso de funciones provee una serie de ventajas:\n",
    "    - Se facilita la programación.\n",
    "    - Se reutiliza el código.\n",
    "    - Se reducen la cantidad de líneas de código.\n",
    "    - Se facilita el proceso de encontrar errores.\n",
    "    - Se mejora la mantenibilidad.\n",
    "    - Entre otros."
   ]
  },
  {
   "cell_type": "markdown",
   "id": "13463ab9",
   "metadata": {
    "slideshow": {
     "slide_type": "slide"
    }
   },
   "source": [
    "Las definiciones de función no pueden estar vacías, pero si por alguna razón tiene una definición de función sin contenido, coloque la instrucción `pass` para evitar errores."
   ]
  },
  {
   "cell_type": "code",
   "execution_count": null,
   "id": "741c7182",
   "metadata": {
    "slideshow": {
     "slide_type": "fragment"
    }
   },
   "outputs": [],
   "source": [
    "def myfunction():\n",
    "  pass"
   ]
  },
  {
   "cell_type": "markdown",
   "id": "e15035bd",
   "metadata": {
    "slideshow": {
     "slide_type": "subslide"
    }
   },
   "source": [
    "## Creando una función\n",
    "- Una función en Python es un bloque de código con un nombre asociado.\n",
    "- La función recibe cero o más parámetros.\n",
    "- Luego la función contiene un cuerpo en el cual se ejecutan una serie de instrucciones. \n",
    "- Finalmente, la función puede retornar un valor."
   ]
  },
  {
   "cell_type": "code",
   "execution_count": null,
   "id": "ed380a57",
   "metadata": {
    "slideshow": {
     "slide_type": "fragment"
    }
   },
   "outputs": [],
   "source": [
    "#Función sin parámetros y sin retorno\n",
    "def nombreFuncion():\n",
    "    print(\"Hola mundo\")\n",
    "    \n",
    "nombreFuncion()"
   ]
  },
  {
   "cell_type": "markdown",
   "id": "4302b88b",
   "metadata": {
    "slideshow": {
     "slide_type": "fragment"
    }
   },
   "source": [
    "•\tEjercicio [HolaAmigo] \n",
    "- Ahora en lugar de imprimir “Hola mundo” -> imprima “Hola amigo” 5 veces.\n"
   ]
  },
  {
   "cell_type": "markdown",
   "id": "238bfed5",
   "metadata": {
    "slideshow": {
     "slide_type": "slide"
    }
   },
   "source": [
    "## Función con parámetros\n",
    "Un parámetro es un valor que la función espera recibir cuando sea llamada (invocada), a fin de ejecutar acciones en base al mismo. Una función puede esperar uno o más parámetros (que irán separados por una coma) o ninguno."
   ]
  },
  {
   "cell_type": "code",
   "execution_count": null,
   "id": "9f194a04",
   "metadata": {
    "slideshow": {
     "slide_type": "fragment"
    }
   },
   "outputs": [],
   "source": [
    "#Función con parámetros y sin retorno\n",
    "def imprimirPrecio(num, precio):\n",
    "    print(f\"Precio producto {num}, es {precio}\")\n",
    "    \n",
    "p2 = 350\n",
    "imprimirPrecio(1,200)\n",
    "#imprimirPrecio(2,p2)"
   ]
  },
  {
   "cell_type": "markdown",
   "id": "b99ccbb9",
   "metadata": {
    "slideshow": {
     "slide_type": "subslide"
    }
   },
   "source": [
    "•\tEjercicio [AreaRectangulo] -> Codifique el siguiente programa:\n",
    "- Cree una funcion que reciba dos parámetros, dentro de la función imprima el resultado de multiplicar estos.\n",
    "- Por fuera de la función:\n",
    "    - Solicite repetidamente al usuario que ingrese la base y la altura de un rectángulo.\n",
    "    - Cada vez que lo haga invoque la función creada con los datos ingresados."
   ]
  },
  {
   "cell_type": "code",
   "execution_count": null,
   "id": "7f9fe791",
   "metadata": {
    "slideshow": {
     "slide_type": "fragment"
    }
   },
   "outputs": [],
   "source": [
    "def imprimirArearectangulo(base, altura):\n",
    "    print(f\"El area es {base * altura}\")\n",
    "\n",
    "i = 0\n",
    "while i < 3:\n",
    "    base = int(input(\"ingrese la base: \"))\n",
    "    altura = int(input(\"ingrese la altura: \"))\n",
    "    imprimirArearectangulo(base, altura)\n",
    "    i += 1"
   ]
  },
  {
   "cell_type": "code",
   "execution_count": null,
   "id": "b4e90a28",
   "metadata": {
    "slideshow": {
     "slide_type": "fragment"
    }
   },
   "outputs": [],
   "source": [
    "def imprimirArearectangulo():\n",
    "    base = int(input(\"ingrese la base: \"))\n",
    "    altura = int(input(\"ingrese la altura: \"))\n",
    "    print(f\"El area es {base * altura}\")\n",
    "\n",
    "i = 0\n",
    "while i < 3:\n",
    "    imprimirArearectangulo()\n",
    "    i += 1"
   ]
  },
  {
   "cell_type": "markdown",
   "id": "5b59c2c7",
   "metadata": {
    "slideshow": {
     "slide_type": "slide"
    }
   },
   "source": [
    "## Sobre los parámetros"
   ]
  },
  {
   "cell_type": "markdown",
   "id": "3b925a2d",
   "metadata": {
    "slideshow": {
     "slide_type": "subslide"
    }
   },
   "source": [
    "##### 1. El orden y la cantidad importa"
   ]
  },
  {
   "cell_type": "code",
   "execution_count": null,
   "id": "22e3a10a",
   "metadata": {
    "slideshow": {
     "slide_type": "fragment"
    }
   },
   "outputs": [],
   "source": [
    "#Función con parámetros y sin retorno\n",
    "def imprimirInfo(nombre, numero):\n",
    "    print(f\"Info nombre: {nombre},numero: {numero}\")\n",
    "    \n",
    "imprimirInfo(\"Lola\",200)\n",
    "imprimirInfo(200,\"Lola\")"
   ]
  },
  {
   "cell_type": "markdown",
   "id": "dc7eef86",
   "metadata": {
    "slideshow": {
     "slide_type": "subslide"
    }
   },
   "source": [
    "##### 2. Es posible, asignar valores por defecto a los parámetros de las funciones."
   ]
  },
  {
   "cell_type": "code",
   "execution_count": null,
   "id": "cc7daaa9",
   "metadata": {
    "slideshow": {
     "slide_type": "fragment"
    }
   },
   "outputs": [],
   "source": [
    "#Función con parámetros, sin retorno y con valores por defecto\n",
    "def imprimirInfo(nombre, numero = 123): #Valor por defecto\n",
    "    print(f\"Info {nombre},{numero}\")\n",
    "    \n",
    "imprimirInfo(\"Lola\",200)\n",
    "imprimirInfo(200,\"Lola\")\n",
    "imprimirInfo(\"Lola\")"
   ]
  },
  {
   "cell_type": "markdown",
   "id": "82636692",
   "metadata": {
    "slideshow": {
     "slide_type": "subslide"
    }
   },
   "source": [
    "##### 3. Si no sabe cuántos argumentos se pasarán a su función, agregue un * antes del nombre del parámetro en la definición de la función. Ojo: Estos argumentos, llegarán a la función en forma de tupla."
   ]
  },
  {
   "cell_type": "code",
   "execution_count": null,
   "id": "25410da5",
   "metadata": {
    "slideshow": {
     "slide_type": "fragment"
    }
   },
   "outputs": [],
   "source": [
    "def miFuncion(*datos):\n",
    "  contador = 0\n",
    "  for x in datos: \n",
    "        contador +=1\n",
    "  print(\"El último dato es \",datos[contador-1])\n",
    "\n",
    "miFuncion(\"Hola\", \"beneficiarios\", \":)\")\n",
    "miFuncion(1, 2, 3)\n"
   ]
  },
  {
   "cell_type": "markdown",
   "id": "171474fa",
   "metadata": {
    "slideshow": {
     "slide_type": "subslide"
    }
   },
   "source": [
    "•\tEjercicio [FuncionSuma] -> Codifique el siguiente programa:\n",
    "- Cree una función que recibe un cantidad desconocida de parámetros.\n",
    "- Dentro de esta función construya un ciclo que sume los parámetros recibidos, y devuelva el resultado.\n",
    "- Por fuera de la función, invoque la función enviandole x cantidad de argumentos e imprima el resultado."
   ]
  },
  {
   "cell_type": "code",
   "execution_count": null,
   "id": "235c10cf",
   "metadata": {
    "slideshow": {
     "slide_type": "fragment"
    }
   },
   "outputs": [],
   "source": []
  },
  {
   "cell_type": "markdown",
   "id": "e379468d",
   "metadata": {
    "slideshow": {
     "slide_type": "slide"
    }
   },
   "source": [
    "## Función con retorno\n",
    "La declaración de retorno de Python es una declaración especial que puede usar dentro de una función o método para enviar el resultado de la función a la persona que llama. Una declaración de retorno consta de la palabra clave `return` seguida de un valor de retorno opcional. El valor de retorno de una función de Python puede ser cualquier objeto de Python."
   ]
  },
  {
   "cell_type": "code",
   "execution_count": null,
   "id": "251ceedc",
   "metadata": {
    "slideshow": {
     "slide_type": "fragment"
    }
   },
   "outputs": [],
   "source": [
    "def miFuncion(x):\n",
    "  return 5 * x\n",
    "\n",
    "x = miFuncion(3)\n",
    "print(f\"Resultado de multiplicar por 5\",x)\n",
    "print(f\"Resultado de multiplicar por 5\",miFuncion(3))\n",
    "print(x+3)\n",
    "print(miFuncion(5))\n",
    "print(miFuncion(9))"
   ]
  },
  {
   "cell_type": "markdown",
   "id": "ea447b19",
   "metadata": {
    "slideshow": {
     "slide_type": "subslide"
    }
   },
   "source": [
    "•\tEjercicio [FuncionPalabraInvertida] -> Codifique el siguiente programa:\n",
    "- cree una función que recibe un texto como parámetro, ese texto debe invertirlo y devolverlo al caller para que lo imprima.\n",
    "- Invoque varias veces la función."
   ]
  },
  {
   "cell_type": "code",
   "execution_count": null,
   "id": "3838bde0",
   "metadata": {},
   "outputs": [],
   "source": [
    "def invertir_palabra(input):\n",
    "    inv = \"\"\n",
    "    for i in range(len(input)-1, -1, -1):\n",
    "        inv = inv + input[i]\n",
    "    return inv\n",
    "    \n",
    "palabra = \"APRENDIENDO PYTHON\"\n",
    "print(invertir_palabra(palabra))\n",
    "\n",
    "palabra = \"USO DE SUBPROGRAMAS\"\n",
    "print(invertir_palabra(palabra))\n",
    "\n",
    "palabra = \"MEDIANTE ESTE EJEMPLO\"\n",
    "print(invertir_palabra(palabra))"
   ]
  },
  {
   "cell_type": "markdown",
   "id": "73088358",
   "metadata": {
    "slideshow": {
     "slide_type": "slide"
    }
   },
   "source": [
    "# Variables locales y globales\n",
    "- Las variables definidas dentro de un subprograma, tienen alcance solamente en el subprograma y cuando este termina, las variables desaparecen.  Estas variable son llamadas locales\n",
    "- Las variables que están definidas dentro del programa principal o llamante, se pueden usar dentro del subprograma solo si se definen como globales dentro del mismo, en ese caso los cambios que le hagamos a esa variable dentro de la función, también la afectarán fuera de ella."
   ]
  },
  {
   "cell_type": "code",
   "execution_count": null,
   "id": "880d9189",
   "metadata": {
    "slideshow": {
     "slide_type": "fragment"
    }
   },
   "outputs": [],
   "source": [
    "x = \"genial\"\n",
    "\n",
    "def miFuncion():\n",
    "  x = \"fantastico\"\n",
    "  print(\"Python es \" + x)\n",
    "\n",
    "miFuncion()\n",
    "print(\"Python es \" + x)"
   ]
  },
  {
   "cell_type": "code",
   "execution_count": null,
   "id": "33849d85",
   "metadata": {
    "slideshow": {
     "slide_type": "fragment"
    }
   },
   "outputs": [],
   "source": [
    "x = \"genial\"\n",
    "\n",
    "def myfunc():\n",
    "  global x\n",
    "  x = \"fantastic\"\n",
    "  print(\"Python es \" + x)\n",
    "\n",
    "myfunc()\n",
    "print(\"Python es \" + x)"
   ]
  },
  {
   "cell_type": "markdown",
   "id": "f2fad571",
   "metadata": {
    "slideshow": {
     "slide_type": "slide"
    }
   },
   "source": [
    "# Archivos con funciones\n",
    "- Poder usar las funciones que definamos deberíamos escribirlas al principio del programa principal o llamante, además tendríamos que repetirlas en cada programa que escribamos.\n",
    "\n",
    "- Por fortuna Python nos permite invocar uno o varios archivos donde podemos tener escritas las funciones y así no tener que escribirlas en cada programa!"
   ]
  },
  {
   "cell_type": "code",
   "execution_count": null,
   "id": "aa4e3eb7",
   "metadata": {},
   "outputs": [],
   "source": [
    "#Archivo tablas.py\n",
    "def imprima_tablas(m, n):\n",
    "    for i in range(1, m+1):\n",
    "        for j in range(1, n+1):\n",
    "            print(f\"{i} * {j} = {i*j}\")\n"
   ]
  },
  {
   "cell_type": "code",
   "execution_count": null,
   "id": "64e38f19",
   "metadata": {},
   "outputs": [],
   "source": [
    "#principal.py\n",
    "import tablas\n",
    "tablas.imprima_tablas(10, 10)\n"
   ]
  },
  {
   "cell_type": "code",
   "execution_count": null,
   "id": "7f78f0be",
   "metadata": {},
   "outputs": [],
   "source": [
    "#otra_forma.py\n",
    "import tablas as t\n",
    "t.imprima_tablas(10, 10)"
   ]
  },
  {
   "cell_type": "markdown",
   "id": "fffab3c4",
   "metadata": {
    "slideshow": {
     "slide_type": "slide"
    }
   },
   "source": [
    "# Ejercicios"
   ]
  },
  {
   "cell_type": "markdown",
   "id": "78e7d18e",
   "metadata": {
    "slideshow": {
     "slide_type": "subslide"
    }
   },
   "source": [
    "•\tEjercicio [FuncionImpresion] -> Codifique el siguiente programa:\n",
    "- Cree una función que recibe un cantidad desconocida de parámetros.\n",
    "- Dentro de esta función construya un ciclo que imprima los parámetros recibidos.\n",
    "- Por fuera de la función, invoque la función enviandole x cantidad de argumentos."
   ]
  },
  {
   "cell_type": "code",
   "execution_count": null,
   "id": "b0cef33d",
   "metadata": {
    "slideshow": {
     "slide_type": "fragment"
    }
   },
   "outputs": [],
   "source": [
    "def funcionImpresion(*datos):\n",
    "    for x in datos:\n",
    "        print(x)\n",
    "        \n",
    "funcionImpresion(\"Hola\", \"beneficiarios\", \":)\")\n",
    "funcionImpresion(1,2,3,4,5)"
   ]
  },
  {
   "cell_type": "markdown",
   "id": "c41d70ac",
   "metadata": {
    "slideshow": {
     "slide_type": "fragment"
    }
   },
   "source": [
    "•\tEjercicio [holaMensaje] -> Codifique el siguiente programa:\n",
    "- Cree una función en Python (llamada holaMensaje), que reciba un parámetro.\n",
    "- Esa función por dentro debe imprimir el texto “Hola” +  el parámetro recibido.\n",
    "- Ejemplo:\n",
    "    - Al invocar holaMensaje(“juan”), debe imprimir “Hola juan”.\n",
    "    - Al invocar holaMensaje(“iphone”), debe imprimir “Hola iphone”.\n",
    "    - Al invocar holaMensaje(“sara”), debe imprimir “Hola sara”."
   ]
  },
  {
   "cell_type": "code",
   "execution_count": null,
   "id": "0c94dadf",
   "metadata": {},
   "outputs": [],
   "source": []
  },
  {
   "cell_type": "markdown",
   "id": "c14eef6f",
   "metadata": {
    "slideshow": {
     "slide_type": "fragment"
    }
   },
   "source": [
    "•\tEjercicio [funcionPar] -> Codifique el siguiente programa:\n",
    "- Crear una función: numero_par, que acepte un número entero positivo y devuelva si el número es par."
   ]
  },
  {
   "cell_type": "markdown",
   "id": "3ca19d06",
   "metadata": {
    "slideshow": {
     "slide_type": "fragment"
    }
   },
   "source": [
    "•\tEjercicio [funcionDescomponer] -> Codifique el siguiente programa:\n",
    "- Crear una función: descomponer_cifras, que reciba un número entero de dos cifras y retorne sus unidades y sus decenas."
   ]
  },
  {
   "cell_type": "markdown",
   "id": "c22ca6a1",
   "metadata": {
    "slideshow": {
     "slide_type": "fragment"
    }
   },
   "source": [
    "•\tEjercicio [funcionHipotenusa] -> Codifique el siguiente programa:\n",
    "- Crear una función: hipotenusa, que acepte la longitud de dos lados de un triángulo rectángulo y regrese la hipotenusa. "
   ]
  },
  {
   "cell_type": "markdown",
   "id": "685aa551",
   "metadata": {
    "slideshow": {
     "slide_type": "fragment"
    }
   },
   "source": [
    "•\tEjercicio [funcionMonos] -> Codifique el siguiente programa:\n",
    "- Tenemos dos monos, a y b, y los parametros a_smile y b_smile indican si cada uno de los monos está sonriendo. Tenemos un problema si los dos están sonriendo al mismo tiempo o ninguno de los dos está sonriendo. Retornar verdadero si tenemos un problema, falso si no. "
   ]
  }
 ],
 "metadata": {
  "celltoolbar": "Slideshow",
  "kernelspec": {
   "display_name": "Python 3",
   "language": "python",
   "name": "python3"
  },
  "language_info": {
   "codemirror_mode": {
    "name": "ipython",
    "version": 3
   },
   "file_extension": ".py",
   "mimetype": "text/x-python",
   "name": "python",
   "nbconvert_exporter": "python",
   "pygments_lexer": "ipython3",
   "version": "3.9.0"
  },
  "rise": {
   "autolaunch": true,
   "backimage": "mybackimage.png",
   "scroll": true
  }
 },
 "nbformat": 4,
 "nbformat_minor": 5
}
