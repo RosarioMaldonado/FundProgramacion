{
 "cells": [
  {
   "cell_type": "markdown",
   "id": "62a5f2f1",
   "metadata": {
    "slideshow": {
     "slide_type": "slide"
    }
   },
   "source": [
    "# 1. Introducción\n",
    "- La programación orientada a objetos (POO) es esencialmente una tecnología para desarrollar software reutilizable.\n",
    "- La POO implica programar utilizando objetos. Un objeto representa una entidad del mundo real que puede identificarse claramente. \n",
    "- Por ejemplo: un estudiante, un escritorio, un círculo, una casa, un carro, cualquier objeto en especifico. \n",
    "- Cada objeto tiene una identidad única, unas propiedades (atributos), y unos comportamientos (métodos).\n",
    "\n",
    "<center><img src=\"Figures/S3-Paradigma.png\" width=\"700\" height=\"1000\"></center>"
   ]
  },
  {
   "cell_type": "markdown",
   "id": "f1a4b65c",
   "metadata": {
    "slideshow": {
     "slide_type": "slide"
    }
   },
   "source": [
    "## Clase\n",
    "- Los objetos del mismo tipo se definen usando una clase común.\n",
    "- Una clase es una plantilla, modelo o contrato que define cuáles serán los atributos y métodos de un objeto. \n",
    "- Un objeto es una instancia de una clase. \n",
    "- Un programador puede crear muchas instancias de una clase. \n",
    "- Crear una instancia se conoce como instanciación.\n",
    "\n",
    "Si mi clase es una fruta, ¿Cuáles serían los objetos?"
   ]
  },
  {
   "cell_type": "markdown",
   "id": "7e672097",
   "metadata": {
    "slideshow": {
     "slide_type": "fragment"
    }
   },
   "source": [
    "\n",
    "<center><img align=\"center\" src=\"Figures/S3-Frutas.png\" width=\"700\" height=\"1000\"></center>\n",
    "\n"
   ]
  },
  {
   "cell_type": "markdown",
   "id": "203c7b60",
   "metadata": {
    "slideshow": {
     "slide_type": "subslide"
    }
   },
   "source": [
    "### Componentes de una clase\n",
    "#### Propiedades (atributos)\n",
    "- Representan datos con valores pertenecientes al objeto. \n",
    "- Mencione algunas propiedades que podría tener un objeto \"Carro\", \"Circulo\", \"Rectangulo\"\n",
    "\n",
    "#### Comportamientos (métodos)\n",
    "- Representan acciones o métodos. Cada objeto puede invocar o ejecutar diferentes tipos de acciones.\n",
    "- Por ejemplo: un objeto circulo podría invocar métodos como getArea() – para obtener el área del circulo. O getPerimeter() para obtener el perímetro.\n",
    "- Mencione algunos comportamiento que podría tener un objeto \"Carro\"\n",
    "\n",
    "<center><img src=\"Figures/S3-ClaseCarro.jpg\" width=\"400\" height=\"800\"></center>"
   ]
  },
  {
   "cell_type": "markdown",
   "id": "981d1397",
   "metadata": {
    "slideshow": {
     "slide_type": "subslide"
    }
   },
   "source": [
    "### UML\n",
    "- UML (lenguaje unificado de modelado) es el lenguaje de modelado de sistemas de software más conocido y utilizado en la actualidad.\n",
    "- La ventaja de utilizar modelos UML, es que permiten que programadores de diferentes regiones o incluso continentes, “hablen” en un mismo idioma.\n",
    "- Existen muchos tipos de modelos o diagramas UML. En este curso nos enfocaremos en el “diagrama de clases UML”. \n",
    "<center><img src=\"Figures/S3-UMLLogo.png\" width=\"300\" height=\"400\"></center>"
   ]
  },
  {
   "cell_type": "markdown",
   "id": "ead5a660",
   "metadata": {
    "slideshow": {
     "slide_type": "subslide"
    }
   },
   "source": [
    "### Diagrama de clases\n",
    "- Se utiliza para representar la clases del sistema.\n",
    "- Permite obtener un panorama general de mi aplicación sin necesidad de ir a mirar 200 archivos o más.\n",
    "- Permite observar de manera grafica como se relacionan las diferentes clases de mi sistema (se ve mas adelante).\n",
    "- Permite establecer un diseño de mi aplicación y presentársela a otros colegas o interesados.\n",
    "\n",
    "<center><img src=\"Figures/S3-Clase.png\" width=\"700\" height=\"700\"></center>"
   ]
  },
  {
   "cell_type": "markdown",
   "id": "706dcfe6",
   "metadata": {
    "slideshow": {
     "slide_type": "slide"
    }
   },
   "source": [
    "## 1. Creando una clase\n",
    "<center><img src=\"Figures/S3-Circulo.png\" width=\"400\" height=\"500\"></center>"
   ]
  },
  {
   "cell_type": "code",
   "execution_count": null,
   "id": "02dee6ab",
   "metadata": {
    "slideshow": {
     "slide_type": "fragment"
    }
   },
   "outputs": [],
   "source": [
    "class Circulo: #Nombre de la clase\n",
    "    pass\n",
    "  \n",
    "print(type(Circulo))\n"
   ]
  },
  {
   "cell_type": "markdown",
   "id": "ddd11af3",
   "metadata": {
    "slideshow": {
     "slide_type": "subslide"
    }
   },
   "source": [
    "# Creando un objeto\n",
    "Para crear un nuevo objeto Circulo se debe invocar el “nombre de la Clase” seguido por “()” -> Circulo(). "
   ]
  },
  {
   "cell_type": "code",
   "execution_count": null,
   "id": "9ac8d1f8",
   "metadata": {},
   "outputs": [],
   "source": [
    "circulo1 = Circulo() #Objeto de la clase circulo\n",
    "print(circulo1)"
   ]
  },
  {
   "cell_type": "markdown",
   "id": "dcb4dd02",
   "metadata": {
    "slideshow": {
     "slide_type": "subslide"
    }
   },
   "source": [
    "•\tEjercicio [ClasePersona] -> Codifique el siguiente programa:\n",
    "- Cree la clase Persona\n",
    "<center><img src=\"Figures/S3-NombreClase.png\" width=\"500\" height=\"600\"></center>\n",
    "- Cree dos intancias de persona."
   ]
  },
  {
   "cell_type": "code",
   "execution_count": null,
   "id": "bff8fa4e",
   "metadata": {
    "slideshow": {
     "slide_type": "fragment"
    }
   },
   "outputs": [],
   "source": [
    "class Persona:\n",
    "    pass\n",
    "\n",
    "persona1 = Persona()\n",
    "persona2 = Persona()"
   ]
  },
  {
   "cell_type": "markdown",
   "id": "6c97e492",
   "metadata": {
    "slideshow": {
     "slide_type": "slide"
    }
   },
   "source": [
    "## 2. Atributos de instancia\n",
    "Representan datos con valores pertenecientes al objeto.\n",
    "Por ejemplo: un objeto estudiante podría tener: nombre, edad, genero, correo, entre otros. \n",
    "- Ejm: Piense en los atributos que podría tener las clases Frutas, Carro"
   ]
  },
  {
   "cell_type": "markdown",
   "id": "13565ce4",
   "metadata": {
    "slideshow": {
     "slide_type": "subslide"
    }
   },
   "source": [
    "## 2.1 Inicializador de python (Constructor)\n",
    "\n",
    "Función \\__init\\__ es una función especial que se le puede colocar a una clase en Python. El objetivo fundamental de la función \\__init\\__ es inicializar los atributos del objeto que creamos.\n",
    "\n",
    "Características de la función \\__init\\__:\n",
    "- Se ejecuta inmediatamente luego de crear un objeto.\n",
    "- La función \\__init\\__ no puede retornar dato.\n",
    "- La función \\__init\\__ puede recibir parámetros que se utilizan normalmente para inicializar atributos.\n",
    "- La función \\__init\\__ es un método opcional, pero de todos modos es muy común declararlo.\n"
   ]
  },
  {
   "cell_type": "code",
   "execution_count": null,
   "id": "92fcb4a1",
   "metadata": {
    "slideshow": {
     "slide_type": "fragment"
    }
   },
   "outputs": [],
   "source": [
    "class Circulo:\n",
    "    def __init__(self):\n",
    "        print(\"Se creó un objeto\")\n",
    "           "
   ]
  },
  {
   "cell_type": "markdown",
   "id": "6e30ba04",
   "metadata": {
    "slideshow": {
     "slide_type": "subslide"
    }
   },
   "source": [
    "# Creando un objeto con __init__"
   ]
  },
  {
   "cell_type": "markdown",
   "id": "6fe56437",
   "metadata": {
    "slideshow": {
     "slide_type": "fragment"
    }
   },
   "source": [
    "- `self` es un parámetro que reciben la mayoría de las funciones definidas en las clases. Sirve para identificar el objeto actual.\n",
    "- Para crear un nuevo objeto Circulo se debe invocar el “nombre de la Clase” seguido por “()” -> Circulo(). Automáticamente se llamará la función init. Y aunque esa función recibe un parámetro (self), ese parámetro no hay que enviarlo, ya que Python lo carga automáticamente."
   ]
  },
  {
   "cell_type": "code",
   "execution_count": null,
   "id": "6e27d10b",
   "metadata": {
    "slideshow": {
     "slide_type": "fragment"
    }
   },
   "outputs": [],
   "source": [
    "class Circulo:\n",
    "    def __init__(self):\n",
    "        print(\"Se creó un objeto\")\n",
    "        \n",
    "circulo1 = Circulo()\n",
    "circulo2 = Circulo()"
   ]
  },
  {
   "cell_type": "markdown",
   "id": "7d3bc786",
   "metadata": {
    "slideshow": {
     "slide_type": "subslide"
    }
   },
   "source": [
    "# Agregando atributos\n",
    "Para invocar un atributo de instancia: $referenciaInstancia.atributoInstancia$\n",
    "\n",
    "<center><img src=\"Figures/S3-Circulo.png\" width=\"300\" height=\"300\"></center>"
   ]
  },
  {
   "cell_type": "code",
   "execution_count": null,
   "id": "d63b84e0",
   "metadata": {
    "slideshow": {
     "slide_type": "fragment"
    }
   },
   "outputs": [],
   "source": [
    "class Circulo:\n",
    "    def __init__(self):\n",
    "        self.radio = 8\n",
    "        self.descripcion = \"Hola Circulo\""
   ]
  },
  {
   "cell_type": "code",
   "execution_count": null,
   "id": "4d4fb291",
   "metadata": {
    "slideshow": {
     "slide_type": "fragment"
    }
   },
   "outputs": [],
   "source": [
    "circulo1 = Circulo()\n",
    "print(circulo1.radio) #Ojo: invocando un atributo de instancia\n",
    "print(circulo1.descripcion) #Ojo: invocando un atributo de instancia\n",
    "circulo2 = Circulo()\n",
    "print(circulo2.radio) #Ojo: invocando un atributo de instancia"
   ]
  },
  {
   "cell_type": "markdown",
   "id": "ffa93092",
   "metadata": {
    "slideshow": {
     "slide_type": "subslide"
    }
   },
   "source": [
    "## 2.1 Inicializador de python con parámetros\n",
    "- En el ejemplo anterior, todos los círculos quedaban con radio de 8.0. Sin embargo, en los sistemas reales, cada Circulo debería poder tener su propio radio.\n",
    "- Veamos como mejorar el sistema anterior para que a cada Circulo se puede asignar su propio radio."
   ]
  },
  {
   "cell_type": "code",
   "execution_count": null,
   "id": "50b243cc",
   "metadata": {
    "slideshow": {
     "slide_type": "fragment"
    }
   },
   "outputs": [],
   "source": [
    "class Circulo:\n",
    "    def __init__(self, radio):\n",
    "        self.radio = radio\n",
    "        self.descripcion = \"Hola Circulo\"\n",
    "\n",
    "circulo1 = Circulo(4)\n",
    "print(circulo1.radio) #Ojo: invocando un atributo\n",
    "print(circulo1.descripcion)\n",
    "circulo2 = Circulo(5)\n",
    "print(circulo2.radio)"
   ]
  },
  {
   "cell_type": "markdown",
   "id": "f85b2edf",
   "metadata": {
    "slideshow": {
     "slide_type": "subslide"
    }
   },
   "source": [
    "•\tEjercicio [AtributosPersona] -> Codifique el siguiente programa:\n",
    "- Cree los atributos para la clase Persona: (El atributo nacimiento se refiere al año de nacimiento)\n",
    "<center><img src=\"Figures/S3-AtributosClase.png\" width=\"500\" height=\"600\"></center>\n",
    "- Cree dos intancias de persona y envié parámetros diferentes.\n",
    "- Imprima la información de cada persona."
   ]
  },
  {
   "cell_type": "code",
   "execution_count": null,
   "id": "224367db",
   "metadata": {
    "slideshow": {
     "slide_type": "fragment"
    }
   },
   "outputs": [],
   "source": []
  },
  {
   "cell_type": "code",
   "execution_count": null,
   "id": "b17fb122",
   "metadata": {
    "slideshow": {
     "slide_type": "fragment"
    }
   },
   "outputs": [],
   "source": [
    "persona1 = Persona(\"Lina\", \"Mesa\", 1992) #Objeto persona1\n",
    "print(persona1)\n",
    "print(persona1.nombre)  #Ojo: invocando un atributo\n",
    "print(persona1.apellido)\n",
    "print(persona1.nacimiento)\n",
    "\n",
    "persona2 = Persona(\"Andrés\", \"Mesa\", 1990) #Objeto persona2\n",
    "print(persona1)\n",
    "print(persona1.nombre)  #Ojo: invocando un atributo\n",
    "print(persona1.apellido)\n",
    "print(persona1.nacimiento)"
   ]
  },
  {
   "cell_type": "markdown",
   "id": "38700468",
   "metadata": {
    "slideshow": {
     "slide_type": "slide"
    }
   },
   "source": [
    "# 3. Atributos de clase (static)\n",
    "Atributos pertenecientes a la clase, no depende de la existencia de los objetos y es compartida para todas las instancias."
   ]
  },
  {
   "cell_type": "code",
   "execution_count": null,
   "id": "94993d88",
   "metadata": {
    "slideshow": {
     "slide_type": "fragment"
    }
   },
   "outputs": [],
   "source": [
    "class Gafa:\n",
    "    def __init__(self, nombre, precio):\n",
    "        self.nombre = nombre\n",
    "        self.precio = precio\n",
    "        self.IVA = 0.19\n",
    "        self.ENVIO = 500\n",
    "    \n",
    "gafa1 = Gafa(\"Gafita1\",5000)\n",
    "print(gafa1.precioPagar())\n",
    "    "
   ]
  },
  {
   "cell_type": "markdown",
   "id": "721e30c2",
   "metadata": {
    "slideshow": {
     "slide_type": "subslide"
    }
   },
   "source": [
    "¿Algún comentario? Si creo 10000 gafas"
   ]
  },
  {
   "cell_type": "markdown",
   "id": "ca2ae164",
   "metadata": {
    "slideshow": {
     "slide_type": "fragment"
    }
   },
   "source": [
    "<center><img src=\"Figures/S3-GafaM.png\" width=\"700\" height=\"800\"></center>"
   ]
  },
  {
   "cell_type": "markdown",
   "id": "f6c3f29c",
   "metadata": {
    "slideshow": {
     "slide_type": "fragment"
    }
   },
   "source": [
    "Se gasta espacio en memoria repitiendo los mismos valores 20 o más veces\n"
   ]
  },
  {
   "cell_type": "code",
   "execution_count": null,
   "id": "83f537f7",
   "metadata": {
    "slideshow": {
     "slide_type": "subslide"
    }
   },
   "outputs": [],
   "source": [
    "class Gafa:    \n",
    "    IVA = 0.19\n",
    "    ENVIO = 500\n",
    "    \n",
    "    def __init__(self, nombre, precio):\n",
    "        self.nombre = nombre\n",
    "        self.precio = precio\n",
    "    \n",
    "gafa1 = Gafa(\"Gafita1\",5000)\n",
    "print(gafa1.precioPagar())"
   ]
  },
  {
   "cell_type": "markdown",
   "id": "f0f022bb",
   "metadata": {
    "slideshow": {
     "slide_type": "fragment"
    }
   },
   "source": [
    "Ahora los atributos ENVIO e IVA no le pertenecen a cada objeto, ahora se comparten por la clase.\n",
    "\n",
    "<center><img src=\"Figures/S3-GafaR.png\" width=\"700\" height=\"800\"></center>"
   ]
  },
  {
   "cell_type": "markdown",
   "id": "8e1e9c85",
   "metadata": {
    "slideshow": {
     "slide_type": "slide"
    }
   },
   "source": [
    "# 4. Agregando métodos\n",
    "Representan acciones o métodos. Cada objeto puede invocar o ejecutar diferentes tipos de acciones."
   ]
  },
  {
   "cell_type": "markdown",
   "id": "0279a403",
   "metadata": {
    "slideshow": {
     "slide_type": "subslide"
    }
   },
   "source": [
    "## Funciones\n",
    "- Tal como vimos en el diagrama de clases, nos quedaría faltando una zona para completar la transición, entre el diagrama de clases y el código. Esa zona es la zona de funciones. \n",
    "\n",
    "- En Python a las clases se les pueden asociar funciones, para hacer esto, basta con definir la función dentro del espacio de la definición de la clase.\n",
    "\n",
    "- Esa función estará disponible para todas las instancias pertenecientes a esa clase.\n",
    "\n",
    "<center><img src=\"Figures/S3-Circulo.png\" width=\"300\" height=\"300\"></center>"
   ]
  },
  {
   "cell_type": "code",
   "execution_count": null,
   "id": "5af56ed1",
   "metadata": {
    "slideshow": {
     "slide_type": "fragment"
    }
   },
   "outputs": [],
   "source": [
    "import math\n",
    "class Circulo: #Nombre de la clase\n",
    "    \n",
    "    descripcion = \"Hola Circulo\"\n",
    "    \n",
    "    #Atributos de intancia\n",
    "    def __init__(self, radio): \n",
    "        self.radio = radio\n",
    "        \n",
    "    #Métodos"
   ]
  },
  {
   "cell_type": "markdown",
   "id": "49471592",
   "metadata": {
    "slideshow": {
     "slide_type": "subslide"
    }
   },
   "source": [
    "## Sugerencia:\n",
    "- Siempre que vaya a invocar un atributo o método dentro de la misma clase, invóquela siguiendo el patrón:\n",
    "    - $self.nombreVariable $\n",
    "    - $self.nombreMetodo()$\n",
    "\n",
    "- Siempre que vaya a invocar un atributo de clase, invóquela siguiendo el patrón:\n",
    "    - $NombreClase.atributoDeClase$\n"
   ]
  },
  {
   "cell_type": "code",
   "execution_count": null,
   "id": "7e9c180a",
   "metadata": {
    "slideshow": {
     "slide_type": "fragment"
    }
   },
   "outputs": [],
   "source": [
    "circulo1 = Circulo(4)\n",
    "print(\"Radio - \",circulo1.radio) # Invocando un atributo de instancia\n",
    "print(\"Descripción 1 - \",Circulo.descripcion) # Invocando un atributo de clase ** la forma común\n",
    "print(\"Descripción 2 - \",circulo1.descripcion) # Invocando un atributo de clase\n",
    "\n",
    "print(\"Perimetro 1 - \",circulo1.getPerimetro()) # Invocando un método OPCION1 ** la forma común\n",
    "print(\"Perimetro 2 - \",Circulo.getPerimetro(circulo1)) # Invocando un método OPCION2\n",
    "print(circulo1.getArea())"
   ]
  },
  {
   "cell_type": "markdown",
   "id": "f2d006ab",
   "metadata": {
    "slideshow": {
     "slide_type": "subslide"
    }
   },
   "source": [
    "•\tEjercicio [precioPagarGafa] -> Codifique el siguiente programa:\n",
    "- Cree el método precioPagar() para la clase gafa, la cual debe ser el precio+iva+envio, y devuelva el total\n",
    "- Por fuera de la función cree dos instancias de gafa e invoque el método creado, finalmente imprima el resultado."
   ]
  },
  {
   "cell_type": "code",
   "execution_count": null,
   "id": "36068c29",
   "metadata": {
    "slideshow": {
     "slide_type": "fragment"
    }
   },
   "outputs": [],
   "source": [
    "class Gafa:\n",
    "    IVA = 0.19\n",
    "    ENVIO = 500\n",
    "    \n",
    "    def __init__(self, nombre, precio):\n",
    "        self.nombre = nombre\n",
    "        self.precio = precio\n",
    "    \n",
    "    #Método precioPagar()\n",
    "   \n",
    "gafa1 = Gafa(\"Gafita1\",5000)\n",
    "print(gafa1.precioPagar())\n",
    "\n",
    "gafa2 = Gafa(\"Gafota\",1005000)\n",
    "print(gafa2.precioPagar())"
   ]
  },
  {
   "cell_type": "markdown",
   "id": "72fb6862",
   "metadata": {
    "slideshow": {
     "slide_type": "subslide"
    }
   },
   "source": [
    "•\tEjercicio [MetodosPersona] -> Codifique el siguiente programa:\n",
    "- Cree los métodos para la clase Persona:\n",
    "    - getNacimiento() debe devolver el año de nacimiento de la persona.\n",
    "    - setNacimiento() debe modificar la fecha de nacimiento solo si la edad calculada de la nueva fecha es mayor o igual a 18 años, de no ser así imprima un mensaje que diga \"Cambio no realizado: no se permiten empleados menores de edad\".\n",
    "    - calcularEdad() debe calcular los años de la persona a partir de la fecha de nacimiento.\n",
    "    - imprimirInfo() debe devolver un string con la información de la persona (nombre, apellido y edad)\n",
    "<center><img src=\"Figures/S3-MetodosClase.png\" width=\"500\" height=\"600\"></center>\n",
    "- Cree dos intancias de persona y envié parámetros diferentes.\n",
    "- Invoque todos los métodos creados."
   ]
  },
  {
   "cell_type": "code",
   "execution_count": null,
   "id": "4861e1fd",
   "metadata": {
    "slideshow": {
     "slide_type": "fragment"
    }
   },
   "outputs": [],
   "source": []
  },
  {
   "cell_type": "code",
   "execution_count": null,
   "id": "dfcaa472",
   "metadata": {
    "slideshow": {
     "slide_type": "fragment"
    }
   },
   "outputs": [],
   "source": [
    "#from nombreArchivo import Persona # Si están en otro archivo\n",
    "\n",
    "persona1 = Persona(\"Lina\", \"Mesa\", 34)\n",
    "print(persona1.nombre)  \n",
    "print(persona1.apellido)\n",
    "#print(persona1.__edad) # Error\n",
    "print(persona1.getEdad())\n",
    "\n",
    "persona1.setEdad(12)\n",
    "print(persona1.toString())\n",
    "\n",
    "persona1.setEdad(25)\n",
    "print(persona1.toString())"
   ]
  },
  {
   "cell_type": "markdown",
   "id": "421007e0",
   "metadata": {
    "slideshow": {
     "slide_type": "slide"
    }
   },
   "source": [
    "# Clases en diferentes archivos\n",
    "Para importar la clase en otro archivos, hay dos formas:"
   ]
  },
  {
   "cell_type": "code",
   "execution_count": null,
   "id": "59b4066d",
   "metadata": {
    "slideshow": {
     "slide_type": "fragment"
    }
   },
   "outputs": [],
   "source": [
    "#Mi archivo se llama CirculoClass.py\n",
    "import math\n",
    "class Circulo: \n",
    "    \n",
    "    #Atributos de instancia\n",
    "    def __init__(self, radio): \n",
    "        self.radio = radio\n",
    "        self.descripcion = \"Hola Circulo\""
   ]
  },
  {
   "cell_type": "code",
   "execution_count": null,
   "id": "b1f7ab4f",
   "metadata": {
    "slideshow": {
     "slide_type": "fragment"
    }
   },
   "outputs": [],
   "source": [
    "import CirculoClass #Forma1\n",
    "from CirculoClass import Circulo #Forma2\n",
    "\n",
    "circulo1 = Circulo(4)\n",
    "print(circulo1.radio) #Ojo: invocando un atributo\n",
    "print(circulo1.descripcion)"
   ]
  },
  {
   "cell_type": "markdown",
   "id": "7bce788d",
   "metadata": {
    "slideshow": {
     "slide_type": "slide"
    }
   },
   "source": [
    "# Utilizando los métodos"
   ]
  },
  {
   "cell_type": "markdown",
   "id": "5fd22f39",
   "metadata": {
    "slideshow": {
     "slide_type": "subslide"
    }
   },
   "source": [
    "### Arreglo de objetos"
   ]
  },
  {
   "cell_type": "code",
   "execution_count": null,
   "id": "05aad2b6",
   "metadata": {
    "slideshow": {
     "slide_type": "fragment"
    }
   },
   "outputs": [],
   "source": [
    "circulo1 = Circulo(8.0)\n",
    "circulo2 = Circulo(5.0)\n",
    "circulo3 = Circulo(3.5)\n",
    "arregloCirculos = []\n",
    "arregloCirculos.append(circulo1)\n",
    "arregloCirculos.append(circulo2)\n",
    "arregloCirculos.append(circulo3)\n",
    "\n",
    "print(arregloCirculos)\n",
    "\n",
    "for circ in arregloCirculos:\n",
    "    print(circ.radio)\n",
    "\n",
    "print(arregloCirculos[0].radio)\n",
    "print(arregloCirculos[0].getPerimetro())"
   ]
  },
  {
   "cell_type": "markdown",
   "id": "e6af6508",
   "metadata": {
    "slideshow": {
     "slide_type": "subslide"
    }
   },
   "source": [
    "### Envió de arreglo a método"
   ]
  },
  {
   "cell_type": "code",
   "execution_count": null,
   "id": "d0e2e968",
   "metadata": {
    "slideshow": {
     "slide_type": "fragment"
    }
   },
   "outputs": [],
   "source": [
    "import math\n",
    "class Circulo: \n",
    "    descripcion = \"Hola Circulo\"   \n",
    "    def __init__(self, radio): \n",
    "        self.radio = radio\n",
    "    \n",
    "    def imprimirRadiosConIndice(arregloCirculos):\n",
    "        for x in range(len(arregloCirculos)): \n",
    "            print(f\"Radio del cículo {x+1} es {arregloCirculos[x].radio}\")        \n",
    "            \n",
    "    def imprimirRadiosSinIndice(arregloCirculos):\n",
    "        for circ in arregloCirculos: \n",
    "            print(\"Radio\",circ.radio)  \n",
    "           \n",
    "\n",
    "Circulo.imprimirRadiosConIndice(arregloCirculos)\n",
    "Circulo.imprimirRadiosSinIndice(arregloCirculos)"
   ]
  },
  {
   "cell_type": "markdown",
   "id": "a855b202",
   "metadata": {
    "slideshow": {
     "slide_type": "subslide"
    }
   },
   "source": [
    "### Métodos que reciben otros objetos"
   ]
  },
  {
   "cell_type": "code",
   "execution_count": null,
   "id": "db064c61",
   "metadata": {
    "slideshow": {
     "slide_type": "fragment"
    }
   },
   "outputs": [],
   "source": [
    "import math\n",
    "class Circulo: \n",
    "    descripcion = \"Hola Circulo\"   \n",
    "    def __init__(self, radio): \n",
    "        self.radio = radio\n",
    "    \n",
    "    def dobleCirculo(self,circ):\n",
    "        print(\"Radio del circulo que invoca\",self.radio)\n",
    "        print(\"Radio del circulo que recibo\",circ.radio)\n",
    "\n",
    "circulo1 = Circulo(8.0)\n",
    "circulo2 = Circulo(5.0)\n",
    "\n",
    "circulo1.dobleCirculo(circulo2)"
   ]
  },
  {
   "cell_type": "markdown",
   "id": "7182c256",
   "metadata": {
    "slideshow": {
     "slide_type": "subslide"
    }
   },
   "source": [
    "### Métodos que devuelven objetos"
   ]
  },
  {
   "cell_type": "code",
   "execution_count": null,
   "id": "5b77c763",
   "metadata": {
    "slideshow": {
     "slide_type": "fragment"
    }
   },
   "outputs": [],
   "source": [
    "class Circulo: \n",
    "    descripcion = \"Hola Circulo\"   \n",
    "    def __init__(self, radio): \n",
    "        self.radio = radio\n",
    "    \n",
    "    def nuevoCirculo(self):\n",
    "        nuevo = Circulo(self.radio*5)\n",
    "        return nuevo\n",
    "        \n",
    "\n",
    "circulo1 = Circulo(8.0)\n",
    "otroCirc = circulo1.nuevoCirculo()\n",
    "print(otroCirc.radio)"
   ]
  },
  {
   "cell_type": "markdown",
   "id": "98dbc8c5",
   "metadata": {
    "slideshow": {
     "slide_type": "slide"
    }
   },
   "source": [
    "# Visibilidad de los atributos y métodos\n",
    "Una clase revela sus métodos y atributos a otras clases usando visibilidad (encapsulamiento)\n",
    "Hay cuatro tipos diferentes de visibilidad que se pueden aplicar a los atributos y métodos de una clase (Publica “+”, Protegida, de Paquete y Privada “-”).\n",
    "\n",
    "| Python  || Java  ||  Objetivo |\n",
    "|  --   || -- || --|\n",
    "|     || + || Pública: accesible para todos|\n",
    "|  \\__  ||  -  || Privada: Solo podrá ser accedida o modificada por la misma clase|\n",
    "|  _   ||  # || Protegida: Establece que solo puede ser accedido por esa clase y sus sub-clases|\n"
   ]
  },
  {
   "cell_type": "code",
   "execution_count": null,
   "id": "e09c877e",
   "metadata": {
    "slideshow": {
     "slide_type": "fragment"
    }
   },
   "outputs": [],
   "source": [
    "import math\n",
    "class Circulo: \n",
    "    \n",
    "    def __init__(self, radio): \n",
    "        self.radio = radio\n",
    "        self.descripcion = \"Hola Circulo\"\n",
    "        \n",
    "    def getRadio(self):\n",
    "        return self.radio;\n",
    "    \n",
    "    def setRadio(self,radio):\n",
    "        if(radio >= 0):\n",
    "            self.radio = radio;\n",
    "        else:\n",
    "            print(\"No se puede asignar un radio negativo\")\n",
    "    \n",
    "circulo1 = Circulo(4)\n",
    "print(\"Antes del cambio: \",circulo1.radio)\n",
    "circulo1.radio = 8 #No debería permitir modificar la variable directamente\n",
    "print(\"Después del cambio: \",circulo1.radio)\n"
   ]
  },
  {
   "cell_type": "markdown",
   "id": "d30f3b19",
   "metadata": {
    "slideshow": {
     "slide_type": "subslide"
    }
   },
   "source": [
    "Para encapsular, básicamente tendremos que añadirle dos guiones bajos \"_ _ \" delante de la propiedad que queremos ocultar."
   ]
  },
  {
   "cell_type": "code",
   "execution_count": null,
   "id": "2caa5e82",
   "metadata": {
    "slideshow": {
     "slide_type": "fragment"
    }
   },
   "outputs": [],
   "source": [
    "import math\n",
    "class Circulo: \n",
    "    \n",
    "    def __init__(self, radio): \n",
    "        self.__radio = radio\n",
    "        self.descripcion = \"Hola Circulo\"\n",
    "        \n",
    "    def getRadio(self):\n",
    "        return self.__radio;\n",
    "    \n",
    "    def setRadio(self,radio):\n",
    "        if(radio >= 0):\n",
    "            self.__radio = radio;\n",
    "        else:\n",
    "            print(\"No se puede asignar un radio negativo\")\n",
    "    \n",
    "circulo1 = Circulo(4)\n",
    "#print(\"Error: \",circulo1.__radio)\n",
    "print(\"Error: \",circulo1.getRadio())\n",
    "\n",
    "circulo1.__radio = -10\n",
    "print(\"Radio: \",circulo1.getRadio())\n",
    "\n",
    "circulo1.setRadio(5)\n",
    "print(\"Radio: \",circulo1.getRadio())\n",
    "\n",
    "circulo1.setRadio(-10)"
   ]
  },
  {
   "cell_type": "markdown",
   "id": "eff79436",
   "metadata": {
    "slideshow": {
     "slide_type": "subslide"
    }
   },
   "source": [
    "•\tEjercicio [VisibilidadPersona] -> Codifique el siguiente programa:\n",
    "- Modifique la visibilidad del atributo nacimiento para que no pueda ser modificado por fuera de la clase.\n",
    "<center><img src=\"Figures/S3-VisibilidadClase.png\" width=\"300\" height=\"300\"></center>"
   ]
  },
  {
   "cell_type": "code",
   "execution_count": null,
   "id": "4d027f0d",
   "metadata": {
    "slideshow": {
     "slide_type": "fragment"
    }
   },
   "outputs": [],
   "source": []
  },
  {
   "cell_type": "markdown",
   "id": "fffab3c4",
   "metadata": {
    "slideshow": {
     "slide_type": "slide"
    }
   },
   "source": [
    "# Ejercicios"
   ]
  },
  {
   "cell_type": "markdown",
   "id": "e3da389f",
   "metadata": {
    "slideshow": {
     "slide_type": "subslide"
    }
   },
   "source": [
    "•\tEjercicio [PointClass] -> Codifique el siguiente programa:\n",
    "- Cree la estructura de la siguiente clase que nos permitirá almacenar las coordenadas en un plano carteasino.\n",
    "<center><img src=\"Figures/S3-PointClass.png\" width=\"300\" height=\"300\"></center>"
   ]
  },
  {
   "cell_type": "code",
   "execution_count": null,
   "id": "29112269",
   "metadata": {
    "slideshow": {
     "slide_type": "fragment"
    }
   },
   "outputs": [],
   "source": []
  },
  {
   "cell_type": "markdown",
   "id": "dbaecede",
   "metadata": {
    "slideshow": {
     "slide_type": "subslide"
    }
   },
   "source": [
    "•\tEjercicio [PointDistance] -> Codifique el siguiente programa:\n",
    "- Suponga que se le pide calcular la distancia entre dos puntos.\n",
    "- La formula es la siguiente:\n",
    "<center><img src=\"Figures/S3-PointDistance.png\" width=\"300\" height=\"300\"></center>\n",
    "- Cree la lógica del método distance. \n",
    "- Cree dos intancias de la clase Point y calcule la distancia entre los dos puntos."
   ]
  },
  {
   "cell_type": "code",
   "execution_count": null,
   "id": "87845166",
   "metadata": {
    "slideshow": {
     "slide_type": "fragment"
    }
   },
   "outputs": [],
   "source": []
  },
  {
   "cell_type": "markdown",
   "id": "12601675",
   "metadata": {
    "slideshow": {
     "slide_type": "subslide"
    }
   },
   "source": [
    "•\tEjercicio [PointMidP] -> Codifique el siguiente programa:\n",
    "- Suponga que queremos encontrar el punto medio entre dos puntos.\n",
    "<center><img src=\"Figures/S3-PointMedio.png\" width=\"300\" height=\"300\"></center>\n",
    "- Construya un método llamado midP() en la clase Point, que encuentre el punto medio entre dos puntos (debe recibir el objeto p como parámetro). Y la función deberá retornar un nuevo objeto (con las coordenadas x y y del punto medio) de la clase Point."
   ]
  },
  {
   "cell_type": "code",
   "execution_count": null,
   "id": "9c07ecc9",
   "metadata": {
    "slideshow": {
     "slide_type": "fragment"
    }
   },
   "outputs": [],
   "source": []
  },
  {
   "cell_type": "markdown",
   "id": "c41d70ac",
   "metadata": {
    "slideshow": {
     "slide_type": "subslide"
    }
   },
   "source": [
    "•\tEjercicio [Planetas] -> Codifique el siguiente programa:\n",
    "- Cree la siguiente clase en Python.\n",
    "- Cree el constructor que reciba el nombre y la masa, y los asigne a los atributos respectivos.\n",
    "- Por fuera de la clase, cree objetos de la clase Planeta y pruebe los métodos que crearon.\n",
    "<center><img src=\"Figures/S3-Planeta.png\" width=\"300\" height=\"300\"></center>"
   ]
  }
 ],
 "metadata": {
  "celltoolbar": "Slideshow",
  "kernelspec": {
   "display_name": "Python 3",
   "language": "python",
   "name": "python3"
  },
  "language_info": {
   "codemirror_mode": {
    "name": "ipython",
    "version": 3
   },
   "file_extension": ".py",
   "mimetype": "text/x-python",
   "name": "python",
   "nbconvert_exporter": "python",
   "pygments_lexer": "ipython3",
   "version": "3.9.0"
  },
  "rise": {
   "autolaunch": true,
   "backimage": "mybackimage.png",
   "scroll": true
  }
 },
 "nbformat": 4,
 "nbformat_minor": 5
}
