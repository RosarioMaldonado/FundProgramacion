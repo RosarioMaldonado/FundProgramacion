{
 "cells": [
  {
   "cell_type": "markdown",
   "id": "62a5f2f1",
   "metadata": {
    "slideshow": {
     "slide_type": "slide"
    }
   },
   "source": [
    "# 1. Interfaz Gráfica\n",
    "- Tkinter: kit de herramientas de la GUI de tk.\n",
    "\n",
    "- Widget: Término genérico para cualquiera de los componentes básicos que componen una aplicación en una interfaz gráfica de usuario."
   ]
  },
  {
   "cell_type": "code",
   "execution_count": null,
   "id": "c997ee2f",
   "metadata": {},
   "outputs": [],
   "source": [
    "from tkinter import *\n",
    "from tkinter import ttk\n",
    "\n",
    "window = Tk()\n",
    "window.title(\"Bienvenido\")\n",
    "window.geometry('300x400')\n",
    "\n",
    "#LABEL\n",
    "lbl = Label(window, text=\"Label\")\n",
    "lbl.grid(column=0, row=0)\n",
    "#LABEL\n",
    "lbl = Label(window, text=\"Hola, soy un Label\")\n",
    "lbl.grid(column=1, row=0)\n",
    "#LABEL\n",
    "lbl = Label(window, text=\"Entry\")\n",
    "lbl.grid(column=0, row=1)\n",
    "#ENTRY\n",
    "txt = Entry(window,width=10)\n",
    "txt.grid(column=1, row=1)\n",
    "#LABEL\n",
    "lbl = Label(window, text=\"Button\")\n",
    "lbl.grid(column=0, row=2)\n",
    "#BOTON\n",
    "btn = Button(window, text=\"Click Me\")\n",
    "btn.grid(column=1, row=2)\n",
    "#LABEL\n",
    "lbl = Label(window, text=\"Combobox\")\n",
    "lbl.grid(column=0, row=3)\n",
    "#COMBOBOX\n",
    "combo = ttk.Combobox(window)\n",
    "combo['values']= (1, 2, 3, 4, 5, \"Text\")\n",
    "combo.current(1) #set the selected item\n",
    "combo.grid(column=1, row=3)\n",
    "#LABEL\n",
    "lbl = Label(window, text=\"Checkbutton\")\n",
    "lbl.grid(column=0, row=5)\n",
    "#CHECKBUTTON\n",
    "chk_state = BooleanVar()\n",
    "chk_state.set(True) #set check state\n",
    "chk = Checkbutton(window, text='casilla de verificación', var=chk_state)\n",
    "chk.grid(column=1, row=5)\n",
    "#LABEL\n",
    "lbl = Label(window, text=\"Radiobutton\")\n",
    "lbl.grid(column=0, row=6)\n",
    "#RADIOBUTTONS\n",
    "frame_radios = Frame(window)\n",
    "r_selected = IntVar()\n",
    "rad1 = Radiobutton(frame_radios, text='First',  value=1, variable=r_selected)\n",
    "rad2 = Radiobutton(frame_radios, text='Second', value=2, variable=r_selected)\n",
    "rad3 = Radiobutton(frame_radios, text='Third',  value=3, variable=r_selected)\n",
    "rad1.grid(column=1, row=6)\n",
    "rad2.grid(column=1, row=7)\n",
    "rad3.grid(column=1, row=8)\n",
    "frame_radios.grid(column=1, row=6)\n",
    "#LABEL\n",
    "lbl = Label(window, text=\"Scala\")\n",
    "lbl.grid(column=0, row=7)\n",
    "#SCALA\n",
    "Scala = Scale(window, from_=0, to=10,orient=HORIZONTAL)\n",
    "Scala.grid(column=1, row=7)\n",
    "#LABEL\n",
    "lbl = Label(window, text=\"Listbox\")\n",
    "lbl.grid(column=0, row=8)\n",
    "#LISTBOX\n",
    "listbox = Listbox(window)  \n",
    "listbox.insert(1,\"Bread\")  \n",
    "listbox.insert(2, \"Milk\")  \n",
    "listbox.insert(3, \"Meat\")  \n",
    "listbox.insert(4, \"Cheese\")\n",
    "listbox.insert(5, \"Vegetables\")\n",
    "listbox.grid(column=1, row=8)\n",
    "\n",
    "window.mainloop()"
   ]
  },
  {
   "cell_type": "markdown",
   "id": "ae5527f3",
   "metadata": {},
   "source": [
    "## Ventana principal"
   ]
  },
  {
   "cell_type": "code",
   "execution_count": null,
   "id": "1bf9ba4c",
   "metadata": {},
   "outputs": [],
   "source": [
    "from tkinter import *\n",
    "from VehiculoPrincipal2 import *\n",
    "from Vehiculo import *\n",
    "\n",
    "window = Tk()\n",
    "window.title(\"PARQUEADERO\")\n",
    "window.geometry('800x350')\n",
    "\n",
    "window.mainloop()"
   ]
  }
 ],
 "metadata": {
  "celltoolbar": "Slideshow",
  "kernelspec": {
   "display_name": "Python 3",
   "language": "python",
   "name": "python3"
  },
  "language_info": {
   "codemirror_mode": {
    "name": "ipython",
    "version": 3
   },
   "file_extension": ".py",
   "mimetype": "text/x-python",
   "name": "python",
   "nbconvert_exporter": "python",
   "pygments_lexer": "ipython3",
   "version": "3.9.0"
  },
  "rise": {
   "autolaunch": true,
   "backimage": "mybackimage.png",
   "scroll": true
  }
 },
 "nbformat": 4,
 "nbformat_minor": 5
}
