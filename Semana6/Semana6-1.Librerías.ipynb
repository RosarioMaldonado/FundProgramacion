{
 "cells": [
  {
   "cell_type": "markdown",
   "id": "62a5f2f1",
   "metadata": {
    "slideshow": {
     "slide_type": "slide"
    }
   },
   "source": [
    "# 1. Introducción\n",
    "- También llamados módulos en Python, son un conjunto de implementaciones funcionales codificadas en un lenguaje de  programación. Ofrecen paquetes de código ya estructurados a modo de funciones que pueden ser usadas por el programador. \n",
    "- Las librerías no se ejecutan de manera autónoma, sino que es el programa que las invoca lo que les da a estas su respectivo uso a través de funciones denominadas métodos o funciones. Estas funciones son propias de cada librería, aunque algunas librerías requieran de otras para funcionar. \n",
    "- Para invocar una librería en Python se usa la palabra reservada ‘import’, y luego, dejando un espacio, se escribe el nombre de la librería..\n",
    "\n",
    "<center><img src=\"Figures/S6-Librerias.png\" width=\"600\" height=\"800\"></center>"
   ]
  },
  {
   "cell_type": "markdown",
   "id": "710741ac",
   "metadata": {
    "slideshow": {
     "slide_type": "subslide"
    }
   },
   "source": [
    "# Instalando librerías\n",
    "\n",
    "- Para utilizar una librería no instalada debe instalar usando el comando `pip`:\n",
    "    - Abrir la consola (Command prompt) como administrador \n",
    "    - Escribir el comando: `pip install nombreLibrería`\n",
    "    - Enter y esperar a que se instale.\n",
    "- Es importante que se importen las librerías al principio del programa; de esa manera se podrán identificar más  fácilmente y serán funcionales desde el principio. "
   ]
  },
  {
   "cell_type": "code",
   "execution_count": null,
   "id": "db93ee37",
   "metadata": {
    "slideshow": {
     "slide_type": "fragment"
    }
   },
   "outputs": [],
   "source": [
    "# Archivo llamado miLibreria.py\n",
    "def imprimir():\n",
    "    print(\"Holaaaa\")"
   ]
  },
  {
   "cell_type": "code",
   "execution_count": null,
   "id": "d623d5cc",
   "metadata": {
    "slideshow": {
     "slide_type": "fragment"
    }
   },
   "outputs": [],
   "source": [
    "import csv\n",
    "import mi_libreria \n",
    "\n",
    "miLibreria.imprimir()"
   ]
  },
  {
   "cell_type": "markdown",
   "id": "59e9d26c",
   "metadata": {
    "slideshow": {
     "slide_type": "slide"
    }
   },
   "source": [
    "# Ficheros\n",
    "- Hasta el momento todas las aplicaciones que hemos desarrollado son aplicaciones en las cuales los datos no persisten.\n",
    "\n",
    "- Esto quiere decir, que luego de que ejecutamos la aplicación, empezamos a agregar datos (crear productos por ejemplo), modificar información, y realizar impresiones. Sin embargo, cuando se detiene la ejecución de la aplicación, la información y los cambios realizados durante la ejecución de la aplicación se pierden.\n",
    "\n",
    "- En la vida real, las aplicaciones no funcionan así. Cada vez que se realiza un cambio, se agrega un producto, se elimina un producto, etc. Esa información se almacena en un fichero (archivo), o en una base de datos.\n",
    "\n",
    "- De esta manera la información persiste, y las aplicaciones se vuelven mas confiables. "
   ]
  },
  {
   "cell_type": "markdown",
   "id": "df14f9c7",
   "metadata": {
    "slideshow": {
     "slide_type": "subslide"
    }
   },
   "source": [
    "# Librería CSV\n",
    "- Esta librería nos permite crear, borrar, escribir y modificar fácilmente un archivo tipo tablas de Excel manejado por filas y columnas. \n"
   ]
  },
  {
   "cell_type": "code",
   "execution_count": null,
   "id": "a5db6e66",
   "metadata": {
    "slideshow": {
     "slide_type": "fragment"
    }
   },
   "outputs": [],
   "source": [
    "import csv"
   ]
  },
  {
   "cell_type": "markdown",
   "id": "a19f4df6",
   "metadata": {
    "slideshow": {
     "slide_type": "subslide"
    }
   },
   "source": [
    "### 1. Open \n",
    "- Python provee una función para abrir un archivo. \n",
    "- Esa función se llama open().\n",
    "- Debemos crear un archivo llamado notas.txt en el directorio del proyecto\n",
    "- Una vez creado el archivo y asignados los valores, podemos utilizar la función open para acceder a ese archivo, y posteriormente leer la información contenida."
   ]
  },
  {
   "cell_type": "code",
   "execution_count": null,
   "id": "c4a97536",
   "metadata": {
    "slideshow": {
     "slide_type": "fragment"
    }
   },
   "outputs": [],
   "source": [
    "import csv\n",
    "miArchivo = open(\"notas.txt\")\n",
    "miArchivo2 = open(\"notasExcel.csv\")"
   ]
  },
  {
   "cell_type": "markdown",
   "id": "d49ff324",
   "metadata": {
    "slideshow": {
     "slide_type": "subslide"
    }
   },
   "source": [
    "### 2. Read\n",
    "Para leer la información contenida en el archivo, basta con utilizar la variable que representa el archivo, y luego invocar la función read().\n",
    "La función read() retornará un string con el contenido del archivo."
   ]
  },
  {
   "cell_type": "code",
   "execution_count": null,
   "id": "a0f877a2",
   "metadata": {
    "scrolled": true,
    "slideshow": {
     "slide_type": "fragment"
    }
   },
   "outputs": [],
   "source": [
    "import csv\n",
    "miArchivo = open(\"notas.txt\")\n",
    "notasJuntas = miArchivo.read()\n",
    "print(notasJuntas)\n",
    "\n",
    "notasSeparadas = notasJuntas.split(\",\")\n",
    "print(notasSeparadas)"
   ]
  },
  {
   "cell_type": "code",
   "execution_count": null,
   "id": "951a7e15",
   "metadata": {
    "slideshow": {
     "slide_type": "subslide"
    }
   },
   "outputs": [],
   "source": [
    "miArchivo2 = open(\"notasExcel.csv\")\n",
    "print(miArchivo2.read())\n",
    "\n",
    "with open('C:/Users/USUARIO/Desktop/notasExcel.csv') as File:\n",
    "    reader = csv.reader(File) \n",
    "    for row in reader:\n",
    "        print(row)"
   ]
  },
  {
   "cell_type": "code",
   "execution_count": null,
   "id": "85195ff4",
   "metadata": {
    "slideshow": {
     "slide_type": "subslide"
    }
   },
   "outputs": [],
   "source": [
    "#with open('C:/Users/USUARIO/Desktop/notasExcel.csv') as File:\n",
    "with open('notasExcel.csv') as File:\n",
    "    reader = csv.reader(File)\n",
    "    headers = next(reader)\n",
    "    print(headers)\n",
    "    columns = len(headers)\n",
    "    s = [0]*columns\n",
    "    for row in reader:\n",
    "        for i in range(len(row)):\n",
    "            s[i] = s[i]+float(row[i])\n",
    "    print(s)"
   ]
  },
  {
   "cell_type": "markdown",
   "id": "7c94c909",
   "metadata": {
    "slideshow": {
     "slide_type": "slide"
    }
   },
   "source": [
    "# Iniciamos 8:05pm"
   ]
  },
  {
   "cell_type": "markdown",
   "id": "3438fd51",
   "metadata": {
    "slideshow": {
     "slide_type": "subslide"
    }
   },
   "source": [
    "## 3. Write"
   ]
  },
  {
   "cell_type": "code",
   "execution_count": null,
   "id": "c46a03fb",
   "metadata": {
    "slideshow": {
     "slide_type": "fragment"
    }
   },
   "outputs": [],
   "source": [
    "a = [[\"e1\",\"e2\",\"e3\"],[25,15,65]]\n",
    "import csv\n",
    "with open('prueba.csv', 'a', newline='') as file: #w: abre en modo escritura\n",
    "    writer = csv.writer(file)\n",
    "    for i in a:\n",
    "        #writer.writerow([i])#FILA\n",
    "        writer.writerowS([i])#COLUMNA"
   ]
  },
  {
   "cell_type": "markdown",
   "id": "281a54c5",
   "metadata": {
    "slideshow": {
     "slide_type": "subslide"
    }
   },
   "source": [
    "### Ejercicio\n",
    "- Crear el método descargarInfo() en la clase parqueadero. Está debe alamacenar la información de los vehiculos creados hasta el momento."
   ]
  },
  {
   "cell_type": "code",
   "execution_count": null,
   "id": "a56a264a",
   "metadata": {
    "slideshow": {
     "slide_type": "fragment"
    }
   },
   "outputs": [],
   "source": [
    "    def descargarArchivo(self):\n",
    "        with open('Parqueadero.csv', 'a', newline='') as file: #w: abre en modo escritura, a:agrega al final\n",
    "                writer = csv.writer(file)\n",
    "                for i in range(len(self.matriz)):\n",
    "                    for j in range(len(self.matriz[0])):\n",
    "                        if(self.matriz[i][j]==0):\n",
    "                            writer.writerow([f\"Piso {i}, Espacio {j} -> Está vacío, \\n\"])\n",
    "                        else:\n",
    "                            writer.writerow([f\"Piso {i}, Espacio {j} -> {self.matriz[i][j].info()}, \\n\"])\n",
    "    "
   ]
  },
  {
   "cell_type": "markdown",
   "id": "159d48aa",
   "metadata": {
    "slideshow": {
     "slide_type": "slide"
    }
   },
   "source": [
    "# Librería Tabulate\n",
    "- La librería tabulate nos permite extraer los datos de una lista, un diccionario o algún otro tipo de conjunto de datos y mostrarlos de manera ordenada. \n",
    "- Para utilizar una librería no instalada debe instalar usando el comando `pip`:\n",
    "    - Abrir la consola (Command prompt) como administrador \n",
    "    - Escribir el comando: `pip install tabulate`\n",
    "    - Enter y esperar a que se instale."
   ]
  },
  {
   "cell_type": "code",
   "execution_count": null,
   "id": "a2b721df",
   "metadata": {
    "slideshow": {
     "slide_type": "fragment"
    }
   },
   "outputs": [],
   "source": [
    "from tabulate import tabulate\n",
    "tabla = [[\"Sol\",696000,1989100000],[\"Tierra\",6371,5973.6], [\"Luna\",1737,73.5],[\"Marte\",3390,641.85]]\n",
    "print(tabulate(tabla))"
   ]
  },
  {
   "cell_type": "markdown",
   "id": "0ff69cf2",
   "metadata": {
    "slideshow": {
     "slide_type": "subslide"
    }
   },
   "source": [
    "Además de lo anterior, podemos agregar otro parámetro, \n",
    "llamado tablefmt, que significa formato de tabla y trae \n",
    "distintas formas de mostrarla: \n",
    "\"plain\", \"simple\", \"github\", \"grid\", \"fancy_grid\", \"pipe\", \n",
    "\"orgtbl\", \"jira\", \"presto\", \"pretty\", \"psql\", \"rst\", \"mediawiki\", \n",
    "\"moinmoin\", \"youtrack\", \"html\", \"latex\", \"latex_raw\", \"latex_\n",
    "booktabs\", \"textile\". "
   ]
  },
  {
   "cell_type": "code",
   "execution_count": null,
   "id": "bd183371",
   "metadata": {
    "slideshow": {
     "slide_type": "fragment"
    }
   },
   "outputs": [],
   "source": [
    "from tabulate import tabulate\n",
    "headers = [\"Ingrediente\", \"Cantidad\"]\n",
    "table = [[\"Sal\",42],[\"huevos\",451],[\"tocino\",0]] \n",
    "print(tabulate(table, headers, tablefmt=\"plain\"))"
   ]
  },
  {
   "cell_type": "markdown",
   "id": "61f29406",
   "metadata": {
    "slideshow": {
     "slide_type": "subslide"
    }
   },
   "source": [
    "# Diccionarios\n",
    "- Un diccionario es un tipo de datos que sirve para asociar pares de objetos.\n",
    "- Un diccionario puede ser visto como una colección de llaves, cada una de las cuales tiene asociada un valor. Las llaves no están ordenadas y no hay llaves repetidas. La única manera de acceder a un valor es a través de su llave."
   ]
  },
  {
   "cell_type": "code",
   "execution_count": 1,
   "id": "d52b7465",
   "metadata": {
    "slideshow": {
     "slide_type": "fragment"
    }
   },
   "outputs": [
    {
     "name": "stdout",
     "output_type": "stream",
     "text": [
      "Teléfono pepito 3443232\n",
      "Teléfono jaimito 4448139\n",
      "dict_items([('Pepito', 3443232), ('Jaimito', 4448139), ('Fulanito', 2340012)])\n",
      "dict_keys(['Pepito', 'Jaimito', 'Fulanito'])\n",
      "dict_values([3443232, 4448139, 2340012])\n"
     ]
    }
   ],
   "source": [
    "telefonos = {}\n",
    "\n",
    "telefonos = {'Pepito': 3443232, \n",
    "             'Jaimito': 1233211, \n",
    "             'Fulanito': 2340012}\n",
    "\n",
    "print(\"Teléfono pepito\",telefonos['Pepito'])\n",
    "telefonos['Jaimito'] = 4448139\n",
    "print(\"Teléfono jaimito\",telefonos['Jaimito'])\n",
    "\n",
    "print(telefonos.items()) #prints keys and values\n",
    "print(telefonos.keys()) #prints keys\n",
    "print(telefonos.values()) #prints values"
   ]
  },
  {
   "cell_type": "code",
   "execution_count": null,
   "id": "035a7d01",
   "metadata": {
    "slideshow": {
     "slide_type": "subslide"
    }
   },
   "outputs": [],
   "source": [
    "telefonos = {'Pepito': 3443232, \n",
    "             'Jaimito': 1233211, \n",
    "             'Fulanito': 2340012}\n",
    "\n",
    "print(\"Longitud\",len(telefonos))\n",
    "\n",
    "for i in telefonos:\n",
    "    print(i) \n",
    "print()\n",
    "for i in telefonos.values():\n",
    "    print(i)\n",
    "print()\n",
    "for key,value in telefonos.items():\n",
    "    print(key,value)"
   ]
  },
  {
   "cell_type": "code",
   "execution_count": null,
   "id": "f1f7dcf9",
   "metadata": {
    "slideshow": {
     "slide_type": "subslide"
    }
   },
   "outputs": [],
   "source": [
    "diccionario = {'nombre' : 'Carlos', \n",
    "               'edad' : 22, \n",
    "               'cursos': ['Python','Java','Node'] }\n",
    "\n",
    "print(diccionario['cursos'][0])\n",
    "print(diccionario['cursos'][1])\n",
    "print(diccionario['cursos'][2])\n",
    "\n",
    "diccionario[\"cursos\"].append(\"Angular\")\n",
    "\n",
    "print(diccionario)"
   ]
  },
  {
   "cell_type": "code",
   "execution_count": null,
   "id": "5d2b88ee",
   "metadata": {
    "slideshow": {
     "slide_type": "subslide"
    }
   },
   "outputs": [],
   "source": [
    "diccionario = {\"Nombre\": [\"Alice\", \"Bob\"], \n",
    "               \"Edad\": [24, 19]}\n",
    "print(tabulate(diccionario, headers=\"keys\"))"
   ]
  },
  {
   "cell_type": "markdown",
   "id": "975ab194",
   "metadata": {
    "slideshow": {
     "slide_type": "slide"
    }
   },
   "source": [
    "# Pandas\n",
    "Es una herramienta de manipulación de datos de alto \n",
    "nivel desarrollada por Wes McKinney. Es construido \n",
    "con el paquete Numpy y su estructura de datos clave se \n",
    "llama DataFrame. El DataFrame nos permite almacenar \n",
    "y manipular datos tabulados en filas de observaciones y \n",
    "columnas de variables. \n",
    "Pandas no permite tantas modificaciones y estilos como \n",
    "tabulate, pero hace dataFrames de una forma lógica sin \n",
    "necesidad de usar tantos parámetros:\n",
    "\n",
    "- Para utilizar una librería no instalada debe instalar usando el comando `pip`:\n",
    "    - Abrir la consola (Command prompt) como administrador \n",
    "    - Escribir el comando: `pip install pandas`\n",
    "    - Enter y esperar a que se instale."
   ]
  },
  {
   "cell_type": "code",
   "execution_count": null,
   "id": "53bc5c22",
   "metadata": {
    "slideshow": {
     "slide_type": "fragment"
    }
   },
   "outputs": [],
   "source": [
    "import pandas as pd\n",
    "import numpy as np\n",
    "\n",
    "dict = {\"country\": [\"Brazil\", \"Russia\", \"India\", \"China\", \"South Africa\"],\n",
    "        \"capital\": [\"Brasilia\", \"Moscow\", \"New Dehli\",\"Beijing\", \"Pretoria\"],\n",
    "        \"area\": [8.516, 17.10, 3.286, 9.597, 1.221],\n",
    "        \"population\": [200.4, 143.5, 1252, 1357, 52.98] }\n",
    "conjunto = pd.DataFrame(dict) \n",
    "print(conjunto)\n",
    "\n",
    "arreglo = pd.DataFrame(data=np.array([[1, 2, 3], [4, 5, 6], [7, 8, 9]]), index= [1, 2, 3], columns=[1, 2, 3])\n",
    "print(arreglo)"
   ]
  },
  {
   "cell_type": "markdown",
   "id": "525a976b",
   "metadata": {
    "slideshow": {
     "slide_type": "subslide"
    }
   },
   "source": [
    "### Buscando un registro\n",
    "- __loc[]__: está basado en etiquetas, lo que significa que debe especificar filas y columnas en función de sus etiquetas de fila y columna .\n",
    "- __iloc[]__: se basa en la posición entera, por lo que debe especificar filas y columnas por sus valores de posición entera (posición entera basada en 0)."
   ]
  },
  {
   "cell_type": "code",
   "execution_count": null,
   "id": "2b9075a4",
   "metadata": {
    "slideshow": {
     "slide_type": "fragment"
    }
   },
   "outputs": [],
   "source": [
    "#Buscando un registro\n",
    "#loc fuciona con los labels dados\n",
    "#iloc con los índices\n",
    "print(\"Buscanco el índice 3\",conjunto.loc[3])\n",
    "\n",
    "conjuntoIndices = pd.DataFrame(dict, index=['a','b','c','d','e']) \n",
    "print(\"Tabla con índices modificados\")\n",
    "print(conjuntoIndices)\n",
    "print(\"Buscando el registro con el índice a\")\n",
    "print(conjuntoIndices.loc[\"a\"])\n",
    "print(\"Buscando el registro con el índice 0\")\n",
    "print(conjuntoIndices.iloc[0])\n",
    "print()\n",
    "\n",
    "print(arreglo.loc[2])\n",
    "print(arreglo.iloc[2])"
   ]
  },
  {
   "cell_type": "markdown",
   "id": "fc397cf3",
   "metadata": {
    "slideshow": {
     "slide_type": "slide"
    }
   },
   "source": [
    "# Numpy\n",
    "Es un paquete de Python y significa “Numerical Python”. \n",
    "Es la librería principal para la informática científica, pues \n",
    "proporciona potentes estructuras de datos implementando \n",
    "matrices y matrices multidimensionales. Estas estructuras de \n",
    "datos garantizan cálculos eficientes con matrices. \n",
    "Con Numpy podemos realizar una gran variedad de \n",
    "operaciones matemáticas y estadísticas; por ejemplo, \n",
    "distintas operaciones con cada dato de un Array:"
   ]
  },
  {
   "cell_type": "code",
   "execution_count": null,
   "id": "bad49b71",
   "metadata": {
    "slideshow": {
     "slide_type": "fragment"
    }
   },
   "outputs": [],
   "source": [
    "import numpy as np\n",
    "z = np.array([5.6, 7.3, 7.7, 2.3, 4.2, 9.2])\n",
    "\n",
    "print(z.max()) # Valor máximo de los elementos del array\n",
    "print(z.min()) # Valor mínimo de los elementos del array\n",
    "print(z.mean()) # Valor medio de los elementos del array\n",
    "print(z.std()) # Desviación estándar de los elementos del array\n",
    "print(z.sum()) # Suma de todos los elementos del array\n",
    "print(np.median(z)) # Mediana de los elementos del array"
   ]
  }
 ],
 "metadata": {
  "celltoolbar": "Slideshow",
  "kernelspec": {
   "display_name": "Python 3",
   "language": "python",
   "name": "python3"
  },
  "language_info": {
   "codemirror_mode": {
    "name": "ipython",
    "version": 3
   },
   "file_extension": ".py",
   "mimetype": "text/x-python",
   "name": "python",
   "nbconvert_exporter": "python",
   "pygments_lexer": "ipython3",
   "version": "3.9.0"
  },
  "rise": {
   "autolaunch": true,
   "backimage": "mybackimage.png",
   "scroll": true
  }
 },
 "nbformat": 4,
 "nbformat_minor": 5
}
